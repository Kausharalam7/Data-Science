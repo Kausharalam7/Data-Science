{
  "nbformat": 4,
  "nbformat_minor": 0,
  "metadata": {
    "colab": {
      "provenance": [],
      "authorship_tag": "ABX9TyOr6cM4kbojPIFq9I798LKq",
      "include_colab_link": true
    },
    "kernelspec": {
      "name": "python3",
      "display_name": "Python 3"
    },
    "language_info": {
      "name": "python"
    }
  },
  "cells": [
    {
      "cell_type": "markdown",
      "metadata": {
        "id": "view-in-github",
        "colab_type": "text"
      },
      "source": [
        "<a href=\"https://colab.research.google.com/github/Kausharalam7/Data-Science/blob/main/Python.ipynb\" target=\"_parent\"><img src=\"https://colab.research.google.com/assets/colab-badge.svg\" alt=\"Open In Colab\"/></a>"
      ]
    },
    {
      "cell_type": "markdown",
      "source": [
        "**Variables**\n",
        "\n",
        "*   A variable is a name that refers to a value stored in memory.\n",
        "*   In Python, you don’t need to declare the data type explicitly (dynamic typing).\n",
        "\n",
        "Rules\n",
        "1.   Must start with a letter or underscore (_).\n",
        "2.   Cannot start with a number.\n",
        "3.   Can contain letters, digits, and underscores.\n",
        "4.   Case-sensitive (age, Age, and AGE are different).\n",
        "\n",
        "\n",
        "\n"
      ],
      "metadata": {
        "id": "M_TZR3O3EHvw"
      }
    },
    {
      "cell_type": "code",
      "source": [
        "x=10\n",
        "y=\"hell0\"\n",
        "z=3.14\n",
        "x=25\n",
        "print(x,y,z)"
      ],
      "metadata": {
        "colab": {
          "base_uri": "https://localhost:8080/"
        },
        "id": "nNWqnX83EBH3",
        "outputId": "ae5f8b79-2095-416e-9600-57264ed59f0c"
      },
      "execution_count": null,
      "outputs": [
        {
          "output_type": "stream",
          "name": "stdout",
          "text": [
            "25 hell0 3.14\n"
          ]
        }
      ]
    },
    {
      "cell_type": "markdown",
      "source": [
        "DATA TYPES\n"
      ],
      "metadata": {
        "id": "iKJRE_2tN4yA"
      }
    },
    {
      "cell_type": "code",
      "source": [
        "print(type(x))\n",
        "print(type(y))"
      ],
      "metadata": {
        "colab": {
          "base_uri": "https://localhost:8080/"
        },
        "id": "UfkvwVa2ECut",
        "outputId": "559a151a-f4c5-4bb6-c7eb-e7e61fd993cc"
      },
      "execution_count": null,
      "outputs": [
        {
          "output_type": "stream",
          "name": "stdout",
          "text": [
            "<class 'int'>\n",
            "<class 'str'>\n"
          ]
        }
      ]
    },
    {
      "cell_type": "markdown",
      "source": [
        "**Type Casting**\n",
        "1. Converting one data type into another.\n",
        "2. Implicit Casting: Python automatically converts smaller data type to larger."
      ],
      "metadata": {
        "id": "XTKuT-RqOJLo"
      }
    },
    {
      "cell_type": "code",
      "source": [
        "x=5\n",
        "y=4.5\n",
        "z=x+y\n",
        "print(z)"
      ],
      "metadata": {
        "colab": {
          "base_uri": "https://localhost:8080/"
        },
        "id": "rIyhOpILECxm",
        "outputId": "8fab3d10-ac8e-4aa5-b935-f54e223ac918"
      },
      "execution_count": null,
      "outputs": [
        {
          "output_type": "stream",
          "name": "stdout",
          "text": [
            "9.5\n"
          ]
        }
      ]
    },
    {
      "cell_type": "markdown",
      "source": [
        "Explicit Casting: You manually convert."
      ],
      "metadata": {
        "id": "S76VLueJOnlm"
      }
    },
    {
      "cell_type": "code",
      "source": [
        "a = int(3.9)\n",
        "b = float(5)\n",
        "c = str(100)\n",
        "print(a,b,c)"
      ],
      "metadata": {
        "colab": {
          "base_uri": "https://localhost:8080/"
        },
        "id": "zUsf4fDqEC0e",
        "outputId": "344f41c0-4018-4384-88a7-461cc12244e4"
      },
      "execution_count": null,
      "outputs": [
        {
          "output_type": "stream",
          "name": "stdout",
          "text": [
            "3 5.0 100\n"
          ]
        }
      ]
    },
    {
      "cell_type": "code",
      "source": [
        "name = \"Alice\"\n",
        "age = 25\n",
        "print(\"Name:\", name, \"Age:\", age)\n",
        "# OR modern way:\n",
        "print(f\"My name is {name} and I am {age} years old.\")\n"
      ],
      "metadata": {
        "colab": {
          "base_uri": "https://localhost:8080/"
        },
        "id": "4i6CHFzREC3T",
        "outputId": "74c105bf-b489-49cb-c18b-5b01e1960f95"
      },
      "execution_count": null,
      "outputs": [
        {
          "output_type": "stream",
          "name": "stdout",
          "text": [
            "Name: Alice Age: 25\n",
            "My name is Alice and I am 25 years old.\n"
          ]
        }
      ]
    },
    {
      "cell_type": "markdown",
      "source": [
        "Using input() (always returns a string by default):"
      ],
      "metadata": {
        "id": "H-LMfe_2QaTr"
      }
    },
    {
      "cell_type": "code",
      "source": [
        "age = input(\"Enter your age: \")\n",
        "print(type(age))"
      ],
      "metadata": {
        "colab": {
          "base_uri": "https://localhost:8080/"
        },
        "id": "wXm0ZZHGEC5v",
        "outputId": "5ecb69d7-fb03-446f-8340-11aa1df00928"
      },
      "execution_count": null,
      "outputs": [
        {
          "output_type": "stream",
          "name": "stdout",
          "text": [
            "Enter your age: \n",
            "<class 'str'>\n"
          ]
        }
      ]
    },
    {
      "cell_type": "code",
      "source": [
        "#Convert input to correct type:\n",
        "\n",
        "age = int(input(\"Enter your age: \"))\n",
        "print(age + 5)\n"
      ],
      "metadata": {
        "colab": {
          "base_uri": "https://localhost:8080/"
        },
        "id": "pCuwwmRLEC8j",
        "outputId": "1b76be14-7e3b-42db-ab6d-0366b60d93d4"
      },
      "execution_count": null,
      "outputs": [
        {
          "output_type": "stream",
          "name": "stdout",
          "text": [
            "Enter your age: 25\n",
            "30\n"
          ]
        }
      ]
    },
    {
      "cell_type": "code",
      "source": [
        "# / → normal division, returns float. // → floor division, returns integer part.\n",
        "a=10\n",
        "b=3\n",
        "print(a/b)\n",
        "print(a//b)\n",
        "print(a%b)"
      ],
      "metadata": {
        "colab": {
          "base_uri": "https://localhost:8080/"
        },
        "id": "7jvP3rD2EC_c",
        "outputId": "0a51d483-cac1-4bef-f8fa-a667c0e37c8d"
      },
      "execution_count": null,
      "outputs": [
        {
          "output_type": "stream",
          "name": "stdout",
          "text": [
            "3.3333333333333335\n",
            "3\n",
            "1\n"
          ]
        }
      ]
    },
    {
      "cell_type": "code",
      "source": [
        "x = 10\n",
        "print(x > 5 and x < 20)\n",
        "print(x > 15 or x < 5)\n",
        "print(not(x > 5))\n"
      ],
      "metadata": {
        "colab": {
          "base_uri": "https://localhost:8080/"
        },
        "id": "Gq0CJtXUEDCR",
        "outputId": "72ddd3c2-d051-4e97-a9b5-4e9241a14155"
      },
      "execution_count": null,
      "outputs": [
        {
          "output_type": "stream",
          "name": "stdout",
          "text": [
            "True\n",
            "False\n",
            "False\n"
          ]
        }
      ]
    },
    {
      "cell_type": "code",
      "source": [
        "# What is the difference between == and is?\n",
        "# == compares values, is compares object identity (memory location).\n",
        "\n",
        "a = [1, 2]\n",
        "b = [1, 2]\n",
        "print(a == b)\n",
        "print(a is b)"
      ],
      "metadata": {
        "id": "1gfdyYMOEDFD"
      },
      "execution_count": null,
      "outputs": []
    },
    {
      "cell_type": "code",
      "source": [
        "x=\"alamj\"\n",
        "x*=5\n",
        "print(x)"
      ],
      "metadata": {
        "colab": {
          "base_uri": "https://localhost:8080/"
        },
        "id": "2pObrwDVEDI4",
        "outputId": "8dbf78a3-e164-438e-89f7-81fb018b4526"
      },
      "execution_count": null,
      "outputs": [
        {
          "output_type": "stream",
          "name": "stdout",
          "text": [
            "alamjalamjalamjalamjalamj\n"
          ]
        }
      ]
    },
    {
      "cell_type": "markdown",
      "source": [
        "**Control Flow**"
      ],
      "metadata": {
        "id": "RzaRog_cJ22v"
      }
    },
    {
      "cell_type": "code",
      "source": [
        "x=50\n",
        "if x>70:\n",
        "  print(\"A\")\n",
        "elif x>60:\n",
        "  print(\"B\")\n",
        "elif x>50:\n",
        "  print(\"c\")\n",
        "else:\n",
        "  print(\"D\")"
      ],
      "metadata": {
        "colab": {
          "base_uri": "https://localhost:8080/"
        },
        "id": "XrxE8SWGEDOI",
        "outputId": "6af6a894-2c0f-403a-8731-375ff3b6e012"
      },
      "execution_count": null,
      "outputs": [
        {
          "output_type": "stream",
          "name": "stdout",
          "text": [
            "D\n"
          ]
        }
      ]
    },
    {
      "cell_type": "code",
      "source": [
        "for i in range(0,5):\n",
        "  print(i)"
      ],
      "metadata": {
        "colab": {
          "base_uri": "https://localhost:8080/"
        },
        "id": "IAqzhivJEDTd",
        "outputId": "2ec14f76-b3bf-4d24-f5b1-af62aff23512"
      },
      "execution_count": null,
      "outputs": [
        {
          "output_type": "stream",
          "name": "stdout",
          "text": [
            "0\n",
            "1\n",
            "2\n",
            "3\n",
            "4\n"
          ]
        }
      ]
    },
    {
      "cell_type": "code",
      "source": [
        "i=5\n",
        "while(i<20):\n",
        "  print(i)\n",
        "  i+=1"
      ],
      "metadata": {
        "colab": {
          "base_uri": "https://localhost:8080/"
        },
        "id": "eBvok_5REDVw",
        "outputId": "95e7b093-fd59-4982-a730-8a082264b1f3"
      },
      "execution_count": null,
      "outputs": [
        {
          "output_type": "stream",
          "name": "stdout",
          "text": [
            "5\n",
            "6\n",
            "7\n",
            "8\n",
            "9\n",
            "10\n",
            "11\n",
            "12\n",
            "13\n",
            "14\n",
            "15\n",
            "16\n",
            "17\n",
            "18\n",
            "19\n"
          ]
        }
      ]
    },
    {
      "cell_type": "code",
      "source": [
        "for i in range(1,1000):\n",
        "  if i==5:\n",
        "    break\n",
        "  print(i)"
      ],
      "metadata": {
        "colab": {
          "base_uri": "https://localhost:8080/"
        },
        "id": "MjVbM4M9EDYm",
        "outputId": "647c3442-21db-4e7c-84eb-0e940f4f727b"
      },
      "execution_count": null,
      "outputs": [
        {
          "output_type": "stream",
          "name": "stdout",
          "text": [
            "1\n",
            "2\n",
            "3\n",
            "4\n"
          ]
        }
      ]
    },
    {
      "cell_type": "code",
      "source": [
        "for i in range(1, 6):\n",
        "    if i == 3:\n",
        "        continue\n",
        "    print(i)"
      ],
      "metadata": {
        "colab": {
          "base_uri": "https://localhost:8080/"
        },
        "id": "_tbPVpG7EDbe",
        "outputId": "e33130b7-df49-473d-a64c-018b72e61beb"
      },
      "execution_count": null,
      "outputs": [
        {
          "output_type": "stream",
          "name": "stdout",
          "text": [
            "1\n",
            "2\n",
            "4\n",
            "5\n"
          ]
        }
      ]
    },
    {
      "cell_type": "code",
      "source": [
        "for i in range(5):\n",
        "    if i == 3:\n",
        "        pass  # do nothing for now\n",
        "    print(i)"
      ],
      "metadata": {
        "colab": {
          "base_uri": "https://localhost:8080/"
        },
        "id": "s6B8Mk1TEDen",
        "outputId": "8d552d0b-2154-4d4c-8693-475a1bbbe6ae"
      },
      "execution_count": null,
      "outputs": [
        {
          "output_type": "stream",
          "name": "stdout",
          "text": [
            "0\n",
            "1\n",
            "2\n",
            "3\n",
            "4\n"
          ]
        }
      ]
    },
    {
      "cell_type": "code",
      "source": [
        "# How to loop through both index and value of a list? --- Use enumerate().\n",
        "arr = [\"a\", \"b\", \"c\"]\n",
        "for i, val in enumerate(arr):\n",
        "    print(i, val)\n"
      ],
      "metadata": {
        "colab": {
          "base_uri": "https://localhost:8080/"
        },
        "id": "VDiZZZD2EDhh",
        "outputId": "228cef16-3610-42de-8cc1-858ad8d0f26b"
      },
      "execution_count": null,
      "outputs": [
        {
          "output_type": "stream",
          "name": "stdout",
          "text": [
            "0 a\n",
            "1 b\n",
            "2 c\n"
          ]
        }
      ]
    },
    {
      "cell_type": "markdown",
      "source": [
        "**LIST**\n",
        "1. Ordered collection of elements.\n",
        "2. Mutable → can change after creation.\n",
        "3. Allows duplicate values.\n",
        "4. Indexed (0-based)."
      ],
      "metadata": {
        "id": "AVoxoehDT8fK"
      }
    },
    {
      "cell_type": "code",
      "source": [
        "# creating list\n",
        "empty_list = []\n",
        "numbers = [1, 2, 3, 4]\n",
        "mixed = [10, \"hello\", 3.14, True]\n",
        "nested = [[1,2], [3,4]]\n",
        "\n",
        "print(mixed)\n",
        "print(nested)"
      ],
      "metadata": {
        "colab": {
          "base_uri": "https://localhost:8080/"
        },
        "id": "3reI0WHjEDkT",
        "outputId": "dac2a2b8-7cdf-4a64-8441-d0aec4ac91dc"
      },
      "execution_count": null,
      "outputs": [
        {
          "output_type": "stream",
          "name": "stdout",
          "text": [
            "[10, 'hello', 3.14, True]\n",
            "[[1, 2], [3, 4]]\n"
          ]
        }
      ]
    },
    {
      "cell_type": "code",
      "source": [
        "fruits = [\"apple\", \"banana\", \"cherry\", \"mango\"]\n",
        "fruits.append(\"orange\")       # adds at end\n",
        "fruits.insert(1, \"kiwi\")      # insert at index\n",
        "fruits.extend([\"pear\", \"fig\"])  # add multiple\n",
        "print(fruits)"
      ],
      "metadata": {
        "colab": {
          "base_uri": "https://localhost:8080/"
        },
        "id": "_NIa44HBEDmu",
        "outputId": "de407763-afbe-4725-ba4b-2b36fc9a312f"
      },
      "execution_count": null,
      "outputs": [
        {
          "output_type": "stream",
          "name": "stdout",
          "text": [
            "['apple', 'kiwi', 'banana', 'cherry', 'mango', 'orange', 'pear', 'fig']\n"
          ]
        }
      ]
    },
    {
      "cell_type": "code",
      "source": [
        "nums=[2,3,4,56,7]\n",
        "print(len(nums))\n",
        "print(max(nums))\n",
        "print(min(nums))\n",
        "print(sum(nums))"
      ],
      "metadata": {
        "colab": {
          "base_uri": "https://localhost:8080/"
        },
        "id": "wdgRiJOWEDqW",
        "outputId": "a53c864f-68ad-4b79-f86a-5452a8c5afa5"
      },
      "execution_count": null,
      "outputs": [
        {
          "output_type": "stream",
          "name": "stdout",
          "text": [
            "5\n",
            "56\n",
            "2\n",
            "72\n"
          ]
        }
      ]
    },
    {
      "cell_type": "code",
      "source": [
        "# inplace sort\n",
        "nums.sort()\n",
        "print(nums)"
      ],
      "metadata": {
        "colab": {
          "base_uri": "https://localhost:8080/"
        },
        "id": "nvjWy1bJEDyY",
        "outputId": "033a7ae2-7412-425c-ce8f-b7a668c9a19c"
      },
      "execution_count": null,
      "outputs": [
        {
          "output_type": "stream",
          "name": "stdout",
          "text": [
            "[2, 3, 4, 7, 56]\n"
          ]
        }
      ]
    },
    {
      "cell_type": "code",
      "source": [
        "# descending\n",
        "nums.sort(reverse=True)\n",
        "print(nums)"
      ],
      "metadata": {
        "colab": {
          "base_uri": "https://localhost:8080/"
        },
        "id": "9kxZiBU9EBKn",
        "outputId": "cc6bf9fe-78bf-4976-a879-e00d1db37aca"
      },
      "execution_count": null,
      "outputs": [
        {
          "output_type": "stream",
          "name": "stdout",
          "text": [
            "[56, 7, 4, 3, 2]\n"
          ]
        }
      ]
    },
    {
      "cell_type": "markdown",
      "source": [
        "**Tuple**\n",
        "* Ordered collection of elements.\n",
        "* Immutable → cannot change values after creation.\n",
        "* Can contain duplicates.\n",
        "* Faster than lists because of immutability.\n",
        "* Used when you want data to remain constant (e.g., coordinates, fixed values)."
      ],
      "metadata": {
        "id": "4f_dzMiTXe70"
      }
    },
    {
      "cell_type": "code",
      "source": [
        "# creating tuple\n",
        "empty_tuple=()\n",
        "numbers=(1,2,58,45,5)\n",
        "mixed=(\"rana\",True,3.45,35)\n",
        "print(mixed)\n",
        "\n",
        "# Single element type (must inlcude comma)\n",
        "single=(4,)"
      ],
      "metadata": {
        "colab": {
          "base_uri": "https://localhost:8080/"
        },
        "id": "hQ5HtoBKEBNS",
        "outputId": "ec402379-cf9d-40d3-b0ec-da337eb09ba9"
      },
      "execution_count": null,
      "outputs": [
        {
          "output_type": "stream",
          "name": "stdout",
          "text": [
            "('rana', True, 3.45, 35)\n"
          ]
        }
      ]
    },
    {
      "cell_type": "code",
      "source": [
        "fruits=(\"apple\",\"banana\",\"cherry\")\n",
        "#fruits[1]=\"lemon\"    Error (cannot modify)\n",
        "\n",
        "# But you can reassign entire tuple\n",
        "fruits = (\"kiwi\", \"orange\")\n",
        "print(fruits)"
      ],
      "metadata": {
        "colab": {
          "base_uri": "https://localhost:8080/"
        },
        "id": "8jRkWtzyEBQJ",
        "outputId": "6dc24cc8-82c7-4ae1-fda2-039a8c0ab993"
      },
      "execution_count": null,
      "outputs": [
        {
          "output_type": "stream",
          "name": "stdout",
          "text": [
            "('kiwi', 'orange')\n"
          ]
        }
      ]
    },
    {
      "cell_type": "code",
      "source": [
        "nums = (5, 2, 9, 1, 2)\n",
        "print(len(nums))\n",
        "print(max(nums))\n",
        "print(sum(nums))\n",
        "print(nums.count(12))\n",
        "print(nums.index(9))"
      ],
      "metadata": {
        "colab": {
          "base_uri": "https://localhost:8080/"
        },
        "id": "f1UaIKflEBSu",
        "outputId": "8f1bc44c-06a4-4e78-d7aa-828926a86bc3"
      },
      "execution_count": null,
      "outputs": [
        {
          "output_type": "stream",
          "name": "stdout",
          "text": [
            "5\n",
            "9\n",
            "19\n",
            "0\n",
            "2\n"
          ]
        }
      ]
    },
    {
      "cell_type": "markdown",
      "source": [
        "**Set**\n",
        "* Unordered collection of unique elements.\n",
        "* No duplicates allowed.\n",
        "* Mutable → can add/remove elements.\n",
        "* Unindexed → cannot access using index like lists/tuples.\n",
        "* Supports set operations → union, intersection, difference, symmetric difference."
      ],
      "metadata": {
        "id": "VUmpiZwrdOtM"
      }
    },
    {
      "cell_type": "code",
      "source": [
        "# creating set\n",
        "empty_set=set()\n",
        "numbers={1,2,3,4,5}\n",
        "mixed={10,\"alam\",True}\n",
        "print(mixed)"
      ],
      "metadata": {
        "colab": {
          "base_uri": "https://localhost:8080/"
        },
        "id": "VxzHOTjuEBV1",
        "outputId": "68cdbe08-8a02-4f86-c0e2-8b0711a6dd09"
      },
      "execution_count": null,
      "outputs": [
        {
          "output_type": "stream",
          "name": "stdout",
          "text": [
            "{'alam', True, 10}\n"
          ]
        }
      ]
    },
    {
      "cell_type": "code",
      "source": [
        "# no duplicates\n",
        "nums = {1, 2, 2, 3, 4, 4}\n",
        "print(nums)"
      ],
      "metadata": {
        "colab": {
          "base_uri": "https://localhost:8080/"
        },
        "id": "tyhy2EAqEBYd",
        "outputId": "533f4d24-9c88-401b-9b78-a1f6e99f1581"
      },
      "execution_count": null,
      "outputs": [
        {
          "output_type": "stream",
          "name": "stdout",
          "text": [
            "{1, 2, 3, 4}\n"
          ]
        }
      ]
    },
    {
      "cell_type": "code",
      "source": [
        "fruits = {\"apple\", \"banana\"}\n",
        "\n",
        "fruits.add(\"cherry\")       # Add single element\n",
        "fruits.update([\"mango\", \"kiwi\"])  # Add multiple\n",
        "\n",
        "fruits.remove(\"banana\")    # Removes, error if not found\n",
        "fruits.discard(\"grape\")    # Removes, no error if not found\n",
        "\n",
        "print(fruits.pop())        # Removes a random element\n",
        "fruits.clear()             # Removes all elements\n"
      ],
      "metadata": {
        "colab": {
          "base_uri": "https://localhost:8080/"
        },
        "id": "2rMgcipVEBbI",
        "outputId": "78aad864-7884-4db8-ca98-3245bfb44e28"
      },
      "execution_count": null,
      "outputs": [
        {
          "output_type": "stream",
          "name": "stdout",
          "text": [
            "apple\n"
          ]
        }
      ]
    },
    {
      "cell_type": "code",
      "source": [
        "A = {1, 2, 3, 4}\n",
        "B = {3, 4, 5, 6}\n",
        "\n",
        "print(A | B)\n",
        "print(A & B)\n",
        "print(A - B)\n",
        "print(A^B)"
      ],
      "metadata": {
        "colab": {
          "base_uri": "https://localhost:8080/"
        },
        "id": "sJrXP2TGEBeZ",
        "outputId": "c401e424-b919-41c1-8b23-5c19490d2d67"
      },
      "execution_count": null,
      "outputs": [
        {
          "output_type": "stream",
          "name": "stdout",
          "text": [
            "{1, 2, 3, 4, 5, 6}\n",
            "{3, 4}\n",
            "{1, 2}\n",
            "{1, 2, 5, 6}\n"
          ]
        }
      ]
    },
    {
      "cell_type": "markdown",
      "source": [
        "**Dictionaries**\n",
        "* Unordered collection of data stored as key-value pairs.\n",
        "* Mutable → can change values.\n",
        "* Keys must be unique and immutable (strings, numbers, tuples).\n",
        "* Values can be of any data type (even lists, sets, or another dictionary)."
      ],
      "metadata": {
        "id": "XCaUOQjYfpdW"
      }
    },
    {
      "cell_type": "code",
      "source": [
        "# creating dictionaries\n",
        "d={}\n",
        "\n",
        "student={\"name\": \"Amit\", \"age\": 22, \"marks\": 85}\n",
        "employee = dict(id=101, dept=\"HR\", salary=50000)\n",
        "\n",
        "print(student[\"name\"])\n",
        "print(employee[\"salary\"])"
      ],
      "metadata": {
        "id": "3kqggkBMEBh5",
        "colab": {
          "base_uri": "https://localhost:8080/"
        },
        "outputId": "c3c9408d-b5cd-407e-edf4-997f54c7a8c5"
      },
      "execution_count": null,
      "outputs": [
        {
          "output_type": "stream",
          "name": "stdout",
          "text": [
            "Amit\n",
            "50000\n"
          ]
        }
      ]
    },
    {
      "cell_type": "code",
      "source": [
        "# Accessing Values\n",
        "student = {\"name\": \"Amit\", \"age\": 22}\n",
        "\n",
        "print(student[\"name\"])\n",
        "print(student.get(\"age\"))\n",
        "print(student.get(\"grade\", \"Not Found\"))  # Default value if key not found"
      ],
      "metadata": {
        "colab": {
          "base_uri": "https://localhost:8080/"
        },
        "id": "p3gHEGX9HZPP",
        "outputId": "03dc3fac-5a2e-45a7-d049-bae0da7e8cac"
      },
      "execution_count": null,
      "outputs": [
        {
          "output_type": "stream",
          "name": "stdout",
          "text": [
            "Amit\n",
            "22\n",
            "Not Found\n"
          ]
        }
      ]
    },
    {
      "cell_type": "code",
      "source": [
        "# adding & updating values\n",
        "student[\"marks\"]=90\n",
        "student[\"age\"]=50\n",
        "print(student)"
      ],
      "metadata": {
        "colab": {
          "base_uri": "https://localhost:8080/"
        },
        "id": "muKgjecHHZSJ",
        "outputId": "3f194aec-e4f5-432e-bbb0-112c60417d0b"
      },
      "execution_count": null,
      "outputs": [
        {
          "output_type": "stream",
          "name": "stdout",
          "text": [
            "{'name': 'Amit', 'age': 50, 'marks': 90}\n"
          ]
        }
      ]
    },
    {
      "cell_type": "code",
      "source": [
        "print(student.keys())\n",
        "print(student.values())\n",
        "print(student.items())"
      ],
      "metadata": {
        "colab": {
          "base_uri": "https://localhost:8080/"
        },
        "id": "LMwLI5-3KrrY",
        "outputId": "ab625a7a-203a-4e07-c19d-81cf31f04551"
      },
      "execution_count": null,
      "outputs": [
        {
          "output_type": "stream",
          "name": "stdout",
          "text": [
            "dict_keys(['name', 'age', 'marks'])\n",
            "dict_values(['Amit', 50, 90])\n",
            "dict_items([('name', 'Amit'), ('age', 50), ('marks', 90)])\n"
          ]
        }
      ]
    },
    {
      "cell_type": "code",
      "source": [
        "# looping\n",
        "for k, v in student.items():\n",
        "    print(k, \":\", v)"
      ],
      "metadata": {
        "colab": {
          "base_uri": "https://localhost:8080/"
        },
        "id": "Y6roYo1MHZU-",
        "outputId": "3f3d666e-1cec-4366-f09d-4e70375c6941"
      },
      "execution_count": null,
      "outputs": [
        {
          "output_type": "stream",
          "name": "stdout",
          "text": [
            "name : Amit\n",
            "age : 50\n",
            "marks : 90\n"
          ]
        }
      ]
    },
    {
      "cell_type": "code",
      "source": [
        "# nesting dictionaries\n",
        "students = {\n",
        "    \"s1\": {\"name\": \"Amit\", \"marks\": 85},\n",
        "    \"s2\": {\"name\": \"Neha\", \"marks\": 92}\n",
        "}\n",
        "\n",
        "print(students[\"s1\"][\"name\"])"
      ],
      "metadata": {
        "colab": {
          "base_uri": "https://localhost:8080/"
        },
        "id": "HUw3CyaQHZX5",
        "outputId": "a2b82f87-e949-4326-c497-9907907d66af"
      },
      "execution_count": null,
      "outputs": [
        {
          "output_type": "stream",
          "name": "stdout",
          "text": [
            "Amit\n"
          ]
        }
      ]
    },
    {
      "cell_type": "code",
      "source": [
        "# Dictionary Comprehension\n",
        "squares = {x: x**2 for x in range(1, 6)}\n",
        "print(squares)"
      ],
      "metadata": {
        "colab": {
          "base_uri": "https://localhost:8080/"
        },
        "id": "rqGSYk__HZbk",
        "outputId": "0a170121-9617-4368-9baa-f54f58501fb3"
      },
      "execution_count": null,
      "outputs": [
        {
          "output_type": "stream",
          "name": "stdout",
          "text": [
            "{1: 1, 2: 4, 3: 9, 4: 16, 5: 25}\n"
          ]
        }
      ]
    },
    {
      "cell_type": "markdown",
      "source": [
        "**Function**"
      ],
      "metadata": {
        "id": "Ln6MXNKJWHQk"
      }
    },
    {
      "cell_type": "code",
      "source": [
        "def greet():\n",
        "  print(\"Kaushar alam\")\n",
        "greet()"
      ],
      "metadata": {
        "colab": {
          "base_uri": "https://localhost:8080/"
        },
        "id": "2bfyiPPYHZec",
        "outputId": "171eaf54-06aa-414c-8f9c-6f209305229b"
      },
      "execution_count": null,
      "outputs": [
        {
          "output_type": "stream",
          "name": "stdout",
          "text": [
            "Kaushar alam\n"
          ]
        }
      ]
    },
    {
      "cell_type": "code",
      "source": [
        "def greet(role):\n",
        "  print(f\"Hello, {role}\")\n",
        "greet(\"Data Analyst\")\n",
        "greet(5)"
      ],
      "metadata": {
        "colab": {
          "base_uri": "https://localhost:8080/"
        },
        "id": "C4Eck4quHZhQ",
        "outputId": "74ba8d00-3c84-47e9-a5e5-be321907e1d1"
      },
      "execution_count": null,
      "outputs": [
        {
          "output_type": "stream",
          "name": "stdout",
          "text": [
            "Hello, Data Analyst\n",
            "Hello, 5\n"
          ]
        }
      ]
    },
    {
      "cell_type": "markdown",
      "source": [
        "Types of Parameters:\n",
        "\n",
        "Positional → Order matters\n",
        "\n",
        "Default → Parameter has default value\n",
        "\n",
        "Keyword → Call by name\n",
        "\n",
        "Variable-length → *args, **kwargs"
      ],
      "metadata": {
        "id": "aGqR86gxXlgf"
      }
    },
    {
      "cell_type": "code",
      "source": [
        "# Positional\n",
        "def add(a, b):\n",
        "    return a + b\n",
        "print(add(2, 3))\n",
        "\n",
        "# Default\n",
        "def greet(name=\"Analyst\"):\n",
        "    print(f\"Hello, {name}!\")\n",
        "greet()\n",
        "\n",
        "# Keyword\n",
        "print(add(b=5, a=10))\n"
      ],
      "metadata": {
        "colab": {
          "base_uri": "https://localhost:8080/"
        },
        "id": "roKj975LHZkX",
        "outputId": "cd1acee2-0aaf-47c4-d390-7fcdae4a20e1"
      },
      "execution_count": null,
      "outputs": [
        {
          "output_type": "stream",
          "name": "stdout",
          "text": [
            "5\n",
            "Hello, Analyst!\n",
            "15\n",
            "10\n",
            "Name : Kaushar\n",
            "Role : Data Analyst\n"
          ]
        }
      ]
    },
    {
      "cell_type": "code",
      "source": [
        "#args (Variable Positional Arguments)\n",
        "#Used to pass multiple values without defining fixed parameters.\n",
        "#They are stored as a tuple.\n",
        "# *args (tuple of values)\n",
        "\n",
        "def total(*nums):\n",
        "    return sum(nums)\n",
        "print(total(1, 2, 3, 4))"
      ],
      "metadata": {
        "colab": {
          "base_uri": "https://localhost:8080/"
        },
        "id": "zOiq7Wg3HZnZ",
        "outputId": "13afe670-5cef-40a7-cdd0-372f7ef162dc"
      },
      "execution_count": null,
      "outputs": [
        {
          "output_type": "stream",
          "name": "stdout",
          "text": [
            "10\n"
          ]
        }
      ]
    },
    {
      "cell_type": "code",
      "source": [
        "# kwargs (Variable Keyword Arguments)\n",
        "# Used when you want to accept multiple key-value pairs.\n",
        "# They are stored as a dictionary.\n",
        "\n",
        "def info(**data):\n",
        "    for k, v in data.items():\n",
        "        print(k, \":\", v)\n",
        "\n",
        "info(Name=\"Kaushar\", Role=\"Data Analyst\")"
      ],
      "metadata": {
        "id": "YcvR5w8oHZqZ"
      },
      "execution_count": null,
      "outputs": []
    },
    {
      "cell_type": "code",
      "source": [
        "# Lambda Functions (Anonymous Functions)\n",
        "# Created using lambda keyword.\n",
        "# Can have any number of arguments, but only one expression.\n",
        "# Used when you need a short function temporarily.\n",
        "\n",
        "# Normal function\n",
        "def square(x):\n",
        "  return x*x\n",
        "\n",
        "# lambda equivalent\n",
        "square=lambda x:x*x\n",
        "print(square(5))\n",
        "\n",
        "add = lambda a, b: a + b\n",
        "print(add(3, 7))\n"
      ],
      "metadata": {
        "colab": {
          "base_uri": "https://localhost:8080/"
        },
        "id": "2LdOLQpqHZtL",
        "outputId": "bd840901-44e3-4000-de42-6d3b43b2325b"
      },
      "execution_count": null,
      "outputs": [
        {
          "output_type": "stream",
          "name": "stdout",
          "text": [
            "25\n",
            "10\n"
          ]
        }
      ]
    },
    {
      "cell_type": "markdown",
      "source": [
        "**File Handling**"
      ],
      "metadata": {
        "id": "_mKPedr-bntd"
      }
    },
    {
      "cell_type": "code",
      "source": [
        "# Opening files --- Python uses the built-in open() function:\n",
        "f = open(\"example.txt\", \"r\")\n",
        "\n"
      ],
      "metadata": {
        "id": "Cf3AczdxHZwd"
      },
      "execution_count": null,
      "outputs": []
    },
    {
      "cell_type": "markdown",
      "source": [
        "Modes:\n",
        "\n",
        "\"r\" → Read (default, error if file doesn’t exist)\n",
        "\n",
        "\"w\" → Write (creates new or overwrites existing file)\n",
        "\n",
        "\"a\" → Append (adds content at the end of file)\n",
        "\n",
        "\"x\" → Create (error if file exists)\n",
        "\n",
        "\"b\" → Binary mode (rb, wb) for non-text files (images, PDFs)\n",
        "\n",
        " Best Practice: Use with statement (auto-closes file)."
      ],
      "metadata": {
        "id": "o3ZR_PQIcHD4"
      }
    },
    {
      "cell_type": "code",
      "source": [
        "with open(\"/content/orders (1).csv\",\"r\") as f:\n",
        "  content=f.read()\n",
        "  print(content)"
      ],
      "metadata": {
        "colab": {
          "base_uri": "https://localhost:8080/"
        },
        "id": "Unq8wej-HZzr",
        "outputId": "c0290720-eebe-4d4e-bd83-686d1d1ad343"
      },
      "execution_count": null,
      "outputs": [
        {
          "output_type": "stream",
          "name": "stdout",
          "text": [
            "order_id,order_date,ship_date,ship_mode,customer_id,region,product_id,category,sales,quantity,profit\n",
            "CA-2020-152156,08-11-2020,11-11-2020,Second Class,CG-12520,South,FUR-BO-10001798,Furniture,262,2,41.9\n",
            "CA-2020-152156,08-11-2020,11-11-2020,Second Class,CG-12520,South,FUR-CH-10000454,Furniture,731.9,3,219.6\n",
            "CA-2020-138688,12-06-2020,16-06-2020,Second Class,DV-13045,West,OFF-LA-10000240,Office Supplies,14.6,2,6.9\n",
            "US-2019-108966,11-10-2019,18-10-2019,Standard Class,SO-20335,South,FUR-TA-10000577,Furniture,957.6,5,-383\n",
            "US-2019-108966,11-10-2019,18-10-2019,Standard Class,SO-20335,South,OFF-ST-10000760,Office Supplies,22.4,2,2.5\n",
            "CA-2018-115812,09-06-2018,14-06-2018,Standard Class,BH-11710,West,FUR-FU-10001487,Furniture,48.9,7,14.2\n",
            "CA-2018-115812,09-06-2018,14-06-2018,Standard Class,BH-11710,West,OFF-AR-10002833,Office Supplies,7.3,4,2\n",
            "CA-2018-115812,09-06-2018,14-06-2018,Standard Class,BH-11710,West,TEC-PH-10002275,Technology,907.2,6,90.7\n",
            "CA-2018-115812,09-06-2018,14-06-2018,Standard Class,BH-11710,West,OFF-BI-10003910,Office Supplies,18.5,3,5.8\n",
            "CA-2018-115812,09-06-2018,14-06-2018,Standard Class,BH-11710,West,OFF-AP-10002892,Office Supplies,114.9,5,34.5\n",
            "CA-2018-115812,09-06-2018,14-06-2018,Standard Class,BH-11710,West,FUR-TA-10001539,Furniture,1706.2,9,85.3\n",
            "CA-2018-115812,09-06-2018,14-06-2018,Standard Class,BH-11710,West,TEC-PH-10002033,Technology,911.4,4,68.4\n",
            "CA-2021-114412,15-04-2021,20-04-2021,Standard Class,AA-10480,South,OFF-PA-10002365,Office Supplies,15.6,3,5.4\n",
            "CA-2020-161389,05-12-2020,10-12-2020,Standard Class,IM-15070,West,OFF-BI-10003656,Office Supplies,408,3,132.6\n",
            "US-2019-118983,22-11-2019,26-11-2019,Standard Class,HP-14815,Central,OFF-AP-10002311,Office Supplies,68.8,5,-123.9\n",
            "US-2019-118983,22-11-2019,26-11-2019,Standard Class,HP-14815,Central,OFF-BI-10000756,Office Supplies,2.5,3,-3.8\n",
            "CA-2018-105893,11-11-2018,18-11-2018,Standard Class,PK-19075,Central,OFF-ST-10004186,Office Supplies,665.9,6,13.3\n",
            "CA-2018-167164,13-05-2018,15-05-2018,Second Class,AG-10270,West,OFF-ST-10000107,Office Supplies,55.5,2,10\n",
            "CA-2018-143336,27-08-2018,01-09-2018,Second Class,ZD-21925,West,OFF-AR-10003056,Office Supplies,8.6,2,2.5\n",
            "CA-2018-143336,27-08-2018,01-09-2018,Second Class,ZD-21925,West,TEC-PH-10001949,Technology,213.5,3,16\n",
            "CA-2018-143336,27-08-2018,01-09-2018,Second Class,ZD-21925,West,OFF-BI-10002215,Office Supplies,22.7,4,7.4\n",
            "CA-2020-137330,09-12-2020,13-12-2020,Standard Class,KB-16585,Central,OFF-AR-10000246,Office Supplies,19.5,7,5.1\n",
            "CA-2020-137330,09-12-2020,13-12-2020,Standard Class,KB-16585,Central,OFF-AP-10001492,Office Supplies,60.3,7,15.7\n",
            "US-2021-156909,16-07-2021,18-07-2021,Second Class,SF-20065,East,FUR-CH-10002774,Furniture,71.4,2,-1\n",
            "CA-2019-106320,25-09-2019,30-09-2019,Standard Class,EB-13870,West,FUR-TA-10000577,Furniture,1044.6,3,240.3\n",
            "CA-2020-121755,16-01-2020,20-01-2020,Second Class,EH-13945,West,OFF-BI-10001634,Office Supplies,11.6,2,4.2\n",
            "CA-2020-121755,16-01-2020,20-01-2020,Second Class,EH-13945,West,TEC-AC-10003027,Technology,90.6,3,11.8\n",
            "US-2019-150630,17-09-2019,21-09-2019,Standard Class,TB-21520,East,FUR-BO-10004834,Furniture,3083.4,7,-1665.1\n",
            "US-2019-150630,17-09-2019,21-09-2019,Standard Class,TB-21520,East,OFF-BI-10000474,Office Supplies,9.6,2,-7.1\n",
            "US-2019-150630,17-09-2019,21-09-2019,Standard Class,TB-21520,East,FUR-FU-10004848,Furniture,124.2,3,15.5\n",
            "US-2019-150630,17-09-2019,21-09-2019,Standard Class,TB-21520,East,OFF-EN-10001509,Office Supplies,3.3,2,1.1\n",
            "US-2019-150630,17-09-2019,21-09-2019,Standard Class,TB-21520,East,OFF-AR-10004042,Office Supplies,86.3,6,9.7\n",
            "US-2019-150630,17-09-2019,21-09-2019,Standard Class,TB-21520,East,OFF-BI-10001525,Office Supplies,6.9,6,-5.7\n",
            "US-2019-150630,17-09-2019,21-09-2019,Standard Class,TB-21520,East,OFF-AR-10001683,Office Supplies,15.8,2,3.5\n",
            "CA-2021-107727,19-10-2021,23-10-2021,Second Class,MA-17560,Central,OFF-PA-10000249,Office Supplies,29.5,3,9.9\n",
            "CA-2020-117590,08-12-2020,10-12-2020,First Class,GH-14485,Central,TEC-PH-10004977,Technology,1097.5,7,123.5\n",
            "CA-2020-117590,08-12-2020,10-12-2020,First Class,GH-14485,Central,FUR-FU-10003664,Furniture,190.9,5,-148\n",
            "CA-2019-117415,27-12-2019,31-12-2019,Standard Class,SN-20710,Central,OFF-EN-10002986,Office Supplies,113.3,9,35.4\n",
            "CA-2019-117415,27-12-2019,31-12-2019,Standard Class,SN-20710,Central,FUR-BO-10002545,Furniture,532.4,3,-47\n",
            "CA-2019-117415,27-12-2019,31-12-2019,Standard Class,SN-20710,Central,FUR-CH-10004218,Furniture,212.1,3,-15.1\n",
            "CA-2019-117415,27-12-2019,31-12-2019,Standard Class,SN-20710,Central,TEC-PH-10000486,Technology,371.2,4,41.8\n",
            "CA-2021-120999,10-09-2021,15-09-2021,Standard Class,LC-16930,Central,TEC-PH-10004093,Technology,147.2,4,16.6\n",
            "CA-2020-101343,17-07-2020,22-07-2020,Standard Class,RA-19885,West,OFF-ST-10003479,Office Supplies,77.9,2,3.9\n",
            "CA-2021-139619,19-09-2021,23-09-2021,Standard Class,ES-14080,South,OFF-ST-10003282,Office Supplies,95.6,2,9.6\n",
            "CA-2020-118255,11-03-2020,13-03-2020,First Class,ON-18715,Central,TEC-AC-10000171,Technology,46,2,19.8\n",
            "CA-2020-118255,11-03-2020,13-03-2020,First Class,ON-18715,Central,OFF-BI-10003291,Office Supplies,17.5,2,8.2\n",
            "CA-2018-146703,20-10-2018,25-10-2018,Second Class,PO-18865,Central,OFF-ST-10001713,Office Supplies,212,4,8.5\n",
            "CA-2020-169194,20-06-2020,25-06-2020,Standard Class,LH-16900,East,TEC-AC-10002167,Technology,45,3,5\n",
            "CA-2020-169194,20-06-2020,25-06-2020,Standard Class,LH-16900,East,TEC-PH-10003988,Technology,21.8,2,6.1\n",
            "CA-2019-115742,18-04-2019,22-04-2019,Standard Class,DP-13000,Central,OFF-BI-10004410,Office Supplies,38.2,6,18\n",
            "\n"
          ]
        }
      ]
    },
    {
      "cell_type": "markdown",
      "source": [
        "**Exception Handling**"
      ],
      "metadata": {
        "id": "RqmDUVureCWK"
      }
    },
    {
      "cell_type": "code",
      "source": [
        "# What are Exceptions? --- Errors occur when Python cannot execute code properly.\n",
        "print(10/0)\n"
      ],
      "metadata": {
        "colab": {
          "base_uri": "https://localhost:8080/",
          "height": 158
        },
        "id": "hVbXAVtaHZ3A",
        "outputId": "f2c4168d-5235-4897-a672-fb606bcdaf55"
      },
      "execution_count": null,
      "outputs": [
        {
          "output_type": "error",
          "ename": "ZeroDivisionError",
          "evalue": "division by zero",
          "traceback": [
            "\u001b[0;31m---------------------------------------------------------------------------\u001b[0m",
            "\u001b[0;31mZeroDivisionError\u001b[0m                         Traceback (most recent call last)",
            "\u001b[0;32m/tmp/ipython-input-1529943699.py\u001b[0m in \u001b[0;36m<cell line: 0>\u001b[0;34m()\u001b[0m\n\u001b[1;32m      1\u001b[0m \u001b[0;31m# What are Exceptions? --- Errors occur when Python cannot execute code properly.\u001b[0m\u001b[0;34m\u001b[0m\u001b[0;34m\u001b[0m\u001b[0m\n\u001b[0;32m----> 2\u001b[0;31m \u001b[0mprint\u001b[0m\u001b[0;34m(\u001b[0m\u001b[0;36m10\u001b[0m\u001b[0;34m/\u001b[0m\u001b[0;36m0\u001b[0m\u001b[0;34m)\u001b[0m\u001b[0;34m\u001b[0m\u001b[0;34m\u001b[0m\u001b[0m\n\u001b[0m",
            "\u001b[0;31mZeroDivisionError\u001b[0m: division by zero"
          ]
        }
      ]
    },
    {
      "cell_type": "code",
      "source": [
        "int(abc) # valueerror"
      ],
      "metadata": {
        "colab": {
          "base_uri": "https://localhost:8080/",
          "height": 141
        },
        "id": "pI2SMEP2HZ58",
        "outputId": "fd7da5f4-e89f-40d8-f9ac-70b9df721936"
      },
      "execution_count": null,
      "outputs": [
        {
          "output_type": "error",
          "ename": "NameError",
          "evalue": "name 'abc' is not defined",
          "traceback": [
            "\u001b[0;31m---------------------------------------------------------------------------\u001b[0m",
            "\u001b[0;31mNameError\u001b[0m                                 Traceback (most recent call last)",
            "\u001b[0;32m/tmp/ipython-input-3746601669.py\u001b[0m in \u001b[0;36m<cell line: 0>\u001b[0;34m()\u001b[0m\n\u001b[0;32m----> 1\u001b[0;31m \u001b[0mint\u001b[0m\u001b[0;34m(\u001b[0m\u001b[0mabc\u001b[0m\u001b[0;34m)\u001b[0m\u001b[0;34m\u001b[0m\u001b[0;34m\u001b[0m\u001b[0m\n\u001b[0m",
            "\u001b[0;31mNameError\u001b[0m: name 'abc' is not defined"
          ]
        }
      ]
    },
    {
      "cell_type": "code",
      "source": [
        "try:\n",
        "  num=int(input(\"Enter a number: \"))\n",
        "  print(10/num)\n",
        "except ZeroDivisionError:\n",
        "  print(\"Error: Cannot divide by zero\")\n",
        "except ValueError:\n",
        "  print(\"Error: Invalid input, enter a number.\")"
      ],
      "metadata": {
        "colab": {
          "base_uri": "https://localhost:8080/"
        },
        "id": "1ybqEcrgHZ9s",
        "outputId": "aefbe4f6-00d5-4b9e-f8db-dd1138cfb678"
      },
      "execution_count": null,
      "outputs": [
        {
          "output_type": "stream",
          "name": "stdout",
          "text": [
            "Enter a number: 0\n",
            "Error: Cannot divide by zero\n"
          ]
        }
      ]
    },
    {
      "cell_type": "code",
      "source": [
        "# Catching Any Exception\n",
        "try:\n",
        "    x = int(\"abc\")\n",
        "except Exception as e:\n",
        "    print(\"An error occurred:\", e)"
      ],
      "metadata": {
        "colab": {
          "base_uri": "https://localhost:8080/"
        },
        "id": "Pz0YbjlCHaA7",
        "outputId": "9e26a26c-cd34-4040-fe4c-45ab34acdc1c"
      },
      "execution_count": null,
      "outputs": [
        {
          "output_type": "stream",
          "name": "stdout",
          "text": [
            "An error occurred: invalid literal for int() with base 10: 'abc'\n"
          ]
        }
      ]
    },
    {
      "cell_type": "code",
      "source": [
        "# finally Block\n",
        "# Always executes (whether error happens or not).\n",
        "# Useful for cleanup (closing files, DB connections).\n",
        "\n",
        "try:\n",
        "    f = open(\"data.txt\", \"r\")\n",
        "    print(f.read())\n",
        "except FileNotFoundError:\n",
        "    print(\"File not found!\")\n",
        "finally:\n",
        "    print(\"Closing resources...\")\n",
        "    try:\n",
        "        f.close()\n",
        "    except:\n",
        "        pass"
      ],
      "metadata": {
        "colab": {
          "base_uri": "https://localhost:8080/"
        },
        "id": "821edDVFHaDs",
        "outputId": "5e5ab289-0f09-43d2-e49a-847c236c5a2f"
      },
      "execution_count": null,
      "outputs": [
        {
          "output_type": "stream",
          "name": "stdout",
          "text": [
            "File not found!\n",
            "Closing resources...\n"
          ]
        }
      ]
    },
    {
      "cell_type": "code",
      "source": [],
      "metadata": {
        "id": "CHJNRv1DHaGq"
      },
      "execution_count": null,
      "outputs": []
    }
  ]
}