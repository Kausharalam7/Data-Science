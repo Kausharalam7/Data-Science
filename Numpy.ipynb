{
  "nbformat": 4,
  "nbformat_minor": 0,
  "metadata": {
    "colab": {
      "provenance": [],
      "authorship_tag": "ABX9TyN487kI3wlBViNrsEVmT//2",
      "include_colab_link": true
    },
    "kernelspec": {
      "name": "python3",
      "display_name": "Python 3"
    },
    "language_info": {
      "name": "python"
    }
  },
  "cells": [
    {
      "cell_type": "markdown",
      "metadata": {
        "id": "view-in-github",
        "colab_type": "text"
      },
      "source": [
        "<a href=\"https://colab.research.google.com/github/Kausharalam7/Data-Science/blob/main/Numpy.ipynb\" target=\"_parent\"><img src=\"https://colab.research.google.com/assets/colab-badge.svg\" alt=\"Open In Colab\"/></a>"
      ]
    },
    {
      "cell_type": "markdown",
      "source": [
        "NumPy (short for Numerical Python) is a Python library for numerical and scientific computing."
      ],
      "metadata": {
        "id": "FJ_ATjK4X50V"
      }
    },
    {
      "cell_type": "markdown",
      "source": [
        "Problem with Python lists\n",
        "\n",
        "Lists store data as objects, not as raw numbers.\n",
        "\n",
        "They store both data + type info + pointers for each element → takes more memory.\n",
        "\n",
        "Operations loop through elements in Python (slow, interpreted code)."
      ],
      "metadata": {
        "id": "CGwLacdBYHfF"
      }
    },
    {
      "cell_type": "code",
      "execution_count": 2,
      "metadata": {
        "colab": {
          "base_uri": "https://localhost:8080/"
        },
        "id": "If2HjEA0W2v2",
        "outputId": "dee6a00d-c44c-445d-edfe-079769a4d0ae"
      },
      "outputs": [
        {
          "output_type": "stream",
          "name": "stdout",
          "text": [
            "List time: 0.05140805244445801\n",
            "NumPy time: 0.003913164138793945\n"
          ]
        }
      ],
      "source": [
        "import numpy as np\n",
        "import time\n",
        "\n",
        "# Python list\n",
        "list_data = list(range(1_000_000))\n",
        "start = time.time()\n",
        "list_result = [x * 2 for x in list_data]\n",
        "end = time.time()\n",
        "print(\"List time:\", end - start)\n",
        "\n",
        "# NumPy array\n",
        "arr_data = np.arange(1_000_000)\n",
        "start = time.time()\n",
        "arr_result = arr_data * 2\n",
        "end = time.time()\n",
        "print(\"NumPy time:\", end - start)\n",
        "\n",
        "# Observation: NumPy is 10–50x faster for large operations.\n"
      ]
    },
    {
      "cell_type": "code",
      "source": [
        "# create a numpy array from python list\n",
        "arr=np.array([1,2,3,434,6])\n",
        "print(arr)\n",
        "print(type(arr))"
      ],
      "metadata": {
        "colab": {
          "base_uri": "https://localhost:8080/"
        },
        "id": "_WXu06uJW5xZ",
        "outputId": "4f78bb4f-5c08-4cd6-cf9a-480e1e017988"
      },
      "execution_count": null,
      "outputs": [
        {
          "output_type": "stream",
          "name": "stdout",
          "text": [
            "[  1   2   3 434   6]\n",
            "<class 'numpy.ndarray'>\n"
          ]
        }
      ]
    },
    {
      "cell_type": "markdown",
      "source": [
        "Why are NumPy arrays faster than Python lists?\n",
        "\n",
        "Answer:\n",
        "\n",
        "Stored in contiguous memory (better cache locality).\n",
        "\n",
        "Homogeneous data → no type checking for each element.\n",
        "\n",
        "Uses vectorized operations in compiled C instead of Python loops."
      ],
      "metadata": {
        "id": "mwd_z27bZLrU"
      }
    },
    {
      "cell_type": "code",
      "source": [
        "# from list,tuples to numpy array\n",
        "arr1=np.array([1,2,3,4])\n",
        "arr2=np.array((3,4,5,6))\n",
        "print(arr1)\n",
        "print(arr2)\n",
        "print(type(arr2))"
      ],
      "metadata": {
        "colab": {
          "base_uri": "https://localhost:8080/"
        },
        "id": "mWjuPWSrZLVL",
        "outputId": "08818d8d-78b2-4016-d7f8-eb093e615f65"
      },
      "execution_count": null,
      "outputs": [
        {
          "output_type": "stream",
          "name": "stdout",
          "text": [
            "[1 2 3 4]\n",
            "[3 4 5 6]\n",
            "<class 'numpy.ndarray'>\n"
          ]
        }
      ]
    },
    {
      "cell_type": "code",
      "source": [
        "# Using np.arange()  -- np.arange(start, stop, step)\n",
        "# Creates evenly spaced values within a range (like Python’s range() but returns a NumPy array).\n",
        "np.arange(0,10,2)"
      ],
      "metadata": {
        "colab": {
          "base_uri": "https://localhost:8080/"
        },
        "id": "qXH2UfSHW5z7",
        "outputId": "222451e0-77fd-4c22-c8d9-9625333ae672"
      },
      "execution_count": null,
      "outputs": [
        {
          "output_type": "execute_result",
          "data": {
            "text/plain": [
              "array([0, 2, 4, 6, 8])"
            ]
          },
          "metadata": {},
          "execution_count": 6
        }
      ]
    },
    {
      "cell_type": "code",
      "source": [
        "# Using np.linspace() -- np.linspace(start, stop, num_points)\n",
        "# Creates evenly spaced values between two points (inclusive).\n",
        "np.linspace(0,1,5)"
      ],
      "metadata": {
        "colab": {
          "base_uri": "https://localhost:8080/"
        },
        "id": "l8QajMS0W52K",
        "outputId": "05fcd6aa-a730-487e-b1a6-19a7041a4b2d"
      },
      "execution_count": null,
      "outputs": [
        {
          "output_type": "execute_result",
          "data": {
            "text/plain": [
              "array([0.  , 0.25, 0.5 , 0.75, 1.  ])"
            ]
          },
          "metadata": {},
          "execution_count": 7
        }
      ]
    },
    {
      "cell_type": "code",
      "source": [
        "# Creating Special Arrays -- Zeros and Ones\n",
        "np.zeros((3,4))\n"
      ],
      "metadata": {
        "colab": {
          "base_uri": "https://localhost:8080/"
        },
        "id": "RK-_j1wcW544",
        "outputId": "89583a42-77c4-4f0c-82d5-f2d791e47a39"
      },
      "execution_count": null,
      "outputs": [
        {
          "output_type": "execute_result",
          "data": {
            "text/plain": [
              "array([[0., 0., 0., 0.],\n",
              "       [0., 0., 0., 0.],\n",
              "       [0., 0., 0., 0.]])"
            ]
          },
          "metadata": {},
          "execution_count": 9
        }
      ]
    },
    {
      "cell_type": "code",
      "source": [
        "np.ones((2,3))"
      ],
      "metadata": {
        "colab": {
          "base_uri": "https://localhost:8080/"
        },
        "id": "reJplb9fW57h",
        "outputId": "fd337e81-f739-406d-e4db-aa750539b17f"
      },
      "execution_count": null,
      "outputs": [
        {
          "output_type": "execute_result",
          "data": {
            "text/plain": [
              "array([[1., 1., 1.],\n",
              "       [1., 1., 1.]])"
            ]
          },
          "metadata": {},
          "execution_count": 10
        }
      ]
    },
    {
      "cell_type": "code",
      "source": [
        "# Full array with a constant value\n",
        "np.full((3,3),17)"
      ],
      "metadata": {
        "colab": {
          "base_uri": "https://localhost:8080/"
        },
        "id": "ooiudbdqW5-Q",
        "outputId": "a7f4d24c-6236-4db5-8181-8f52cc4ae564"
      },
      "execution_count": null,
      "outputs": [
        {
          "output_type": "execute_result",
          "data": {
            "text/plain": [
              "array([[17, 17, 17],\n",
              "       [17, 17, 17],\n",
              "       [17, 17, 17]])"
            ]
          },
          "metadata": {},
          "execution_count": 12
        }
      ]
    },
    {
      "cell_type": "code",
      "source": [
        "# Identity Matrix -- Used in linear algebra (matrix inverses, transformations).\n",
        "np.eye(5)"
      ],
      "metadata": {
        "colab": {
          "base_uri": "https://localhost:8080/"
        },
        "id": "MO1QVt-VW6Ag",
        "outputId": "58f33b39-79aa-40f1-fcda-87246c022da5"
      },
      "execution_count": null,
      "outputs": [
        {
          "output_type": "execute_result",
          "data": {
            "text/plain": [
              "array([[1., 0., 0., 0., 0.],\n",
              "       [0., 1., 0., 0., 0.],\n",
              "       [0., 0., 1., 0., 0.],\n",
              "       [0., 0., 0., 1., 0.],\n",
              "       [0., 0., 0., 0., 1.]])"
            ]
          },
          "metadata": {},
          "execution_count": 13
        }
      ]
    },
    {
      "cell_type": "code",
      "source": [
        "# Empty Array (Uninitialized Memory)   -- Faster than zeros when you plan to overwrite all values.\n",
        "np.empty((2,3))"
      ],
      "metadata": {
        "colab": {
          "base_uri": "https://localhost:8080/"
        },
        "id": "ib1lq7PnW6D2",
        "outputId": "ec340f91-b443-4690-c168-02b9261a6a71"
      },
      "execution_count": null,
      "outputs": [
        {
          "output_type": "execute_result",
          "data": {
            "text/plain": [
              "array([[1., 1., 1.],\n",
              "       [1., 1., 1.]])"
            ]
          },
          "metadata": {},
          "execution_count": 15
        }
      ]
    },
    {
      "cell_type": "code",
      "source": [
        "np.random.rand(3,2)"
      ],
      "metadata": {
        "colab": {
          "base_uri": "https://localhost:8080/"
        },
        "id": "vgx_QX23bY3V",
        "outputId": "0437c245-147c-4b94-f102-4cd7d03e5194"
      },
      "execution_count": null,
      "outputs": [
        {
          "output_type": "execute_result",
          "data": {
            "text/plain": [
              "array([[0.06393974, 0.22561991],\n",
              "       [0.940464  , 0.66746637],\n",
              "       [0.17280264, 0.7997398 ]])"
            ]
          },
          "metadata": {},
          "execution_count": 16
        }
      ]
    },
    {
      "cell_type": "code",
      "source": [
        "# copy vs view -- Avoiding unintended data modifications in preprocessing.\n",
        "arr=np.array([1,2,3])\n",
        "view = arr.view()   # changes affect original\n",
        "copy = arr.copy()   # independent\n",
        "print(view)\n",
        "print(copy)"
      ],
      "metadata": {
        "colab": {
          "base_uri": "https://localhost:8080/"
        },
        "id": "4MpimUpLbY59",
        "outputId": "2a759490-e8cd-400d-8899-24fe6e4848da"
      },
      "execution_count": null,
      "outputs": [
        {
          "output_type": "stream",
          "name": "stdout",
          "text": [
            "[1 2 3]\n",
            "[1 2 3]\n"
          ]
        }
      ]
    },
    {
      "cell_type": "markdown",
      "source": [
        ".shape – Shape of the Array\n",
        "\n",
        "Returns a tuple of (rows, columns) for 2D arrays, or sizes of each dimension for nD arrays.\n",
        "\n",
        "Can be modified to reshape arrays (must keep same number of elements)."
      ],
      "metadata": {
        "id": "en2B-CqrdDD8"
      }
    },
    {
      "cell_type": "code",
      "source": [
        "arr=np.array([[1,2,3],[2,34,2],[1,2,5],[4,5,8]])\n",
        "print(arr,\"shape: \",arr.shape)\n",
        "print(\" \")\n",
        "#change shape\n",
        "arr.shape=(4,3)\n",
        "print(arr)\n"
      ],
      "metadata": {
        "colab": {
          "base_uri": "https://localhost:8080/"
        },
        "id": "wc4eE6dfbY8b",
        "outputId": "d89155c0-294b-4a72-ca87-e05b9387516a"
      },
      "execution_count": null,
      "outputs": [
        {
          "output_type": "stream",
          "name": "stdout",
          "text": [
            "[[ 1  2  3]\n",
            " [ 2 34  2]\n",
            " [ 1  2  5]\n",
            " [ 4  5  8]] shape:  (4, 3)\n",
            " \n",
            "[[ 1  2  3]\n",
            " [ 2 34  2]\n",
            " [ 1  2  5]\n",
            " [ 4  5  8]]\n"
          ]
        }
      ]
    },
    {
      "cell_type": "markdown",
      "source": [
        ".ndim – Number of Dimensions\n",
        "\n",
        "1D array → ndim = 1\n",
        "\n",
        "2D array (matrix) → ndim = 2\n",
        "\n",
        "3D array (tensor) → ndim = 3"
      ],
      "metadata": {
        "id": "-d9TBXc6eICs"
      }
    },
    {
      "cell_type": "code",
      "source": [
        "# In deep learning, you must know if you’re feeding 1D, 2D, or 4D tensors into the model.\n",
        "print(np.array([3,4,5]).ndim)\n",
        "print(np.array([[2,3],[4,2]]).ndim)"
      ],
      "metadata": {
        "colab": {
          "base_uri": "https://localhost:8080/"
        },
        "id": "BVjFpXA8eD4F",
        "outputId": "9c74178d-4b73-4dfe-89be-57060e311e13"
      },
      "execution_count": null,
      "outputs": [
        {
          "output_type": "stream",
          "name": "stdout",
          "text": [
            "1\n",
            "2\n"
          ]
        }
      ]
    },
    {
      "cell_type": "code",
      "source": [
        "arr=np.arange(12).reshape(3,4)\n",
        "print(arr.size,arr)"
      ],
      "metadata": {
        "colab": {
          "base_uri": "https://localhost:8080/"
        },
        "id": "tSbltbySbY-3",
        "outputId": "df55369b-2371-46ff-e2fa-29bb8a00d23b"
      },
      "execution_count": null,
      "outputs": [
        {
          "output_type": "stream",
          "name": "stdout",
          "text": [
            "12 [[ 0  1  2  3]\n",
            " [ 4  5  6  7]\n",
            " [ 8  9 10 11]]\n"
          ]
        }
      ]
    },
    {
      "cell_type": "code",
      "source": [
        "# .dtype – Data Type --- Shows the type of elements (e.g., int32, float64).\n",
        "arr=np.array([34,52,45])\n",
        "print(arr.dtype)\n",
        "arr1=np.array([34,23,52],dtype=np.float32)\n",
        "print(arr1.dtype)"
      ],
      "metadata": {
        "colab": {
          "base_uri": "https://localhost:8080/"
        },
        "id": "ofNlIDG_bZBY",
        "outputId": "47680b40-c0d8-470c-b715-0790453f557d"
      },
      "execution_count": null,
      "outputs": [
        {
          "output_type": "stream",
          "name": "stdout",
          "text": [
            "int64\n",
            "float32\n"
          ]
        }
      ]
    },
    {
      "cell_type": "code",
      "source": [
        "# .itemsize – Memory per Element --- Shows the bytes consumed by each element.\n",
        "arr = np.array([1, 2, 3], dtype=np.int32)\n",
        "print(arr.itemsize)"
      ],
      "metadata": {
        "colab": {
          "base_uri": "https://localhost:8080/"
        },
        "id": "9mxAE_qYbZDz",
        "outputId": "d955a870-b72f-4f5e-aad3-773e72e1d303"
      },
      "execution_count": null,
      "outputs": [
        {
          "output_type": "stream",
          "name": "stdout",
          "text": [
            "4\n"
          ]
        }
      ]
    },
    {
      "cell_type": "code",
      "source": [
        "# .nbytes – Total Memory Size --- Total bytes consumed by the array.\n",
        "arr = np.arange(1000, dtype=np.float64)\n",
        "print(arr.nbytes)  # 8000 bytes (8 bytes × 1000 elements)"
      ],
      "metadata": {
        "colab": {
          "base_uri": "https://localhost:8080/"
        },
        "id": "mf6sRxCpbZGW",
        "outputId": "5102b311-d9ad-4bbd-9791-0e6c1f83160a"
      },
      "execution_count": null,
      "outputs": [
        {
          "output_type": "stream",
          "name": "stdout",
          "text": [
            "8000\n"
          ]
        }
      ]
    },
    {
      "cell_type": "code",
      "source": [
        "# .T – Transpose --- Swaps rows and columns (useful for matrix algebra).\n",
        "arr=np.array([[3,4],[1,2]])\n",
        "print(arr.T)"
      ],
      "metadata": {
        "colab": {
          "base_uri": "https://localhost:8080/"
        },
        "id": "RzMABWAZbZIx",
        "outputId": "169de471-b3b6-477f-f00f-ca168f071198"
      },
      "execution_count": null,
      "outputs": [
        {
          "output_type": "stream",
          "name": "stdout",
          "text": [
            "[[3 1]\n",
            " [4 2]]\n"
          ]
        }
      ]
    },
    {
      "cell_type": "markdown",
      "source": [
        "Indexing and Slicing"
      ],
      "metadata": {
        "id": "1l-9elGchuS1"
      }
    },
    {
      "cell_type": "code",
      "source": [
        "# 1D\n",
        "arr=np.array([2,3,4,5,6])\n",
        "print(arr[2])\n",
        "print(arr[-1])"
      ],
      "metadata": {
        "colab": {
          "base_uri": "https://localhost:8080/"
        },
        "id": "VXvEtX3jbZLf",
        "outputId": "7e028dd3-f9e7-49f6-81bc-ef9d607daf4a"
      },
      "execution_count": null,
      "outputs": [
        {
          "output_type": "stream",
          "name": "stdout",
          "text": [
            "4\n",
            "6\n"
          ]
        }
      ]
    },
    {
      "cell_type": "code",
      "source": [
        "# slicing -- arr[start:end:step]\n",
        "print(arr[1:4])\n",
        "print(arr[3:])\n",
        "print(arr[::2])"
      ],
      "metadata": {
        "colab": {
          "base_uri": "https://localhost:8080/"
        },
        "id": "FhB-EuWDbZOa",
        "outputId": "a96542b5-ec21-421d-b6e4-8c080ffd805d"
      },
      "execution_count": null,
      "outputs": [
        {
          "output_type": "stream",
          "name": "stdout",
          "text": [
            "[3 4 5]\n",
            "[5 6]\n",
            "[2 4 6]\n"
          ]
        }
      ]
    },
    {
      "cell_type": "code",
      "source": [
        "# 2D\n",
        "arr = np.array([[1, 2, 3],\n",
        "                  [4, 5, 6],\n",
        "                  [7, 8, 9]])\n",
        "print(arr[1,1])"
      ],
      "metadata": {
        "colab": {
          "base_uri": "https://localhost:8080/"
        },
        "id": "Gzh2PEFHbZRP",
        "outputId": "169de51c-a456-4f15-a8b3-e3837bdb4dc9"
      },
      "execution_count": null,
      "outputs": [
        {
          "output_type": "stream",
          "name": "stdout",
          "text": [
            "5\n"
          ]
        }
      ]
    },
    {
      "cell_type": "code",
      "source": [
        "print(arr[:2,:2])\n",
        "print(arr[:,2])"
      ],
      "metadata": {
        "colab": {
          "base_uri": "https://localhost:8080/"
        },
        "id": "6MxbEvWXbZT4",
        "outputId": "8c06858f-9b40-47c9-d5eb-381ec54ed544"
      },
      "execution_count": null,
      "outputs": [
        {
          "output_type": "stream",
          "name": "stdout",
          "text": [
            "[[1 2]\n",
            " [4 5]]\n",
            "[3 6 9]\n"
          ]
        }
      ]
    },
    {
      "cell_type": "code",
      "source": [
        "arr = np.array([10, 20, 30, 40, 50])\n",
        "mask = arr > 25\n",
        "print(arr[mask])"
      ],
      "metadata": {
        "colab": {
          "base_uri": "https://localhost:8080/"
        },
        "id": "iotjAqH_bZWt",
        "outputId": "1e652009-715b-447a-f512-b3fa853535fe"
      },
      "execution_count": null,
      "outputs": [
        {
          "output_type": "stream",
          "name": "stdout",
          "text": [
            "[30 40 50]\n"
          ]
        }
      ]
    },
    {
      "cell_type": "markdown",
      "source": [
        "Mathematical Operations\n",
        "\n",
        "NumPy allows you to perform element-wise mathematical operations directly on arrays without writing loops.\n",
        "This is much faster than using Python loops because NumPy uses vectorized operations implemented in C."
      ],
      "metadata": {
        "id": "_oO2HeD_kcPg"
      }
    },
    {
      "cell_type": "code",
      "source": [
        "# Element-wise Arithmetic --- When two arrays have the same shape:\n",
        "a=np.array([3,4,5])\n",
        "b=np.array([1,5,8])\n",
        "\n",
        "print(a+b)\n",
        "print(a-b)\n",
        "print(a*b)\n",
        "print(a/b)\n",
        "print(a**2)"
      ],
      "metadata": {
        "colab": {
          "base_uri": "https://localhost:8080/"
        },
        "id": "xmFs1f3FbZZa",
        "outputId": "90995f8b-ff64-454f-dd7a-2d51c36be210"
      },
      "execution_count": null,
      "outputs": [
        {
          "output_type": "stream",
          "name": "stdout",
          "text": [
            "[ 4  9 13]\n",
            "[ 2 -1 -3]\n",
            "[ 3 20 40]\n",
            "[3.    0.8   0.625]\n",
            "[ 9 16 25]\n"
          ]
        }
      ]
    },
    {
      "cell_type": "code",
      "source": [
        "# Scalar Operations -- When you operate an array with a single number (broadcasting):\n",
        "print(a+5)\n",
        "print(b*10)"
      ],
      "metadata": {
        "colab": {
          "base_uri": "https://localhost:8080/"
        },
        "id": "Gj4nh33XbZcI",
        "outputId": "8dfa42ad-a76c-42fd-9eca-c4bebc129dec"
      },
      "execution_count": null,
      "outputs": [
        {
          "output_type": "stream",
          "name": "stdout",
          "text": [
            "[ 8  9 10]\n",
            "[10 50 80]\n"
          ]
        }
      ]
    },
    {
      "cell_type": "code",
      "source": [
        "# Universal Functions --- NumPy provides optimized mathematical functions that work element-wise:\n",
        "arr=np.array([1,4,9,16])\n",
        "print(np.sqrt(arr))\n",
        "print(np.log(arr))\n",
        "print(np.exp(arr))"
      ],
      "metadata": {
        "colab": {
          "base_uri": "https://localhost:8080/"
        },
        "id": "PI3KB6Y3bZez",
        "outputId": "af7c7b1b-bc37-46c6-f9ed-1f6edb24d82b"
      },
      "execution_count": null,
      "outputs": [
        {
          "output_type": "stream",
          "name": "stdout",
          "text": [
            "[1. 2. 3. 4.]\n",
            "[0.         1.38629436 2.19722458 2.77258872]\n",
            "[2.71828183e+00 5.45981500e+01 8.10308393e+03 8.88611052e+06]\n"
          ]
        }
      ]
    },
    {
      "cell_type": "code",
      "source": [
        "# Rounding Function\n",
        "arr = np.array([1.23, 4.56, 7.89])\n",
        "print(np.round(arr,1))\n",
        "print(np.floor(arr))\n",
        "print(np.ceil(arr))"
      ],
      "metadata": {
        "colab": {
          "base_uri": "https://localhost:8080/"
        },
        "id": "15or4XEqbZhM",
        "outputId": "e8565247-62bd-446f-ce7f-d9d87842ecad"
      },
      "execution_count": null,
      "outputs": [
        {
          "output_type": "stream",
          "name": "stdout",
          "text": [
            "[1.2 4.6 7.9]\n",
            "[1. 4. 7.]\n",
            "[2. 5. 8.]\n"
          ]
        }
      ]
    },
    {
      "cell_type": "markdown",
      "source": [
        "Statistical & Aggregation Functions"
      ],
      "metadata": {
        "id": "1GhK88yJmYJg"
      }
    },
    {
      "cell_type": "code",
      "source": [
        "# basic descriptive statistics\n",
        "arr = np.array([1, 2, 3, 4, 5])\n",
        "print(np.sum(arr))\n",
        "print(np.mean(arr))\n",
        "print(np.median(arr))\n",
        "print(np.std(arr))\n",
        "print(np.var(arr))\n",
        "print(np.min(arr))\n",
        "print(np.max(arr))"
      ],
      "metadata": {
        "colab": {
          "base_uri": "https://localhost:8080/"
        },
        "id": "q2GmLQhZbZj1",
        "outputId": "975ed5df-567a-4ab5-f592-ac62d59b82e7"
      },
      "execution_count": null,
      "outputs": [
        {
          "output_type": "stream",
          "name": "stdout",
          "text": [
            "15\n",
            "3.0\n",
            "3.0\n",
            "1.4142135623730951\n",
            "2.0\n",
            "1\n",
            "5\n"
          ]
        }
      ]
    },
    {
      "cell_type": "code",
      "source": [
        "# Axis-based Calculations --- For 2D arrays, axis determines direction:\n",
        "matrix=np.array([[1,2,3],\n",
        "                 [4,5,6]])\n",
        "print(matrix.sum(axis=0))  # column-wise sum → [5 7 9]\n",
        "print(matrix.sum(axis=1))  # row-wise sum → [6 15]"
      ],
      "metadata": {
        "colab": {
          "base_uri": "https://localhost:8080/"
        },
        "id": "mFqvBMA4bZmT",
        "outputId": "7634801c-2fb5-416c-c01d-a77986875b4f"
      },
      "execution_count": null,
      "outputs": [
        {
          "output_type": "stream",
          "name": "stdout",
          "text": [
            "[5 7 9]\n",
            "[ 6 15]\n"
          ]
        }
      ]
    },
    {
      "cell_type": "code",
      "source": [
        "# Percentiles & Quantiles -- Used to find thresholds in data (important in outlier detection).\n",
        "data = np.array([1,3,5,7,9])\n",
        "print(np.percentile(data,50))\n",
        "print(np.percentile(data, 80))"
      ],
      "metadata": {
        "colab": {
          "base_uri": "https://localhost:8080/"
        },
        "id": "BziqxHqObZo3",
        "outputId": "597e4447-acf2-43d2-fc37-9219a7a8b313"
      },
      "execution_count": null,
      "outputs": [
        {
          "output_type": "stream",
          "name": "stdout",
          "text": [
            "5.0\n",
            "7.4\n"
          ]
        }
      ]
    },
    {
      "cell_type": "code",
      "source": [
        "# Cumulative Functions\n",
        "arr=np.array([1,2,3,4,5])\n",
        "print(np.cumsum(arr))\n",
        "print(np.cumprod(arr))"
      ],
      "metadata": {
        "colab": {
          "base_uri": "https://localhost:8080/"
        },
        "id": "GYVdD_fsbZrK",
        "outputId": "3d92a344-b520-48e7-8a1f-cba9e3c36b68"
      },
      "execution_count": null,
      "outputs": [
        {
          "output_type": "stream",
          "name": "stdout",
          "text": [
            "[ 1  3  6 10 15]\n",
            "[  1   2   6  24 120]\n"
          ]
        }
      ]
    },
    {
      "cell_type": "code",
      "source": [
        "# Arg Functions (Return Indexes)\n",
        "arr = np.array([10, 20, 5, 30])\n",
        "\n",
        "print(\"index of max value: \",np.argmax(arr))\n",
        "print(\"index of min value: \",np.argmin(arr))\n"
      ],
      "metadata": {
        "colab": {
          "base_uri": "https://localhost:8080/"
        },
        "id": "cmT_n0P2olZO",
        "outputId": "338bcb7a-bba1-4450-88b2-d0c6cbb8f6d5"
      },
      "execution_count": null,
      "outputs": [
        {
          "output_type": "stream",
          "name": "stdout",
          "text": [
            "index of max value:  3\n",
            "index of min value:  2\n"
          ]
        }
      ]
    },
    {
      "cell_type": "code",
      "source": [
        "# flatten()  -- Purpose: Returns a copy of the array collapsed into 1D.\n",
        "\n",
        "arr = np.array([[1, 2], [3, 4]])\n",
        "flat = arr.flatten()\n",
        "print(flat)"
      ],
      "metadata": {
        "colab": {
          "base_uri": "https://localhost:8080/"
        },
        "id": "MuA82xYUolcM",
        "outputId": "d48216b6-a1dc-4277-f488-c4e299693f9b"
      },
      "execution_count": null,
      "outputs": [
        {
          "output_type": "stream",
          "name": "stdout",
          "text": [
            "[1 2 3 4]\n"
          ]
        }
      ]
    },
    {
      "cell_type": "code",
      "source": [
        "X = np.array([1, 2, 3, 4, 5])\n",
        "X = X.reshape(-1, 1)  # (5, 1) — 5 samples, 1 feature\n",
        "print(X.shape)\n",
        "print(X)\n",
        "\n",
        "# why do we use reshape(-1, 1) in machine learning preprocessing?\n",
        "#It automatically calculates the first dimension while ensuring data is in (n_samples, 1) shape, which is required for ML models expecting 2D inputs."
      ],
      "metadata": {
        "colab": {
          "base_uri": "https://localhost:8080/"
        },
        "id": "NhQGTb7Iole6",
        "outputId": "8836af0d-9a3a-463c-a323-f31010db3c32"
      },
      "execution_count": null,
      "outputs": [
        {
          "output_type": "stream",
          "name": "stdout",
          "text": [
            "(5, 1)\n",
            "[[1]\n",
            " [2]\n",
            " [3]\n",
            " [4]\n",
            " [5]]\n"
          ]
        }
      ]
    },
    {
      "cell_type": "code",
      "source": [
        "# Resizing --- Unlike reshape, resize() can change the number of elements by adding zeros or removing values.\n",
        "\n",
        "arr = np.array([1, 2, 3])\n",
        "arr.resize(5)\n",
        "print(arr)  # [1 2 3 0 0]"
      ],
      "metadata": {
        "colab": {
          "base_uri": "https://localhost:8080/"
        },
        "id": "lu_TojzSolhr",
        "outputId": "4ffbc6b7-d7cd-430e-90d1-33d763d24f8d"
      },
      "execution_count": null,
      "outputs": [
        {
          "output_type": "stream",
          "name": "stdout",
          "text": [
            "[1 2 3 0 0]\n"
          ]
        }
      ]
    },
    {
      "cell_type": "markdown",
      "source": [
        "Stacking & Splitting Arrays"
      ],
      "metadata": {
        "id": "3idefCUeryDO"
      }
    },
    {
      "cell_type": "code",
      "source": [
        "# Stacking Arrays --  Stacking means joining arrays along a new or existing axis.\n",
        "\n",
        "# a) np.vstack() — Vertical Stack\n",
        "# Stacks arrays vertically (row-wise).\n",
        "# Equivalent to axis=0 concatenation for 2D arrays.\n",
        "\n",
        "a = np.array([[1, 2], [3, 4]])\n",
        "b = np.array([[5, 6]])\n",
        "v_stacked=np.vstack((a,b))\n",
        "print(v_stacked)"
      ],
      "metadata": {
        "colab": {
          "base_uri": "https://localhost:8080/"
        },
        "id": "4FjlR2pzolkF",
        "outputId": "4f849db7-9c19-465d-fe1f-149a2b4944eb"
      },
      "execution_count": null,
      "outputs": [
        {
          "output_type": "stream",
          "name": "stdout",
          "text": [
            "[[1 2]\n",
            " [3 4]\n",
            " [5 6]]\n"
          ]
        }
      ]
    },
    {
      "cell_type": "code",
      "source": [
        "# np.hstack() — Horizontal Stack\n",
        "# Stacks arrays horizontally (column-wise).\n",
        "# Equivalent to axis=1 concatenation for 2D arrays.\n",
        "\n",
        "h_stacked = np.hstack((a, b.T))\n",
        "print(h_stacked)\n",
        "\n"
      ],
      "metadata": {
        "colab": {
          "base_uri": "https://localhost:8080/"
        },
        "id": "4Fun6oZsolmq",
        "outputId": "1fb9e9bb-c081-4308-dc77-207612e73f93"
      },
      "execution_count": null,
      "outputs": [
        {
          "output_type": "stream",
          "name": "stdout",
          "text": [
            "[[1 2 5]\n",
            " [3 4 6]]\n"
          ]
        }
      ]
    },
    {
      "cell_type": "code",
      "source": [
        "# np.concatenate()\n",
        "# General-purpose function for stacking.\n",
        "# Can specify axis=0, axis=1, etc.\n",
        "\n",
        "concat = np.concatenate((a, b), axis=0)  # same as vstack\n",
        "print(concat)"
      ],
      "metadata": {
        "colab": {
          "base_uri": "https://localhost:8080/"
        },
        "id": "uLYmjjP8olqg",
        "outputId": "b01866c1-fef5-4497-e0dd-fc482a1d584c"
      },
      "execution_count": null,
      "outputs": [
        {
          "output_type": "stream",
          "name": "stdout",
          "text": [
            "[[1 2]\n",
            " [3 4]\n",
            " [5 6]]\n"
          ]
        }
      ]
    },
    {
      "cell_type": "code",
      "source": [
        "# Splitting Arrays --- Splitting is the opposite of stacking — breaking arrays into smaller sub-arrays.\n",
        "\n",
        "# np.vsplit() — Vertical Split\n",
        "arr = np.array([[1, 2], [3, 4], [5, 6]])\n",
        "v_split = np.vsplit(arr, 3)\n",
        "print(v_split)"
      ],
      "metadata": {
        "colab": {
          "base_uri": "https://localhost:8080/"
        },
        "id": "UU7cW444omHy",
        "outputId": "05ede86c-8059-4dbb-d088-ecb34e180969"
      },
      "execution_count": null,
      "outputs": [
        {
          "output_type": "stream",
          "name": "stdout",
          "text": [
            "[array([[1, 2]]), array([[3, 4]]), array([[5, 6]])]\n"
          ]
        }
      ]
    },
    {
      "cell_type": "code",
      "source": [
        "# np.hsplit() — Horizontal Split\n",
        "# Splits along columns.\n",
        "\n",
        "arr = np.array([[1, 2, 3, 4]])\n",
        "h_split = np.hsplit(arr, 2)\n",
        "print(h_split)"
      ],
      "metadata": {
        "colab": {
          "base_uri": "https://localhost:8080/"
        },
        "id": "LVYxSdDFomK-",
        "outputId": "3596c312-037c-423b-b476-7c713499039e"
      },
      "execution_count": null,
      "outputs": [
        {
          "output_type": "stream",
          "name": "stdout",
          "text": [
            "[array([[1, 2]]), array([[3, 4]])]\n"
          ]
        }
      ]
    },
    {
      "cell_type": "code",
      "source": [
        "# np.hsplit() — Horizontal Split\n",
        "arr = np.array([[1, 2, 3, 4]])\n",
        "h_split = np.hsplit(arr, 2)\n",
        "print(h_split)"
      ],
      "metadata": {
        "colab": {
          "base_uri": "https://localhost:8080/"
        },
        "id": "kTesG3rqomNK",
        "outputId": "86262d92-132d-4619-db49-da775f3b4472"
      },
      "execution_count": null,
      "outputs": [
        {
          "output_type": "stream",
          "name": "stdout",
          "text": [
            "[array([[1, 2]]), array([[3, 4]])]\n"
          ]
        }
      ]
    },
    {
      "cell_type": "markdown",
      "source": [
        "Broadcasting\n",
        "\n",
        "When performing arithmetic operations between two arrays, NumPy tries to match their shapes.\n",
        "\n",
        "If the shapes don’t match, NumPy applies the broadcasting rules to make them compatible without physically copying data."
      ],
      "metadata": {
        "id": "DINoIaa2ubCf"
      }
    },
    {
      "cell_type": "code",
      "source": [
        "a = np.array([1, 2, 3])\n",
        "b = 2\n",
        "print(a + b)\n",
        "# Here, b (scalar) is broadcasted to [2, 2, 2]."
      ],
      "metadata": {
        "colab": {
          "base_uri": "https://localhost:8080/"
        },
        "id": "_8RSdED-omP1",
        "outputId": "ae6c9f67-fd46-4928-bc60-b73cf8f5bdfa"
      },
      "execution_count": null,
      "outputs": [
        {
          "output_type": "stream",
          "name": "stdout",
          "text": [
            "[3 4 5]\n"
          ]
        }
      ]
    },
    {
      "cell_type": "code",
      "source": [
        "# Why does (3, 2) and (2,) work but (3, 2) and (3,) fail?\n",
        "# Answer:\n",
        "# (3, 2) and (2,) → match from right → (3, 2) & (1, 2) → compatible.\n",
        "# (3, 2) and (3,) → match from right → (3, 2) & (1, 3) → 2 ≠ 3, incompatible."
      ],
      "metadata": {
        "id": "wnczxwKUomTE"
      },
      "execution_count": null,
      "outputs": []
    },
    {
      "cell_type": "markdown",
      "source": [
        "Random Number\n",
        "\n",
        "Random numbers are essential in data science for simulations, bootstrapping, train-test splits, shuffling datasets, and initializing machine learning model weights."
      ],
      "metadata": {
        "id": "Hs7RhZ8GWMV7"
      }
    },
    {
      "cell_type": "code",
      "source": [
        "# Random floats\n",
        "arr=np.random.rand(3,6)\n",
        "print(arr)\n",
        "# Difference between rand() and randn()?\n",
        "# rand() → Uniform distribution in [0, 1)\n",
        "# randn() → Normal distribution with mean 0, std 1"
      ],
      "metadata": {
        "id": "rA00EeZOomYR",
        "colab": {
          "base_uri": "https://localhost:8080/"
        },
        "outputId": "98f5e827-53bb-4051-a16a-25e3cf4142b6"
      },
      "execution_count": 4,
      "outputs": [
        {
          "output_type": "stream",
          "name": "stdout",
          "text": [
            "[[0.88586963 0.32162163 0.59033103 0.2010988  0.40291945 0.08236755]\n",
            " [0.66331357 0.35333382 0.94839196 0.36571165 0.4584438  0.37025965]\n",
            " [0.5950736  0.53647601 0.37129964 0.88482317 0.80468214 0.27575492]]\n"
          ]
        }
      ]
    },
    {
      "cell_type": "code",
      "source": [
        "# Random Integers\n",
        "nums=np.random.randint(10,30,size=(2,3))\n",
        "print(nums)"
      ],
      "metadata": {
        "id": "3bjaezoeombG",
        "colab": {
          "base_uri": "https://localhost:8080/"
        },
        "outputId": "3d01a804-162c-4510-e98f-a4ddb36c545b"
      },
      "execution_count": 5,
      "outputs": [
        {
          "output_type": "stream",
          "name": "stdout",
          "text": [
            "[[26 14 20]\n",
            " [15 28 27]]\n"
          ]
        }
      ]
    },
    {
      "cell_type": "code",
      "source": [
        "np.random.seed(42)\n",
        "print(np.random.rand(3))\n",
        "# Why use np.random.seed()\n",
        "# To ensure reproducibility of results when debugging or comparing algorithms."
      ],
      "metadata": {
        "id": "4T0UxkN4omdk",
        "colab": {
          "base_uri": "https://localhost:8080/"
        },
        "outputId": "bf62dcaf-4551-4998-af95-3f1835938f5b"
      },
      "execution_count": 6,
      "outputs": [
        {
          "output_type": "stream",
          "name": "stdout",
          "text": [
            "[0.37454012 0.95071431 0.73199394]\n"
          ]
        }
      ]
    },
    {
      "cell_type": "markdown",
      "source": [
        "**Linear Algebra**"
      ],
      "metadata": {
        "id": "9qIP8OZuXsIb"
      }
    },
    {
      "cell_type": "code",
      "source": [
        "# Dot product\n",
        "a=np.array([2,3,4])\n",
        "b=np.array([4,5,3])\n",
        "print(np.dot(a,b))"
      ],
      "metadata": {
        "id": "ycWmVbxfomgO",
        "colab": {
          "base_uri": "https://localhost:8080/"
        },
        "outputId": "aa30bdb3-3e7f-4b67-c632-d35d7cef2fa5"
      },
      "execution_count": 7,
      "outputs": [
        {
          "output_type": "stream",
          "name": "stdout",
          "text": [
            "35\n"
          ]
        }
      ]
    },
    {
      "cell_type": "code",
      "source": [
        "# Matrix Multiplication – np.matmul()\n",
        "A = np.array([[1, 2],\n",
        "              [3, 4]])\n",
        "B = np.array([[5, 6],\n",
        "              [7, 8]])\n",
        "\n",
        "print(np.matmul(A, B))"
      ],
      "metadata": {
        "colab": {
          "base_uri": "https://localhost:8080/"
        },
        "id": "FLbMReGDXo2t",
        "outputId": "a3918f3f-9c97-4054-8b9c-58bdf3699c6e"
      },
      "execution_count": 8,
      "outputs": [
        {
          "output_type": "stream",
          "name": "stdout",
          "text": [
            "[[19 22]\n",
            " [43 50]]\n"
          ]
        }
      ]
    },
    {
      "cell_type": "code",
      "source": [
        "# Matrix Inverse – np.linalg.inv()   ---  Only works for square matrices with non-zero determinant.\n",
        "a=np.array([[1,2],\n",
        "            [3,4]])\n",
        "inv_a=np.linalg.inv(a)\n",
        "print(inv_a)"
      ],
      "metadata": {
        "colab": {
          "base_uri": "https://localhost:8080/"
        },
        "id": "Hjg8qP7lXo5W",
        "outputId": "657cf067-fc6f-4561-86e8-0fbe0b22ce97"
      },
      "execution_count": 9,
      "outputs": [
        {
          "output_type": "stream",
          "name": "stdout",
          "text": [
            "[[-2.   1. ]\n",
            " [ 1.5 -0.5]]\n"
          ]
        }
      ]
    },
    {
      "cell_type": "code",
      "source": [
        "# Determinant – np.linalg.det()  --- Useful for checking if a matrix is invertible (det ≠ 0).\n",
        "det_A=np.linalg.det(A)\n",
        "print(det_A)"
      ],
      "metadata": {
        "colab": {
          "base_uri": "https://localhost:8080/"
        },
        "id": "XoQVd97sXo75",
        "outputId": "eb8cd9c8-3076-43cd-c6dc-ff21a62a09ba"
      },
      "execution_count": 10,
      "outputs": [
        {
          "output_type": "stream",
          "name": "stdout",
          "text": [
            "-2.0000000000000004\n"
          ]
        }
      ]
    },
    {
      "cell_type": "code",
      "source": [
        "# Eigenvalues & Eigenvectors – np.linalg.eig()\n",
        "# Eigenvalues tell you the stretch factor of transformation.\n",
        "# Eigenvectors give the direction of that stretch.\n",
        "\n",
        "eig_vals, eig_vecs = np.linalg.eig(A)\n",
        "print(\"Eigenvalues:\", eig_vals)\n",
        "print(\"Eigenvectors:\\n\", eig_vecs)"
      ],
      "metadata": {
        "colab": {
          "base_uri": "https://localhost:8080/"
        },
        "id": "croNpaP_Xo-u",
        "outputId": "7ac5a578-cb21-4822-c2ff-91788d912ad4"
      },
      "execution_count": 11,
      "outputs": [
        {
          "output_type": "stream",
          "name": "stdout",
          "text": [
            "Eigenvalues: [-0.37228132  5.37228132]\n",
            "Eigenvectors:\n",
            " [[-0.82456484 -0.41597356]\n",
            " [ 0.56576746 -0.90937671]]\n"
          ]
        }
      ]
    },
    {
      "cell_type": "code",
      "source": [
        "# Vector Norm -- np.linalg.norm()\n",
        "# Norm is the length or magnitude of a vector\n",
        "# L2 -- Euclidean Distance\n",
        "# L1 -- Manhattan Distance\n",
        "\n",
        "v=np.array([3,4])\n",
        "print(np.linalg.norm(v)) #l2\n",
        "print(np.linalg.norm(v,1)) #l1"
      ],
      "metadata": {
        "colab": {
          "base_uri": "https://localhost:8080/"
        },
        "id": "kjm0ytSdXpBh",
        "outputId": "3fff8735-38b2-438e-c624-157d6f176046"
      },
      "execution_count": 12,
      "outputs": [
        {
          "output_type": "stream",
          "name": "stdout",
          "text": [
            "5.0\n",
            "7.0\n"
          ]
        }
      ]
    },
    {
      "cell_type": "code",
      "source": [],
      "metadata": {
        "id": "s-xAJgiYXpEg"
      },
      "execution_count": null,
      "outputs": []
    },
    {
      "cell_type": "code",
      "source": [],
      "metadata": {
        "id": "XktrvhXBXpHS"
      },
      "execution_count": null,
      "outputs": []
    },
    {
      "cell_type": "code",
      "source": [],
      "metadata": {
        "id": "1mEBnyG3XpKQ"
      },
      "execution_count": null,
      "outputs": []
    },
    {
      "cell_type": "code",
      "source": [],
      "metadata": {
        "id": "hW7w2_8NXpNC"
      },
      "execution_count": null,
      "outputs": []
    },
    {
      "cell_type": "code",
      "source": [],
      "metadata": {
        "id": "l5zPXsHRXpPz"
      },
      "execution_count": null,
      "outputs": []
    },
    {
      "cell_type": "code",
      "source": [],
      "metadata": {
        "id": "xPTBZHHJXpS_"
      },
      "execution_count": null,
      "outputs": []
    },
    {
      "cell_type": "code",
      "source": [],
      "metadata": {
        "id": "B64ofZhHXpV9"
      },
      "execution_count": null,
      "outputs": []
    },
    {
      "cell_type": "code",
      "source": [],
      "metadata": {
        "id": "GT0od2meXpYy"
      },
      "execution_count": null,
      "outputs": []
    },
    {
      "cell_type": "code",
      "source": [],
      "metadata": {
        "id": "Ug6OQ4wiXpbu"
      },
      "execution_count": null,
      "outputs": []
    },
    {
      "cell_type": "code",
      "source": [],
      "metadata": {
        "id": "L83ty2yKXpfA"
      },
      "execution_count": null,
      "outputs": []
    },
    {
      "cell_type": "code",
      "source": [],
      "metadata": {
        "id": "Z-yPxW7OXpiG"
      },
      "execution_count": null,
      "outputs": []
    },
    {
      "cell_type": "code",
      "source": [],
      "metadata": {
        "id": "7FiKKCF0Xplg"
      },
      "execution_count": null,
      "outputs": []
    },
    {
      "cell_type": "code",
      "source": [],
      "metadata": {
        "id": "5q7NEcIcXpof"
      },
      "execution_count": null,
      "outputs": []
    },
    {
      "cell_type": "code",
      "source": [],
      "metadata": {
        "id": "GQN7oVkmXprv"
      },
      "execution_count": null,
      "outputs": []
    },
    {
      "cell_type": "code",
      "source": [],
      "metadata": {
        "id": "U2tauWsdXpum"
      },
      "execution_count": null,
      "outputs": []
    },
    {
      "cell_type": "code",
      "source": [],
      "metadata": {
        "id": "-LUXKCu8Xpxe"
      },
      "execution_count": null,
      "outputs": []
    },
    {
      "cell_type": "code",
      "source": [],
      "metadata": {
        "id": "rZQcXObsXp0W"
      },
      "execution_count": null,
      "outputs": []
    },
    {
      "cell_type": "code",
      "source": [],
      "metadata": {
        "id": "KQIL3gKNXp3E"
      },
      "execution_count": null,
      "outputs": []
    },
    {
      "cell_type": "code",
      "source": [],
      "metadata": {
        "id": "ZPUABeFMomjQ"
      },
      "execution_count": null,
      "outputs": []
    },
    {
      "cell_type": "code",
      "source": [],
      "metadata": {
        "id": "fIsSlQ5Iommi"
      },
      "execution_count": null,
      "outputs": []
    }
  ]
}