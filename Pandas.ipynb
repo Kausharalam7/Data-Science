{
  "nbformat": 4,
  "nbformat_minor": 0,
  "metadata": {
    "colab": {
      "provenance": [],
      "authorship_tag": "ABX9TyO+Xj0KQ/HY4ponfw2rU6/j",
      "include_colab_link": true
    },
    "kernelspec": {
      "name": "python3",
      "display_name": "Python 3"
    },
    "language_info": {
      "name": "python"
    }
  },
  "cells": [
    {
      "cell_type": "markdown",
      "metadata": {
        "id": "view-in-github",
        "colab_type": "text"
      },
      "source": [
        "<a href=\"https://colab.research.google.com/github/Kausharalam7/Data-Science/blob/main/Pandas.ipynb\" target=\"_parent\"><img src=\"https://colab.research.google.com/assets/colab-badge.svg\" alt=\"Open In Colab\"/></a>"
      ]
    },
    {
      "cell_type": "markdown",
      "source": [
        "# Pandas\n",
        "\n",
        "Pandas is an open-source Python library used for data manipulation and analysis.\n",
        "\n",
        "It provides powerful data structures for working with structured data (rows & columns) — much like Excel or SQL tables, but with the full power of Python.\n",
        "\n",
        "\n",
        "\n",
        "\n",
        "\n",
        "\n"
      ],
      "metadata": {
        "id": "J1By4BkZeykZ"
      }
    },
    {
      "cell_type": "markdown",
      "source": [
        "Why Pandas is used in Data Science\n",
        "\n",
        "Pandas is used because:\n",
        "\n",
        "*  It loads data from multiple formats: CSV, Excel, SQL, JSON, Parquet, etc.\n",
        "*  It cleans data: handles missing values, removes duplicates, fixes formats.\n",
        "*  It filters and queries: select rows/columns, apply conditions.\n",
        "*  It aggregates and groups data: like SQL’s GROUP BY.\n",
        "*  It integrates with other libraries like NumPy, Matplotlib, Seaborn, scikit-learn.\n",
        "\n"
      ],
      "metadata": {
        "id": "XUaHqSoifeWM"
      }
    },
    {
      "cell_type": "code",
      "source": [
        "# How is Pandas different from NumPy?\n",
        "# Pandas works with labeled tabular data; NumPy works with numeric arrays without labels.\n",
        "import pandas as pd\n",
        "import numpy as np"
      ],
      "metadata": {
        "id": "WhWMjqlzf5eI"
      },
      "execution_count": null,
      "outputs": []
    },
    {
      "cell_type": "code",
      "execution_count": null,
      "metadata": {
        "colab": {
          "base_uri": "https://localhost:8080/"
        },
        "id": "zTpTi1PfcNeF",
        "outputId": "db7bb9e6-a43f-422f-d186-123ae99d9fb3"
      },
      "outputs": [
        {
          "output_type": "stream",
          "name": "stdout",
          "text": [
            "    Name  Age       City\n",
            "0   Amit   25      Delhi\n",
            "1  Priya   30     Mumbai\n",
            "2  Rahul   22  Bangalore\n"
          ]
        }
      ],
      "source": [
        "data = {\n",
        "    'Name': ['Amit', 'Priya', 'Rahul'],\n",
        "    'Age': [25, 30, 22],\n",
        "    'City': ['Delhi', 'Mumbai', 'Bangalore']\n",
        "}\n",
        "\n",
        "df = pd.DataFrame(data)\n",
        "print(df)"
      ]
    },
    {
      "cell_type": "markdown",
      "source": [
        "**Pandas Data Structures**"
      ],
      "metadata": {
        "id": "CuQozZyegTC5"
      }
    },
    {
      "cell_type": "markdown",
      "source": [
        "1. Series\n",
        "\n",
        "* A Series is a 1D labeled array that can store any data type (int, float,     string, Python objects).\n",
        "It has two parts:\n",
        "\n",
        "   Index → labels (row names)\n",
        "\n",
        "   Values → actual data"
      ],
      "metadata": {
        "id": "2Wi5KuWKgnqF"
      }
    },
    {
      "cell_type": "code",
      "source": [
        "# creating series\n",
        "\n",
        "# from lists\n",
        "s1=pd.Series([10,20,30])\n",
        "\n",
        "# from a numpy array\n",
        "arr=np.array([5,20,25])\n",
        "s2=pd.Series(arr)\n",
        "\n",
        "# from a dictionary\n",
        "s3=pd.Series({'a':300,'b':'200','c':100})\n",
        "\n",
        "print(s1)\n",
        "print(s2)\n",
        "print(s3)"
      ],
      "metadata": {
        "colab": {
          "base_uri": "https://localhost:8080/"
        },
        "id": "8lB_XHi7dbte",
        "outputId": "2ed6bf4e-18a2-4abb-80d8-b6e3bff79e27"
      },
      "execution_count": null,
      "outputs": [
        {
          "output_type": "stream",
          "name": "stdout",
          "text": [
            "0    10\n",
            "1    20\n",
            "2    30\n",
            "dtype: int64\n",
            "0     5\n",
            "1    20\n",
            "2    25\n",
            "dtype: int64\n",
            "a    300\n",
            "b    200\n",
            "c    100\n",
            "dtype: object\n"
          ]
        }
      ]
    },
    {
      "cell_type": "code",
      "source": [
        "# Indexing & Slicing\n",
        "\n",
        "#label based indexing (.loc)\n",
        "print(s3.loc['a'])\n",
        "\n",
        "# integer based indexing(.iloc)\n",
        "print(s3.iloc[1])\n",
        "\n",
        "# Slicing\n",
        "print(s2[0:2])"
      ],
      "metadata": {
        "colab": {
          "base_uri": "https://localhost:8080/"
        },
        "id": "xQ_2TxBQdbwC",
        "outputId": "36a726cb-44e2-48f5-cec2-dbd8212ae352"
      },
      "execution_count": null,
      "outputs": [
        {
          "output_type": "stream",
          "name": "stdout",
          "text": [
            "300\n",
            "200\n",
            "0     5\n",
            "1    20\n",
            "dtype: int64\n"
          ]
        }
      ]
    },
    {
      "cell_type": "markdown",
      "source": [
        "**DataFrame **\n",
        "\n",
        "A DataFrame is a 2D labeled data structure (rows & columns), like an Excel table or SQL table.\n",
        "\n",
        "* Columns can have different data types."
      ],
      "metadata": {
        "id": "l0RBY8hslMjy"
      }
    },
    {
      "cell_type": "code",
      "source": [
        "# creating dataframe\n",
        "\n",
        "# from dictionary of lists\n",
        "data={\n",
        "    'Name':['Amit','Priya', 'rahul'],\n",
        "    'Age':[23,45,67],\n",
        "    'City':['Delhi','New York','Bangalore']\n",
        "}\n",
        "df=pd.DataFrame(data)\n",
        "print(df)\n",
        "print(\"  \\n\")\n",
        "\n",
        "# from list of dictionaries\n",
        "data_list=[\n",
        "     {'Name': 'Amit', 'Age': 25},\n",
        "     {'Name': 'Priya', 'Age': 30}\n",
        "]\n",
        "df2=pd.DataFrame(data_list)\n",
        "print(df2)\n",
        "print(\"\\n\")\n",
        "\n",
        "# from numpy array\n",
        "arr=np.array([[2,3],[20,4]])\n",
        "df3=pd.DataFrame(arr, columns=['col1','col2'])\n",
        "print(df3)\n"
      ],
      "metadata": {
        "colab": {
          "base_uri": "https://localhost:8080/"
        },
        "id": "EVPnWv6fdbyq",
        "outputId": "89e417c5-a814-448b-d7e2-d0ade29afbad"
      },
      "execution_count": null,
      "outputs": [
        {
          "output_type": "stream",
          "name": "stdout",
          "text": [
            "    Name  Age       City\n",
            "0   Amit   23      Delhi\n",
            "1  Priya   45   New York\n",
            "2  rahul   67  Bangalore\n",
            "  \n",
            "\n",
            "    Name  Age\n",
            "0   Amit   25\n",
            "1  Priya   30\n",
            "\n",
            "\n",
            "   col1  col2\n",
            "0     2     3\n",
            "1    20     4\n"
          ]
        }
      ]
    },
    {
      "cell_type": "code",
      "source": [
        "data = {\n",
        "    'Name': ['Amit', 'Priya', 'Rahul'],\n",
        "    'Age': [25, 30, 22],\n",
        "    'City': ['Delhi', 'Mumbai', 'Bangalore']\n",
        "}\n",
        "df=pd.DataFrame(data)\n",
        "print(df)\n",
        "print(df.shape)\n",
        "print(df.columns)\n",
        "print(df.index)\n",
        "print(df.dtypes)"
      ],
      "metadata": {
        "colab": {
          "base_uri": "https://localhost:8080/"
        },
        "id": "xBkmEsKAdb1Z",
        "outputId": "f8f6b290-2031-4d53-9f5b-91e2ef53cc88"
      },
      "execution_count": null,
      "outputs": [
        {
          "output_type": "stream",
          "name": "stdout",
          "text": [
            "    Name  Age       City\n",
            "0   Amit   25      Delhi\n",
            "1  Priya   30     Mumbai\n",
            "2  Rahul   22  Bangalore\n",
            "(3, 3)\n",
            "Index(['Name', 'Age', 'City'], dtype='object')\n",
            "RangeIndex(start=0, stop=3, step=1)\n",
            "Name    object\n",
            "Age      int64\n",
            "City    object\n",
            "dtype: object\n"
          ]
        }
      ]
    },
    {
      "cell_type": "markdown",
      "source": [
        "**Importing & Exporting Data in Pandas**"
      ],
      "metadata": {
        "id": "Qj_pCuzspEFK"
      }
    },
    {
      "cell_type": "code",
      "source": [
        "# importing data (reading files)\n",
        "\n",
        "# Basic read\n",
        "df = pd.read_csv(\"data.csv\")\n",
        "\n",
        "# Common parameters\n",
        "df = pd.read_csv(\n",
        "    \"data.csv\",\n",
        "    sep=\",\",            # Change separator (default is comma)\n",
        "    header=0,           # Row number to use as column names (default 0)\n",
        "    index_col=0,        # Column to use as index\n",
        "    usecols=['order_id','ship_date'], # Only load specific columns\n",
        "   # skiprows=2          # Skip first 2 rows\n",
        ")\n",
        "print(df.head())\n"
      ],
      "metadata": {
        "colab": {
          "base_uri": "https://localhost:8080/"
        },
        "id": "PLdh-m6mdb4g",
        "outputId": "ce9a84b4-30ed-48c2-9836-964e1913cf28"
      },
      "execution_count": null,
      "outputs": [
        {
          "output_type": "stream",
          "name": "stdout",
          "text": [
            "                 ship_date\n",
            "order_id                  \n",
            "CA-2020-152156  11-11-2020\n",
            "CA-2020-152156  11-11-2020\n",
            "CA-2020-138688  16-06-2020\n",
            "US-2019-108966  18-10-2019\n",
            "US-2019-108966  18-10-2019\n"
          ]
        }
      ]
    },
    {
      "cell_type": "code",
      "source": [
        "# Excel files\n",
        "\n",
        "df = pd.read_excel(\"data.xlsx\", sheet_name=\"Sheet1\")\n",
        "\n",
        "# Reading specific columns\n",
        "df = pd.read_excel(\"data.xlsx\", usecols=\"A:C\")  # First 3 columns\n"
      ],
      "metadata": {
        "id": "h_RbKZ0jdb6i"
      },
      "execution_count": null,
      "outputs": []
    },
    {
      "cell_type": "code",
      "source": [
        "# JSON files\n",
        "df = pd.read_json(\"data.json\")\n"
      ],
      "metadata": {
        "id": "vxIA2epXdb9Q"
      },
      "execution_count": null,
      "outputs": []
    },
    {
      "cell_type": "code",
      "source": [
        "# SQL Databases\n",
        "import sqlite3\n",
        "conn = sqlite3.connect(\"mydb.db\")\n",
        "\n",
        "# Read SQL table\n",
        "df = pd.read_sql(\"SELECT * FROM customers\", conn)\n"
      ],
      "metadata": {
        "id": "8sJICX83dcAH"
      },
      "execution_count": null,
      "outputs": []
    },
    {
      "cell_type": "code",
      "source": [
        "# Exporting Data (Saving files)\n",
        "\n",
        "# CSV\n",
        "df.to_csv(\"output.csv\", index=False)  # index=False → don’t save row numbers\n",
        "\n",
        "# Excel\n",
        "df.to_excel(\"output.xlsx\",index=False, sheet_name=\"Results\")\n",
        "\n",
        "# JSON\n",
        "df.to_json(\"output.json\", orient=\"records\")"
      ],
      "metadata": {
        "id": "qqVoVrvAdcCt"
      },
      "execution_count": null,
      "outputs": []
    },
    {
      "cell_type": "code",
      "source": [
        "df = pd.read_csv(\"titanic.csv\")\n",
        "print(df.head())"
      ],
      "metadata": {
        "colab": {
          "base_uri": "https://localhost:8080/"
        },
        "id": "BMD8366udcFy",
        "outputId": "52d84a33-a065-4296-b05c-e8be1ebf3386"
      },
      "execution_count": null,
      "outputs": [
        {
          "output_type": "stream",
          "name": "stdout",
          "text": [
            "  Cabin            Ticket number  Survived\n",
            "0   NaN         A/5 21171      5         0\n",
            "1   C85          PC 17599      3         1\n",
            "2   NaN  STON/O2. 3101282      6         1\n",
            "3  C123            113803      3         1\n",
            "4   NaN            373450      A         0\n"
          ]
        }
      ]
    },
    {
      "cell_type": "code",
      "source": [
        "print(df.tail())"
      ],
      "metadata": {
        "colab": {
          "base_uri": "https://localhost:8080/"
        },
        "id": "wjnVy12bvrjT",
        "outputId": "e5f2b684-6e53-4b20-e1cc-9ec3f6f56fd3"
      },
      "execution_count": null,
      "outputs": [
        {
          "output_type": "stream",
          "name": "stdout",
          "text": [
            "    Cabin      Ticket number  Survived\n",
            "886   NaN      211536      3         0\n",
            "887   B42      112053      3         1\n",
            "888   NaN  W./C. 6607      1         0\n",
            "889  C148      111369      2         1\n",
            "890   NaN      370376      3         0\n"
          ]
        }
      ]
    },
    {
      "cell_type": "code",
      "source": [
        "print(df.sample(5))"
      ],
      "metadata": {
        "colab": {
          "base_uri": "https://localhost:8080/"
        },
        "id": "yF6JAD9GvrSi",
        "outputId": "552707c5-1118-4cdf-9a86-98accaceede5"
      },
      "execution_count": null,
      "outputs": [
        {
          "output_type": "stream",
          "name": "stdout",
          "text": [
            "    Cabin         Ticket number  Survived\n",
            "181   NaN  SC/PARIS 2131      6         0\n",
            "36    NaN           2677      4         1\n",
            "595   NaN         345773      A         0\n",
            "130   NaN         349241      5         0\n",
            "143   NaN         365222      6         0\n"
          ]
        }
      ]
    },
    {
      "cell_type": "code",
      "source": [
        "# .info() → overview of DataFrame --- Shows column names, non-null counts, and data types.\n",
        "df.info()"
      ],
      "metadata": {
        "colab": {
          "base_uri": "https://localhost:8080/"
        },
        "id": "Jc0h2quEdcIY",
        "outputId": "69bdaa85-4ebe-40d9-d843-b01f3b13766d"
      },
      "execution_count": null,
      "outputs": [
        {
          "output_type": "stream",
          "name": "stdout",
          "text": [
            "<class 'pandas.core.frame.DataFrame'>\n",
            "RangeIndex: 891 entries, 0 to 890\n",
            "Data columns (total 4 columns):\n",
            " #   Column    Non-Null Count  Dtype \n",
            "---  ------    --------------  ----- \n",
            " 0   Cabin     204 non-null    object\n",
            " 1   Ticket    891 non-null    object\n",
            " 2   number    891 non-null    object\n",
            " 3   Survived  891 non-null    int64 \n",
            "dtypes: int64(1), object(3)\n",
            "memory usage: 28.0+ KB\n"
          ]
        }
      ]
    },
    {
      "cell_type": "code",
      "source": [
        "# .describe() → statistical summary  -- Works only on numeric columns by default.\n",
        "df.describe()"
      ],
      "metadata": {
        "colab": {
          "base_uri": "https://localhost:8080/",
          "height": 300
        },
        "id": "I_MP4-yydcLZ",
        "outputId": "62f21aff-1d3c-4b9d-9164-fa7039efe10d"
      },
      "execution_count": null,
      "outputs": [
        {
          "output_type": "execute_result",
          "data": {
            "text/plain": [
              "         Survived\n",
              "count  891.000000\n",
              "mean     0.383838\n",
              "std      0.486592\n",
              "min      0.000000\n",
              "25%      0.000000\n",
              "50%      0.000000\n",
              "75%      1.000000\n",
              "max      1.000000"
            ],
            "text/html": [
              "\n",
              "  <div id=\"df-0d5ca053-0520-40c9-b9a6-4fa0e651a976\" class=\"colab-df-container\">\n",
              "    <div>\n",
              "<style scoped>\n",
              "    .dataframe tbody tr th:only-of-type {\n",
              "        vertical-align: middle;\n",
              "    }\n",
              "\n",
              "    .dataframe tbody tr th {\n",
              "        vertical-align: top;\n",
              "    }\n",
              "\n",
              "    .dataframe thead th {\n",
              "        text-align: right;\n",
              "    }\n",
              "</style>\n",
              "<table border=\"1\" class=\"dataframe\">\n",
              "  <thead>\n",
              "    <tr style=\"text-align: right;\">\n",
              "      <th></th>\n",
              "      <th>Survived</th>\n",
              "    </tr>\n",
              "  </thead>\n",
              "  <tbody>\n",
              "    <tr>\n",
              "      <th>count</th>\n",
              "      <td>891.000000</td>\n",
              "    </tr>\n",
              "    <tr>\n",
              "      <th>mean</th>\n",
              "      <td>0.383838</td>\n",
              "    </tr>\n",
              "    <tr>\n",
              "      <th>std</th>\n",
              "      <td>0.486592</td>\n",
              "    </tr>\n",
              "    <tr>\n",
              "      <th>min</th>\n",
              "      <td>0.000000</td>\n",
              "    </tr>\n",
              "    <tr>\n",
              "      <th>25%</th>\n",
              "      <td>0.000000</td>\n",
              "    </tr>\n",
              "    <tr>\n",
              "      <th>50%</th>\n",
              "      <td>0.000000</td>\n",
              "    </tr>\n",
              "    <tr>\n",
              "      <th>75%</th>\n",
              "      <td>1.000000</td>\n",
              "    </tr>\n",
              "    <tr>\n",
              "      <th>max</th>\n",
              "      <td>1.000000</td>\n",
              "    </tr>\n",
              "  </tbody>\n",
              "</table>\n",
              "</div>\n",
              "    <div class=\"colab-df-buttons\">\n",
              "\n",
              "  <div class=\"colab-df-container\">\n",
              "    <button class=\"colab-df-convert\" onclick=\"convertToInteractive('df-0d5ca053-0520-40c9-b9a6-4fa0e651a976')\"\n",
              "            title=\"Convert this dataframe to an interactive table.\"\n",
              "            style=\"display:none;\">\n",
              "\n",
              "  <svg xmlns=\"http://www.w3.org/2000/svg\" height=\"24px\" viewBox=\"0 -960 960 960\">\n",
              "    <path d=\"M120-120v-720h720v720H120Zm60-500h600v-160H180v160Zm220 220h160v-160H400v160Zm0 220h160v-160H400v160ZM180-400h160v-160H180v160Zm440 0h160v-160H620v160ZM180-180h160v-160H180v160Zm440 0h160v-160H620v160Z\"/>\n",
              "  </svg>\n",
              "    </button>\n",
              "\n",
              "  <style>\n",
              "    .colab-df-container {\n",
              "      display:flex;\n",
              "      gap: 12px;\n",
              "    }\n",
              "\n",
              "    .colab-df-convert {\n",
              "      background-color: #E8F0FE;\n",
              "      border: none;\n",
              "      border-radius: 50%;\n",
              "      cursor: pointer;\n",
              "      display: none;\n",
              "      fill: #1967D2;\n",
              "      height: 32px;\n",
              "      padding: 0 0 0 0;\n",
              "      width: 32px;\n",
              "    }\n",
              "\n",
              "    .colab-df-convert:hover {\n",
              "      background-color: #E2EBFA;\n",
              "      box-shadow: 0px 1px 2px rgba(60, 64, 67, 0.3), 0px 1px 3px 1px rgba(60, 64, 67, 0.15);\n",
              "      fill: #174EA6;\n",
              "    }\n",
              "\n",
              "    .colab-df-buttons div {\n",
              "      margin-bottom: 4px;\n",
              "    }\n",
              "\n",
              "    [theme=dark] .colab-df-convert {\n",
              "      background-color: #3B4455;\n",
              "      fill: #D2E3FC;\n",
              "    }\n",
              "\n",
              "    [theme=dark] .colab-df-convert:hover {\n",
              "      background-color: #434B5C;\n",
              "      box-shadow: 0px 1px 3px 1px rgba(0, 0, 0, 0.15);\n",
              "      filter: drop-shadow(0px 1px 2px rgba(0, 0, 0, 0.3));\n",
              "      fill: #FFFFFF;\n",
              "    }\n",
              "  </style>\n",
              "\n",
              "    <script>\n",
              "      const buttonEl =\n",
              "        document.querySelector('#df-0d5ca053-0520-40c9-b9a6-4fa0e651a976 button.colab-df-convert');\n",
              "      buttonEl.style.display =\n",
              "        google.colab.kernel.accessAllowed ? 'block' : 'none';\n",
              "\n",
              "      async function convertToInteractive(key) {\n",
              "        const element = document.querySelector('#df-0d5ca053-0520-40c9-b9a6-4fa0e651a976');\n",
              "        const dataTable =\n",
              "          await google.colab.kernel.invokeFunction('convertToInteractive',\n",
              "                                                    [key], {});\n",
              "        if (!dataTable) return;\n",
              "\n",
              "        const docLinkHtml = 'Like what you see? Visit the ' +\n",
              "          '<a target=\"_blank\" href=https://colab.research.google.com/notebooks/data_table.ipynb>data table notebook</a>'\n",
              "          + ' to learn more about interactive tables.';\n",
              "        element.innerHTML = '';\n",
              "        dataTable['output_type'] = 'display_data';\n",
              "        await google.colab.output.renderOutput(dataTable, element);\n",
              "        const docLink = document.createElement('div');\n",
              "        docLink.innerHTML = docLinkHtml;\n",
              "        element.appendChild(docLink);\n",
              "      }\n",
              "    </script>\n",
              "  </div>\n",
              "\n",
              "\n",
              "    <div id=\"df-84db8754-aa00-473e-a248-98cca2e33520\">\n",
              "      <button class=\"colab-df-quickchart\" onclick=\"quickchart('df-84db8754-aa00-473e-a248-98cca2e33520')\"\n",
              "                title=\"Suggest charts\"\n",
              "                style=\"display:none;\">\n",
              "\n",
              "<svg xmlns=\"http://www.w3.org/2000/svg\" height=\"24px\"viewBox=\"0 0 24 24\"\n",
              "     width=\"24px\">\n",
              "    <g>\n",
              "        <path d=\"M19 3H5c-1.1 0-2 .9-2 2v14c0 1.1.9 2 2 2h14c1.1 0 2-.9 2-2V5c0-1.1-.9-2-2-2zM9 17H7v-7h2v7zm4 0h-2V7h2v10zm4 0h-2v-4h2v4z\"/>\n",
              "    </g>\n",
              "</svg>\n",
              "      </button>\n",
              "\n",
              "<style>\n",
              "  .colab-df-quickchart {\n",
              "      --bg-color: #E8F0FE;\n",
              "      --fill-color: #1967D2;\n",
              "      --hover-bg-color: #E2EBFA;\n",
              "      --hover-fill-color: #174EA6;\n",
              "      --disabled-fill-color: #AAA;\n",
              "      --disabled-bg-color: #DDD;\n",
              "  }\n",
              "\n",
              "  [theme=dark] .colab-df-quickchart {\n",
              "      --bg-color: #3B4455;\n",
              "      --fill-color: #D2E3FC;\n",
              "      --hover-bg-color: #434B5C;\n",
              "      --hover-fill-color: #FFFFFF;\n",
              "      --disabled-bg-color: #3B4455;\n",
              "      --disabled-fill-color: #666;\n",
              "  }\n",
              "\n",
              "  .colab-df-quickchart {\n",
              "    background-color: var(--bg-color);\n",
              "    border: none;\n",
              "    border-radius: 50%;\n",
              "    cursor: pointer;\n",
              "    display: none;\n",
              "    fill: var(--fill-color);\n",
              "    height: 32px;\n",
              "    padding: 0;\n",
              "    width: 32px;\n",
              "  }\n",
              "\n",
              "  .colab-df-quickchart:hover {\n",
              "    background-color: var(--hover-bg-color);\n",
              "    box-shadow: 0 1px 2px rgba(60, 64, 67, 0.3), 0 1px 3px 1px rgba(60, 64, 67, 0.15);\n",
              "    fill: var(--button-hover-fill-color);\n",
              "  }\n",
              "\n",
              "  .colab-df-quickchart-complete:disabled,\n",
              "  .colab-df-quickchart-complete:disabled:hover {\n",
              "    background-color: var(--disabled-bg-color);\n",
              "    fill: var(--disabled-fill-color);\n",
              "    box-shadow: none;\n",
              "  }\n",
              "\n",
              "  .colab-df-spinner {\n",
              "    border: 2px solid var(--fill-color);\n",
              "    border-color: transparent;\n",
              "    border-bottom-color: var(--fill-color);\n",
              "    animation:\n",
              "      spin 1s steps(1) infinite;\n",
              "  }\n",
              "\n",
              "  @keyframes spin {\n",
              "    0% {\n",
              "      border-color: transparent;\n",
              "      border-bottom-color: var(--fill-color);\n",
              "      border-left-color: var(--fill-color);\n",
              "    }\n",
              "    20% {\n",
              "      border-color: transparent;\n",
              "      border-left-color: var(--fill-color);\n",
              "      border-top-color: var(--fill-color);\n",
              "    }\n",
              "    30% {\n",
              "      border-color: transparent;\n",
              "      border-left-color: var(--fill-color);\n",
              "      border-top-color: var(--fill-color);\n",
              "      border-right-color: var(--fill-color);\n",
              "    }\n",
              "    40% {\n",
              "      border-color: transparent;\n",
              "      border-right-color: var(--fill-color);\n",
              "      border-top-color: var(--fill-color);\n",
              "    }\n",
              "    60% {\n",
              "      border-color: transparent;\n",
              "      border-right-color: var(--fill-color);\n",
              "    }\n",
              "    80% {\n",
              "      border-color: transparent;\n",
              "      border-right-color: var(--fill-color);\n",
              "      border-bottom-color: var(--fill-color);\n",
              "    }\n",
              "    90% {\n",
              "      border-color: transparent;\n",
              "      border-bottom-color: var(--fill-color);\n",
              "    }\n",
              "  }\n",
              "</style>\n",
              "\n",
              "      <script>\n",
              "        async function quickchart(key) {\n",
              "          const quickchartButtonEl =\n",
              "            document.querySelector('#' + key + ' button');\n",
              "          quickchartButtonEl.disabled = true;  // To prevent multiple clicks.\n",
              "          quickchartButtonEl.classList.add('colab-df-spinner');\n",
              "          try {\n",
              "            const charts = await google.colab.kernel.invokeFunction(\n",
              "                'suggestCharts', [key], {});\n",
              "          } catch (error) {\n",
              "            console.error('Error during call to suggestCharts:', error);\n",
              "          }\n",
              "          quickchartButtonEl.classList.remove('colab-df-spinner');\n",
              "          quickchartButtonEl.classList.add('colab-df-quickchart-complete');\n",
              "        }\n",
              "        (() => {\n",
              "          let quickchartButtonEl =\n",
              "            document.querySelector('#df-84db8754-aa00-473e-a248-98cca2e33520 button');\n",
              "          quickchartButtonEl.style.display =\n",
              "            google.colab.kernel.accessAllowed ? 'block' : 'none';\n",
              "        })();\n",
              "      </script>\n",
              "    </div>\n",
              "\n",
              "    </div>\n",
              "  </div>\n"
            ],
            "application/vnd.google.colaboratory.intrinsic+json": {
              "type": "dataframe",
              "summary": "{\n  \"name\": \"df\",\n  \"rows\": 8,\n  \"fields\": [\n    {\n      \"column\": \"Survived\",\n      \"properties\": {\n        \"dtype\": \"number\",\n        \"std\": 314.8713661874558,\n        \"min\": 0.0,\n        \"max\": 891.0,\n        \"num_unique_values\": 5,\n        \"samples\": [\n          0.3838383838383838,\n          1.0,\n          0.4865924542648585\n        ],\n        \"semantic_type\": \"\",\n        \"description\": \"\"\n      }\n    }\n  ]\n}"
            }
          },
          "metadata": {},
          "execution_count": 61
        }
      ]
    },
    {
      "cell_type": "code",
      "source": [
        "df.describe(include=\"all\") # To include categorical columns too:\n"
      ],
      "metadata": {
        "colab": {
          "base_uri": "https://localhost:8080/",
          "height": 394
        },
        "id": "nWoRB1ECdcOR",
        "outputId": "a5fcf068-c0c6-4dd9-811b-ba1bc967284f"
      },
      "execution_count": null,
      "outputs": [
        {
          "output_type": "execute_result",
          "data": {
            "text/plain": [
              "       Cabin  Ticket number    Survived\n",
              "count    204     891    891  891.000000\n",
              "unique   147     681      7         NaN\n",
              "top       G6  347082      A         NaN\n",
              "freq       4       7    139         NaN\n",
              "mean     NaN     NaN    NaN    0.383838\n",
              "std      NaN     NaN    NaN    0.486592\n",
              "min      NaN     NaN    NaN    0.000000\n",
              "25%      NaN     NaN    NaN    0.000000\n",
              "50%      NaN     NaN    NaN    0.000000\n",
              "75%      NaN     NaN    NaN    1.000000\n",
              "max      NaN     NaN    NaN    1.000000"
            ],
            "text/html": [
              "\n",
              "  <div id=\"df-1057d9bb-70cb-49c7-aa79-fe135c506667\" class=\"colab-df-container\">\n",
              "    <div>\n",
              "<style scoped>\n",
              "    .dataframe tbody tr th:only-of-type {\n",
              "        vertical-align: middle;\n",
              "    }\n",
              "\n",
              "    .dataframe tbody tr th {\n",
              "        vertical-align: top;\n",
              "    }\n",
              "\n",
              "    .dataframe thead th {\n",
              "        text-align: right;\n",
              "    }\n",
              "</style>\n",
              "<table border=\"1\" class=\"dataframe\">\n",
              "  <thead>\n",
              "    <tr style=\"text-align: right;\">\n",
              "      <th></th>\n",
              "      <th>Cabin</th>\n",
              "      <th>Ticket</th>\n",
              "      <th>number</th>\n",
              "      <th>Survived</th>\n",
              "    </tr>\n",
              "  </thead>\n",
              "  <tbody>\n",
              "    <tr>\n",
              "      <th>count</th>\n",
              "      <td>204</td>\n",
              "      <td>891</td>\n",
              "      <td>891</td>\n",
              "      <td>891.000000</td>\n",
              "    </tr>\n",
              "    <tr>\n",
              "      <th>unique</th>\n",
              "      <td>147</td>\n",
              "      <td>681</td>\n",
              "      <td>7</td>\n",
              "      <td>NaN</td>\n",
              "    </tr>\n",
              "    <tr>\n",
              "      <th>top</th>\n",
              "      <td>G6</td>\n",
              "      <td>347082</td>\n",
              "      <td>A</td>\n",
              "      <td>NaN</td>\n",
              "    </tr>\n",
              "    <tr>\n",
              "      <th>freq</th>\n",
              "      <td>4</td>\n",
              "      <td>7</td>\n",
              "      <td>139</td>\n",
              "      <td>NaN</td>\n",
              "    </tr>\n",
              "    <tr>\n",
              "      <th>mean</th>\n",
              "      <td>NaN</td>\n",
              "      <td>NaN</td>\n",
              "      <td>NaN</td>\n",
              "      <td>0.383838</td>\n",
              "    </tr>\n",
              "    <tr>\n",
              "      <th>std</th>\n",
              "      <td>NaN</td>\n",
              "      <td>NaN</td>\n",
              "      <td>NaN</td>\n",
              "      <td>0.486592</td>\n",
              "    </tr>\n",
              "    <tr>\n",
              "      <th>min</th>\n",
              "      <td>NaN</td>\n",
              "      <td>NaN</td>\n",
              "      <td>NaN</td>\n",
              "      <td>0.000000</td>\n",
              "    </tr>\n",
              "    <tr>\n",
              "      <th>25%</th>\n",
              "      <td>NaN</td>\n",
              "      <td>NaN</td>\n",
              "      <td>NaN</td>\n",
              "      <td>0.000000</td>\n",
              "    </tr>\n",
              "    <tr>\n",
              "      <th>50%</th>\n",
              "      <td>NaN</td>\n",
              "      <td>NaN</td>\n",
              "      <td>NaN</td>\n",
              "      <td>0.000000</td>\n",
              "    </tr>\n",
              "    <tr>\n",
              "      <th>75%</th>\n",
              "      <td>NaN</td>\n",
              "      <td>NaN</td>\n",
              "      <td>NaN</td>\n",
              "      <td>1.000000</td>\n",
              "    </tr>\n",
              "    <tr>\n",
              "      <th>max</th>\n",
              "      <td>NaN</td>\n",
              "      <td>NaN</td>\n",
              "      <td>NaN</td>\n",
              "      <td>1.000000</td>\n",
              "    </tr>\n",
              "  </tbody>\n",
              "</table>\n",
              "</div>\n",
              "    <div class=\"colab-df-buttons\">\n",
              "\n",
              "  <div class=\"colab-df-container\">\n",
              "    <button class=\"colab-df-convert\" onclick=\"convertToInteractive('df-1057d9bb-70cb-49c7-aa79-fe135c506667')\"\n",
              "            title=\"Convert this dataframe to an interactive table.\"\n",
              "            style=\"display:none;\">\n",
              "\n",
              "  <svg xmlns=\"http://www.w3.org/2000/svg\" height=\"24px\" viewBox=\"0 -960 960 960\">\n",
              "    <path d=\"M120-120v-720h720v720H120Zm60-500h600v-160H180v160Zm220 220h160v-160H400v160Zm0 220h160v-160H400v160ZM180-400h160v-160H180v160Zm440 0h160v-160H620v160ZM180-180h160v-160H180v160Zm440 0h160v-160H620v160Z\"/>\n",
              "  </svg>\n",
              "    </button>\n",
              "\n",
              "  <style>\n",
              "    .colab-df-container {\n",
              "      display:flex;\n",
              "      gap: 12px;\n",
              "    }\n",
              "\n",
              "    .colab-df-convert {\n",
              "      background-color: #E8F0FE;\n",
              "      border: none;\n",
              "      border-radius: 50%;\n",
              "      cursor: pointer;\n",
              "      display: none;\n",
              "      fill: #1967D2;\n",
              "      height: 32px;\n",
              "      padding: 0 0 0 0;\n",
              "      width: 32px;\n",
              "    }\n",
              "\n",
              "    .colab-df-convert:hover {\n",
              "      background-color: #E2EBFA;\n",
              "      box-shadow: 0px 1px 2px rgba(60, 64, 67, 0.3), 0px 1px 3px 1px rgba(60, 64, 67, 0.15);\n",
              "      fill: #174EA6;\n",
              "    }\n",
              "\n",
              "    .colab-df-buttons div {\n",
              "      margin-bottom: 4px;\n",
              "    }\n",
              "\n",
              "    [theme=dark] .colab-df-convert {\n",
              "      background-color: #3B4455;\n",
              "      fill: #D2E3FC;\n",
              "    }\n",
              "\n",
              "    [theme=dark] .colab-df-convert:hover {\n",
              "      background-color: #434B5C;\n",
              "      box-shadow: 0px 1px 3px 1px rgba(0, 0, 0, 0.15);\n",
              "      filter: drop-shadow(0px 1px 2px rgba(0, 0, 0, 0.3));\n",
              "      fill: #FFFFFF;\n",
              "    }\n",
              "  </style>\n",
              "\n",
              "    <script>\n",
              "      const buttonEl =\n",
              "        document.querySelector('#df-1057d9bb-70cb-49c7-aa79-fe135c506667 button.colab-df-convert');\n",
              "      buttonEl.style.display =\n",
              "        google.colab.kernel.accessAllowed ? 'block' : 'none';\n",
              "\n",
              "      async function convertToInteractive(key) {\n",
              "        const element = document.querySelector('#df-1057d9bb-70cb-49c7-aa79-fe135c506667');\n",
              "        const dataTable =\n",
              "          await google.colab.kernel.invokeFunction('convertToInteractive',\n",
              "                                                    [key], {});\n",
              "        if (!dataTable) return;\n",
              "\n",
              "        const docLinkHtml = 'Like what you see? Visit the ' +\n",
              "          '<a target=\"_blank\" href=https://colab.research.google.com/notebooks/data_table.ipynb>data table notebook</a>'\n",
              "          + ' to learn more about interactive tables.';\n",
              "        element.innerHTML = '';\n",
              "        dataTable['output_type'] = 'display_data';\n",
              "        await google.colab.output.renderOutput(dataTable, element);\n",
              "        const docLink = document.createElement('div');\n",
              "        docLink.innerHTML = docLinkHtml;\n",
              "        element.appendChild(docLink);\n",
              "      }\n",
              "    </script>\n",
              "  </div>\n",
              "\n",
              "\n",
              "    <div id=\"df-5203c951-ab3a-4d98-9d72-0d0621e23724\">\n",
              "      <button class=\"colab-df-quickchart\" onclick=\"quickchart('df-5203c951-ab3a-4d98-9d72-0d0621e23724')\"\n",
              "                title=\"Suggest charts\"\n",
              "                style=\"display:none;\">\n",
              "\n",
              "<svg xmlns=\"http://www.w3.org/2000/svg\" height=\"24px\"viewBox=\"0 0 24 24\"\n",
              "     width=\"24px\">\n",
              "    <g>\n",
              "        <path d=\"M19 3H5c-1.1 0-2 .9-2 2v14c0 1.1.9 2 2 2h14c1.1 0 2-.9 2-2V5c0-1.1-.9-2-2-2zM9 17H7v-7h2v7zm4 0h-2V7h2v10zm4 0h-2v-4h2v4z\"/>\n",
              "    </g>\n",
              "</svg>\n",
              "      </button>\n",
              "\n",
              "<style>\n",
              "  .colab-df-quickchart {\n",
              "      --bg-color: #E8F0FE;\n",
              "      --fill-color: #1967D2;\n",
              "      --hover-bg-color: #E2EBFA;\n",
              "      --hover-fill-color: #174EA6;\n",
              "      --disabled-fill-color: #AAA;\n",
              "      --disabled-bg-color: #DDD;\n",
              "  }\n",
              "\n",
              "  [theme=dark] .colab-df-quickchart {\n",
              "      --bg-color: #3B4455;\n",
              "      --fill-color: #D2E3FC;\n",
              "      --hover-bg-color: #434B5C;\n",
              "      --hover-fill-color: #FFFFFF;\n",
              "      --disabled-bg-color: #3B4455;\n",
              "      --disabled-fill-color: #666;\n",
              "  }\n",
              "\n",
              "  .colab-df-quickchart {\n",
              "    background-color: var(--bg-color);\n",
              "    border: none;\n",
              "    border-radius: 50%;\n",
              "    cursor: pointer;\n",
              "    display: none;\n",
              "    fill: var(--fill-color);\n",
              "    height: 32px;\n",
              "    padding: 0;\n",
              "    width: 32px;\n",
              "  }\n",
              "\n",
              "  .colab-df-quickchart:hover {\n",
              "    background-color: var(--hover-bg-color);\n",
              "    box-shadow: 0 1px 2px rgba(60, 64, 67, 0.3), 0 1px 3px 1px rgba(60, 64, 67, 0.15);\n",
              "    fill: var(--button-hover-fill-color);\n",
              "  }\n",
              "\n",
              "  .colab-df-quickchart-complete:disabled,\n",
              "  .colab-df-quickchart-complete:disabled:hover {\n",
              "    background-color: var(--disabled-bg-color);\n",
              "    fill: var(--disabled-fill-color);\n",
              "    box-shadow: none;\n",
              "  }\n",
              "\n",
              "  .colab-df-spinner {\n",
              "    border: 2px solid var(--fill-color);\n",
              "    border-color: transparent;\n",
              "    border-bottom-color: var(--fill-color);\n",
              "    animation:\n",
              "      spin 1s steps(1) infinite;\n",
              "  }\n",
              "\n",
              "  @keyframes spin {\n",
              "    0% {\n",
              "      border-color: transparent;\n",
              "      border-bottom-color: var(--fill-color);\n",
              "      border-left-color: var(--fill-color);\n",
              "    }\n",
              "    20% {\n",
              "      border-color: transparent;\n",
              "      border-left-color: var(--fill-color);\n",
              "      border-top-color: var(--fill-color);\n",
              "    }\n",
              "    30% {\n",
              "      border-color: transparent;\n",
              "      border-left-color: var(--fill-color);\n",
              "      border-top-color: var(--fill-color);\n",
              "      border-right-color: var(--fill-color);\n",
              "    }\n",
              "    40% {\n",
              "      border-color: transparent;\n",
              "      border-right-color: var(--fill-color);\n",
              "      border-top-color: var(--fill-color);\n",
              "    }\n",
              "    60% {\n",
              "      border-color: transparent;\n",
              "      border-right-color: var(--fill-color);\n",
              "    }\n",
              "    80% {\n",
              "      border-color: transparent;\n",
              "      border-right-color: var(--fill-color);\n",
              "      border-bottom-color: var(--fill-color);\n",
              "    }\n",
              "    90% {\n",
              "      border-color: transparent;\n",
              "      border-bottom-color: var(--fill-color);\n",
              "    }\n",
              "  }\n",
              "</style>\n",
              "\n",
              "      <script>\n",
              "        async function quickchart(key) {\n",
              "          const quickchartButtonEl =\n",
              "            document.querySelector('#' + key + ' button');\n",
              "          quickchartButtonEl.disabled = true;  // To prevent multiple clicks.\n",
              "          quickchartButtonEl.classList.add('colab-df-spinner');\n",
              "          try {\n",
              "            const charts = await google.colab.kernel.invokeFunction(\n",
              "                'suggestCharts', [key], {});\n",
              "          } catch (error) {\n",
              "            console.error('Error during call to suggestCharts:', error);\n",
              "          }\n",
              "          quickchartButtonEl.classList.remove('colab-df-spinner');\n",
              "          quickchartButtonEl.classList.add('colab-df-quickchart-complete');\n",
              "        }\n",
              "        (() => {\n",
              "          let quickchartButtonEl =\n",
              "            document.querySelector('#df-5203c951-ab3a-4d98-9d72-0d0621e23724 button');\n",
              "          quickchartButtonEl.style.display =\n",
              "            google.colab.kernel.accessAllowed ? 'block' : 'none';\n",
              "        })();\n",
              "      </script>\n",
              "    </div>\n",
              "\n",
              "    </div>\n",
              "  </div>\n"
            ],
            "application/vnd.google.colaboratory.intrinsic+json": {
              "type": "dataframe",
              "summary": "{\n  \"name\": \"df\",\n  \"rows\": 11,\n  \"fields\": [\n    {\n      \"column\": \"Cabin\",\n      \"properties\": {\n        \"dtype\": \"category\",\n        \"num_unique_values\": 4,\n        \"samples\": [\n          147,\n          \"4\",\n          \"204\"\n        ],\n        \"semantic_type\": \"\",\n        \"description\": \"\"\n      }\n    },\n    {\n      \"column\": \"Ticket\",\n      \"properties\": {\n        \"dtype\": \"category\",\n        \"num_unique_values\": 4,\n        \"samples\": [\n          681,\n          \"7\",\n          \"891\"\n        ],\n        \"semantic_type\": \"\",\n        \"description\": \"\"\n      }\n    },\n    {\n      \"column\": \"number\",\n      \"properties\": {\n        \"dtype\": \"category\",\n        \"num_unique_values\": 4,\n        \"samples\": [\n          7,\n          \"139\",\n          \"891\"\n        ],\n        \"semantic_type\": \"\",\n        \"description\": \"\"\n      }\n    },\n    {\n      \"column\": \"Survived\",\n      \"properties\": {\n        \"dtype\": \"number\",\n        \"std\": 314.8713661874558,\n        \"min\": 0.0,\n        \"max\": 891.0,\n        \"num_unique_values\": 5,\n        \"samples\": [\n          0.3838383838383838,\n          1.0,\n          0.4865924542648585\n        ],\n        \"semantic_type\": \"\",\n        \"description\": \"\"\n      }\n    }\n  ]\n}"
            }
          },
          "metadata": {},
          "execution_count": 63
        }
      ]
    },
    {
      "cell_type": "code",
      "source": [
        "# .nunique() → number of unique values per column\n",
        "df.nunique()"
      ],
      "metadata": {
        "colab": {
          "base_uri": "https://localhost:8080/",
          "height": 209
        },
        "id": "x1GxyplkdcRO",
        "outputId": "9ed02483-3dfd-4221-8a22-141c01e67ac5"
      },
      "execution_count": null,
      "outputs": [
        {
          "output_type": "execute_result",
          "data": {
            "text/plain": [
              "Cabin       147\n",
              "Ticket      681\n",
              "number        7\n",
              "Survived      2\n",
              "dtype: int64"
            ],
            "text/html": [
              "<div>\n",
              "<style scoped>\n",
              "    .dataframe tbody tr th:only-of-type {\n",
              "        vertical-align: middle;\n",
              "    }\n",
              "\n",
              "    .dataframe tbody tr th {\n",
              "        vertical-align: top;\n",
              "    }\n",
              "\n",
              "    .dataframe thead th {\n",
              "        text-align: right;\n",
              "    }\n",
              "</style>\n",
              "<table border=\"1\" class=\"dataframe\">\n",
              "  <thead>\n",
              "    <tr style=\"text-align: right;\">\n",
              "      <th></th>\n",
              "      <th>0</th>\n",
              "    </tr>\n",
              "  </thead>\n",
              "  <tbody>\n",
              "    <tr>\n",
              "      <th>Cabin</th>\n",
              "      <td>147</td>\n",
              "    </tr>\n",
              "    <tr>\n",
              "      <th>Ticket</th>\n",
              "      <td>681</td>\n",
              "    </tr>\n",
              "    <tr>\n",
              "      <th>number</th>\n",
              "      <td>7</td>\n",
              "    </tr>\n",
              "    <tr>\n",
              "      <th>Survived</th>\n",
              "      <td>2</td>\n",
              "    </tr>\n",
              "  </tbody>\n",
              "</table>\n",
              "</div><br><label><b>dtype:</b> int64</label>"
            ]
          },
          "metadata": {},
          "execution_count": 65
        }
      ]
    },
    {
      "cell_type": "code",
      "source": [
        "# .value_counts() → frequency count of unique values in a column\n",
        "df['Ticket'].value_counts()"
      ],
      "metadata": {
        "colab": {
          "base_uri": "https://localhost:8080/",
          "height": 489
        },
        "id": "lU8dSe4cdcUR",
        "outputId": "bc5b0d04-de95-4087-b58c-33bf4cfd5e39"
      },
      "execution_count": null,
      "outputs": [
        {
          "output_type": "execute_result",
          "data": {
            "text/plain": [
              "Ticket\n",
              "347082              7\n",
              "1601                7\n",
              "CA. 2343            7\n",
              "3101295             6\n",
              "CA 2144             6\n",
              "                   ..\n",
              "PC 17590            1\n",
              "17463               1\n",
              "330877              1\n",
              "373450              1\n",
              "STON/O2. 3101282    1\n",
              "Name: count, Length: 681, dtype: int64"
            ],
            "text/html": [
              "<div>\n",
              "<style scoped>\n",
              "    .dataframe tbody tr th:only-of-type {\n",
              "        vertical-align: middle;\n",
              "    }\n",
              "\n",
              "    .dataframe tbody tr th {\n",
              "        vertical-align: top;\n",
              "    }\n",
              "\n",
              "    .dataframe thead th {\n",
              "        text-align: right;\n",
              "    }\n",
              "</style>\n",
              "<table border=\"1\" class=\"dataframe\">\n",
              "  <thead>\n",
              "    <tr style=\"text-align: right;\">\n",
              "      <th></th>\n",
              "      <th>count</th>\n",
              "    </tr>\n",
              "    <tr>\n",
              "      <th>Ticket</th>\n",
              "      <th></th>\n",
              "    </tr>\n",
              "  </thead>\n",
              "  <tbody>\n",
              "    <tr>\n",
              "      <th>347082</th>\n",
              "      <td>7</td>\n",
              "    </tr>\n",
              "    <tr>\n",
              "      <th>1601</th>\n",
              "      <td>7</td>\n",
              "    </tr>\n",
              "    <tr>\n",
              "      <th>CA. 2343</th>\n",
              "      <td>7</td>\n",
              "    </tr>\n",
              "    <tr>\n",
              "      <th>3101295</th>\n",
              "      <td>6</td>\n",
              "    </tr>\n",
              "    <tr>\n",
              "      <th>CA 2144</th>\n",
              "      <td>6</td>\n",
              "    </tr>\n",
              "    <tr>\n",
              "      <th>...</th>\n",
              "      <td>...</td>\n",
              "    </tr>\n",
              "    <tr>\n",
              "      <th>PC 17590</th>\n",
              "      <td>1</td>\n",
              "    </tr>\n",
              "    <tr>\n",
              "      <th>17463</th>\n",
              "      <td>1</td>\n",
              "    </tr>\n",
              "    <tr>\n",
              "      <th>330877</th>\n",
              "      <td>1</td>\n",
              "    </tr>\n",
              "    <tr>\n",
              "      <th>373450</th>\n",
              "      <td>1</td>\n",
              "    </tr>\n",
              "    <tr>\n",
              "      <th>STON/O2. 3101282</th>\n",
              "      <td>1</td>\n",
              "    </tr>\n",
              "  </tbody>\n",
              "</table>\n",
              "<p>681 rows × 1 columns</p>\n",
              "</div><br><label><b>dtype:</b> int64</label>"
            ]
          },
          "metadata": {},
          "execution_count": 68
        }
      ]
    },
    {
      "cell_type": "code",
      "source": [
        "df = pd.DataFrame({\n",
        "    'ID': [101, 102, 103, 104],\n",
        "    'Name': ['Alice', 'Bob', 'Charlie', 'David'],\n",
        "    'Age': [25, 30, 35, 40],\n",
        "    'Dept': ['HR', 'IT', 'IT', 'Finance']\n",
        "})\n",
        "\n",
        "print(df['Name'])\n",
        "print(df.loc[1:2, ['Name', 'Age']])\n",
        "print(df.iloc[0:2, 0:2])\n",
        "print(df[df['Age'] > 30])\n",
        "print(df.at[2, 'Dept'])\n",
        "\n",
        "# .loc[] → label-based, .iloc[] → position-based.\n",
        "# Boolean indexing is heavily used for data cleaning & filtering.\n",
        "# .at[] and .iat[] are for speed optimization when accessing a single value.\n",
        "# .set_index() and .reset_index() are important for time-series and multi-index operations."
      ],
      "metadata": {
        "colab": {
          "base_uri": "https://localhost:8080/"
        },
        "id": "18CqiwyqdcXK",
        "outputId": "a6a8aabb-1146-4620-dc0c-938e66e291f1"
      },
      "execution_count": null,
      "outputs": [
        {
          "output_type": "stream",
          "name": "stdout",
          "text": [
            "0      Alice\n",
            "1        Bob\n",
            "2    Charlie\n",
            "3      David\n",
            "Name: Name, dtype: object\n",
            "      Name  Age\n",
            "1      Bob   30\n",
            "2  Charlie   35\n",
            "    ID   Name\n",
            "0  101  Alice\n",
            "1  102    Bob\n",
            "    ID     Name  Age     Dept\n",
            "2  103  Charlie   35       IT\n",
            "3  104    David   40  Finance\n",
            "IT\n"
          ]
        }
      ]
    },
    {
      "cell_type": "markdown",
      "source": [
        "**Handling Missing Values**"
      ],
      "metadata": {
        "id": "9UH6ENhe02QH"
      }
    },
    {
      "cell_type": "code",
      "source": [
        "df = pd.DataFrame({\n",
        "    'ID': [1, 2, 2, 4],\n",
        "    'Name': ['Alice', 'Bob', 'Bob', 'David'],\n",
        "    'Age': [25, np.nan, 30, 40],\n",
        "    'Dept': ['HR', 'IT', np.nan, 'Finance']\n",
        "})"
      ],
      "metadata": {
        "id": "p--6fd8gdcaV"
      },
      "execution_count": null,
      "outputs": []
    },
    {
      "cell_type": "code",
      "source": [
        "# Check & fill missing values\n",
        "print(df.isna().sum())"
      ],
      "metadata": {
        "colab": {
          "base_uri": "https://localhost:8080/"
        },
        "id": "HcaDUXaNdcdI",
        "outputId": "9b2d3067-9cbb-4009-cd6e-c9a5bc0d7758"
      },
      "execution_count": null,
      "outputs": [
        {
          "output_type": "stream",
          "name": "stdout",
          "text": [
            "ID      0\n",
            "Name    0\n",
            "Age     1\n",
            "Dept    1\n",
            "dtype: int64\n"
          ]
        }
      ]
    },
    {
      "cell_type": "code",
      "source": [
        "df['Age'].fillna(df['Age'].mean(), inplace=True)\n",
        "df['Dept'].fillna('Unknown', inplace=True)\n",
        "print(df)"
      ],
      "metadata": {
        "colab": {
          "base_uri": "https://localhost:8080/"
        },
        "id": "XLs312k8dcgL",
        "outputId": "fa1e522e-a418-4113-df12-1bc92fae63f1"
      },
      "execution_count": null,
      "outputs": [
        {
          "output_type": "stream",
          "name": "stdout",
          "text": [
            "   ID   Name        Age     Dept\n",
            "0   1  Alice  25.000000       HR\n",
            "1   2    Bob  31.666667       IT\n",
            "2   2    Bob  30.000000  Unknown\n",
            "3   4  David  40.000000  Finance\n"
          ]
        },
        {
          "output_type": "stream",
          "name": "stderr",
          "text": [
            "/tmp/ipython-input-3390123323.py:1: FutureWarning: A value is trying to be set on a copy of a DataFrame or Series through chained assignment using an inplace method.\n",
            "The behavior will change in pandas 3.0. This inplace method will never work because the intermediate object on which we are setting values always behaves as a copy.\n",
            "\n",
            "For example, when doing 'df[col].method(value, inplace=True)', try using 'df.method({col: value}, inplace=True)' or df[col] = df[col].method(value) instead, to perform the operation inplace on the original object.\n",
            "\n",
            "\n",
            "  df['Age'].fillna(df['Age'].mean(), inplace=True)\n",
            "/tmp/ipython-input-3390123323.py:2: FutureWarning: A value is trying to be set on a copy of a DataFrame or Series through chained assignment using an inplace method.\n",
            "The behavior will change in pandas 3.0. This inplace method will never work because the intermediate object on which we are setting values always behaves as a copy.\n",
            "\n",
            "For example, when doing 'df[col].method(value, inplace=True)', try using 'df.method({col: value}, inplace=True)' or df[col] = df[col].method(value) instead, to perform the operation inplace on the original object.\n",
            "\n",
            "\n",
            "  df['Dept'].fillna('Unknown', inplace=True)\n"
          ]
        }
      ]
    },
    {
      "cell_type": "code",
      "source": [
        "# Remove duplicates\n",
        "df.drop_duplicates(inplace=True)"
      ],
      "metadata": {
        "id": "2o9qrlfIdciy"
      },
      "execution_count": null,
      "outputs": []
    },
    {
      "cell_type": "code",
      "source": [
        "# Rename column\n",
        "df.rename(columns={'Dept':'Department'}, inplace=True)\n",
        "print(df)"
      ],
      "metadata": {
        "colab": {
          "base_uri": "https://localhost:8080/"
        },
        "id": "Bxx23mvgdcly",
        "outputId": "28c9c699-f18f-4511-ad4a-d38b33e49aba"
      },
      "execution_count": null,
      "outputs": [
        {
          "output_type": "stream",
          "name": "stdout",
          "text": [
            "   ID   Name        Age Department\n",
            "0   1  Alice  25.000000         HR\n",
            "1   2    Bob  31.666667         IT\n",
            "2   2    Bob  30.000000    Unknown\n",
            "3   4  David  40.000000    Finance\n"
          ]
        }
      ]
    },
    {
      "cell_type": "code",
      "source": [
        "# Change data type\n",
        "df['ID'] = df['ID'].astype(str)\n",
        "\n",
        "print(df)"
      ],
      "metadata": {
        "colab": {
          "base_uri": "https://localhost:8080/"
        },
        "id": "JxhmkhjFdcom",
        "outputId": "4235bece-65ad-422d-ac7c-41ee3542e588"
      },
      "execution_count": null,
      "outputs": [
        {
          "output_type": "stream",
          "name": "stdout",
          "text": [
            "  ID   Name        Age Department\n",
            "0  1  Alice  25.000000         HR\n",
            "1  2    Bob  31.666667         IT\n",
            "2  2    Bob  30.000000    Unknown\n",
            "3  4  David  40.000000    Finance\n"
          ]
        }
      ]
    },
    {
      "cell_type": "markdown",
      "source": [
        "**Modifying Data**"
      ],
      "metadata": {
        "id": "NAbVszDjEnwP"
      }
    },
    {
      "cell_type": "code",
      "source": [
        "# Adding & Updating Columns\n",
        "\n",
        "df = pd.DataFrame({\n",
        "    'Name': ['Alice', 'Bob', 'Charlie'],\n",
        "    'Age': [25, 30, 35]\n",
        "})\n",
        "\n",
        "# Add a new column\n",
        "df['City'] = ['Delhi', 'Mumbai', 'Bangalore']\n",
        "\n",
        "# Update an existing column\n",
        "df['Age'] = df['Age'] + 1\n",
        "\n",
        "# Add column based on condition\n",
        "df['Senior'] = df['Age'] > 30\n",
        "\n",
        "print(df)"
      ],
      "metadata": {
        "colab": {
          "base_uri": "https://localhost:8080/"
        },
        "id": "FbNkTui8dcrL",
        "outputId": "5e939075-47d8-4680-bec6-4b507a59ccc0"
      },
      "execution_count": null,
      "outputs": [
        {
          "output_type": "stream",
          "name": "stdout",
          "text": [
            "      Name  Age       City  Senior\n",
            "0    Alice   26      Delhi   False\n",
            "1      Bob   31     Mumbai    True\n",
            "2  Charlie   36  Bangalore    True\n"
          ]
        }
      ]
    },
    {
      "cell_type": "code",
      "source": [
        "# Appyling Function -- three main methods\n",
        "# 1) .apply() – works on Series or DataFrame along rows/columns\n",
        "\n",
        "# apply to series\n",
        "df['Age_in_5_years']=df['Age'].apply(lambda x:x+5)\n",
        "\n",
        "# apply to dataframe\n",
        "df[['Age','Age_in_5_years']]=df[['Age','Age_in_5_years']].apply(lambda x:x*2)\n",
        "print(df)\n"
      ],
      "metadata": {
        "colab": {
          "base_uri": "https://localhost:8080/"
        },
        "id": "Bqjj6LUddcuc",
        "outputId": "1a29903f-9999-48b3-9d32-3cb0a055996e"
      },
      "execution_count": null,
      "outputs": [
        {
          "output_type": "stream",
          "name": "stdout",
          "text": [
            "      Name  Age       City  Senior  Age_in_5_years\n",
            "0    Alice  104      Delhi   False             114\n",
            "1      Bob  124     Mumbai    True             134\n",
            "2  Charlie  144  Bangalore    True             154\n"
          ]
        }
      ]
    },
    {
      "cell_type": "code",
      "source": [
        "# .map() – works only on Series, element-wise.\n",
        "df['Name_length'] = df['Name'].map(len)\n",
        "df['City_upper'] = df['City'].map(str.upper)\n",
        "print(df)"
      ],
      "metadata": {
        "colab": {
          "base_uri": "https://localhost:8080/"
        },
        "id": "VJV681ZHdcxR",
        "outputId": "6096f658-f224-42be-ebb1-a5f72c66da37"
      },
      "execution_count": null,
      "outputs": [
        {
          "output_type": "stream",
          "name": "stdout",
          "text": [
            "      Name  Age       City  Senior  Age_in_5_years  Name_length City_upper\n",
            "0    Alice  104      Delhi   False             114            5      DELHI\n",
            "1      Bob  124     Mumbai    True             134            3     MUMBAI\n",
            "2  Charlie  144  Bangalore    True             154            7  BANGALORE\n"
          ]
        }
      ]
    },
    {
      "cell_type": "code",
      "source": [
        "# .applymap() – works only on DataFrame, element-wise\n",
        "df[['Age', 'Age_in_5_years']] = df[['Age', 'Age_in_5_years']].applymap(lambda x: x / 2)\n",
        "print(df)"
      ],
      "metadata": {
        "colab": {
          "base_uri": "https://localhost:8080/"
        },
        "id": "NFgdV4qHdc0C",
        "outputId": "a4dc2004-3045-4ad0-9c50-2e21c7cc5309"
      },
      "execution_count": null,
      "outputs": [
        {
          "output_type": "stream",
          "name": "stdout",
          "text": [
            "      Name   Age       City  Senior  Age_in_5_years  Name_length City_upper\n",
            "0    Alice  26.0      Delhi   False            28.5            5      DELHI\n",
            "1      Bob  31.0     Mumbai    True            33.5            3     MUMBAI\n",
            "2  Charlie  36.0  Bangalore    True            38.5            7  BANGALORE\n"
          ]
        },
        {
          "output_type": "stream",
          "name": "stderr",
          "text": [
            "/tmp/ipython-input-1577728450.py:2: FutureWarning: DataFrame.applymap has been deprecated. Use DataFrame.map instead.\n",
            "  df[['Age', 'Age_in_5_years']] = df[['Age', 'Age_in_5_years']].applymap(lambda x: x / 2)\n"
          ]
        }
      ]
    },
    {
      "cell_type": "code",
      "source": [
        "# string Operations (.str)\n",
        "df['Name_lower']=df['Name'].str.lower()\n",
        "df['Name_contains_a']=df['Name'].str.contains('a',case=False)\n",
        "df['Name_replaced']=df['Name'].str.replace('Alice','Alicia',regex=False)\n",
        "print(df)"
      ],
      "metadata": {
        "colab": {
          "base_uri": "https://localhost:8080/"
        },
        "id": "ABOH084Mdc2_",
        "outputId": "10e50485-9854-43ba-e613-2b5c74d55d32"
      },
      "execution_count": null,
      "outputs": [
        {
          "output_type": "stream",
          "name": "stdout",
          "text": [
            "      Name   Age       City  Senior  Age_in_5_years  Name_length City_upper  \\\n",
            "0    Alice  26.0      Delhi   False            28.5            5      DELHI   \n",
            "1      Bob  31.0     Mumbai    True            33.5            3     MUMBAI   \n",
            "2  Charlie  36.0  Bangalore    True            38.5            7  BANGALORE   \n",
            "\n",
            "  Name_lower  Name_contains_a Name_replaced  \n",
            "0      alice             True        Alicia  \n",
            "1        bob            False           Bob  \n",
            "2    charlie             True       Charlie  \n"
          ]
        }
      ]
    },
    {
      "cell_type": "code",
      "source": [
        "# Replacing values\n",
        "\n",
        "# replacing specific values\n",
        "df['City']=df['City'].replace('Delhi','New Delhi')\n",
        "\n",
        "# replacing multiple rows\n",
        "df['City']=df['City'].replace({'Mumbai': 'Bombay','Bangalore':'Bangaluru'})\n",
        "\n",
        "# replace in entire dataframe\n",
        "df.replace(31,99,inplace=True)\n",
        "\n",
        "print(df)"
      ],
      "metadata": {
        "colab": {
          "base_uri": "https://localhost:8080/"
        },
        "id": "0WXwEAKUdc5z",
        "outputId": "5c37de4b-7eae-426d-e065-5e3be17aef3a"
      },
      "execution_count": null,
      "outputs": [
        {
          "output_type": "stream",
          "name": "stdout",
          "text": [
            "      Name   Age       City  Senior  Age_in_5_years  Name_length City_upper  \\\n",
            "0    Alice  26.0  New Delhi   False            28.5            5      DELHI   \n",
            "1      Bob  99.0     Bombay    True            33.5            3     MUMBAI   \n",
            "2  Charlie  36.0  Bangaluru    True            38.5            7  BANGALORE   \n",
            "\n",
            "  Name_lower  Name_contains_a Name_replaced  \n",
            "0      alice             True        Alicia  \n",
            "1        bob            False           Bob  \n",
            "2    charlie             True       Charlie  \n"
          ]
        }
      ]
    },
    {
      "cell_type": "markdown",
      "source": [
        "**Sorting And Ranking**"
      ],
      "metadata": {
        "id": "JKwME5llMg_y"
      }
    },
    {
      "cell_type": "code",
      "source": [
        "#Sorting by Values — .sort_values()\n",
        "\n",
        "df = pd.DataFrame({\n",
        "    'Name': ['Alice', 'Bob', 'Charlie'],\n",
        "    'Age': [25, 35, 30],\n",
        "    'Score': [90, 95, 95]\n",
        "})\n",
        "\n",
        "# Sort by one column (ascending)\n",
        "df_sorted_age = df.sort_values(by='Age')\n",
        "\n",
        "# Sort by one column (descending)\n",
        "df_sorted_score = df.sort_values(by='Score', ascending=False)\n",
        "\n",
        "# Sort by multiple columns\n",
        "df_sorted_multi = df.sort_values(by=['Age', 'Score'], ascending=[True, False])\n",
        "\n",
        "print(df_sorted_multi)\n"
      ],
      "metadata": {
        "colab": {
          "base_uri": "https://localhost:8080/"
        },
        "id": "Cue2uxnzdc8s",
        "outputId": "a1198e27-9a19-445a-e9cf-2ee065d7dbb3"
      },
      "execution_count": null,
      "outputs": [
        {
          "output_type": "stream",
          "name": "stdout",
          "text": [
            "      Name  Age  Score\n",
            "0    Alice   25     90\n",
            "2  Charlie   30     95\n",
            "1      Bob   35     95\n"
          ]
        }
      ]
    },
    {
      "cell_type": "code",
      "source": [
        "# Sorting by Index — .sort_index()\n",
        "# Sort by index (row labels)\n",
        "df_sorted_index = df.sort_index()\n",
        "\n",
        "# Sort index in descending order\n",
        "df_sorted_index_desc = df.sort_index(ascending=False)\n",
        "print(df_sorted_index_desc)"
      ],
      "metadata": {
        "colab": {
          "base_uri": "https://localhost:8080/"
        },
        "id": "16IJRaETddAD",
        "outputId": "4dd982ca-dda3-42b8-d43b-3757f82b05d6"
      },
      "execution_count": null,
      "outputs": [
        {
          "output_type": "stream",
          "name": "stdout",
          "text": [
            "      Name  Age  Score\n",
            "2  Charlie   30     95\n",
            "1      Bob   35     95\n",
            "0    Alice   25     90\n"
          ]
        }
      ]
    },
    {
      "cell_type": "code",
      "source": [
        "# Ranking Values -- .rank()\n",
        "\n",
        "# rank based on values (smallest =rank 1)\n",
        "df['Age_rank']=df['Age'].rank()\n",
        "\n",
        "# rank with highest first\n",
        "df['Score_rank']=df['Score'].rank(ascending=False)\n",
        "\n",
        "# handle ties differenctyly\n",
        "df['dense_rank']=df['Score'].rank(method='dense',ascending=False)\n",
        "\n",
        "print(df)"
      ],
      "metadata": {
        "colab": {
          "base_uri": "https://localhost:8080/"
        },
        "id": "cLdBh0JDddCs",
        "outputId": "c5c2a305-f1a3-4384-c778-e6e688fbd10e"
      },
      "execution_count": null,
      "outputs": [
        {
          "output_type": "stream",
          "name": "stdout",
          "text": [
            "      Name  Age  Score  Age_rank  Score_rank  dense_rank\n",
            "0    Alice   25     90       1.0         3.0         2.0\n",
            "1      Bob   35     95       3.0         1.5         1.0\n",
            "2  Charlie   30     95       2.0         1.5         1.0\n"
          ]
        }
      ]
    },
    {
      "cell_type": "markdown",
      "source": [
        "**Grouping & Aggregation**\n",
        "\n",
        "Grouping means splitting data into groups based on some criteria (like category, department, or date),\n",
        "and then applying aggregation, transformation, or filtering."
      ],
      "metadata": {
        "id": "W7rmvvO5QRkM"
      }
    },
    {
      "cell_type": "code",
      "source": [
        "df = pd.DataFrame({\n",
        "    'Department': ['HR', 'IT', 'IT', 'HR', 'Finance', 'Finance'],\n",
        "    'Employee': ['Alice', 'Bob', 'Charlie', 'David', 'Eve', 'Frank'],\n",
        "    'Salary': [50000, 70000, 60000, 52000, 65000, 62000],\n",
        "    'Bonus': [5000, 7000, 6000, 5200, 6500, 6200]\n",
        "})\n",
        "\n",
        "# Group by one column\n",
        "grouped = df.groupby('Department')\n",
        "print(df)\n"
      ],
      "metadata": {
        "colab": {
          "base_uri": "https://localhost:8080/"
        },
        "id": "znaynHr_ddFv",
        "outputId": "63d259ee-5d53-458b-d92f-36fe39f9079b"
      },
      "execution_count": null,
      "outputs": [
        {
          "output_type": "stream",
          "name": "stdout",
          "text": [
            "  Department Employee  Salary  Bonus\n",
            "0         HR    Alice   50000   5000\n",
            "1         IT      Bob   70000   7000\n",
            "2         IT  Charlie   60000   6000\n",
            "3         HR    David   52000   5200\n",
            "4    Finance      Eve   65000   6500\n",
            "5    Finance    Frank   62000   6200\n"
          ]
        }
      ]
    },
    {
      "cell_type": "code",
      "source": [
        "# Average salary by department\n",
        "avg_salary = df.groupby('Department')['Salary'].mean()\n",
        "\n",
        "# Sum of bonus by department\n",
        "sum_bonus = df.groupby('Department')['Bonus'].sum()\n",
        "\n",
        "# Count employees in each department\n",
        "count_emp = df.groupby('Department')['Employee'].count()\n",
        "print(avg_salary)\n",
        "print(\"Next\")\n",
        "print(sum_bonus)\n",
        "print(\"next\")\n",
        "print(count_emp)"
      ],
      "metadata": {
        "colab": {
          "base_uri": "https://localhost:8080/"
        },
        "id": "T9UIseKRddIf",
        "outputId": "b6119ca4-e995-43ba-ddfa-7084f91024c3"
      },
      "execution_count": null,
      "outputs": [
        {
          "output_type": "stream",
          "name": "stdout",
          "text": [
            "Department\n",
            "Finance    63500.0\n",
            "HR         51000.0\n",
            "IT         65000.0\n",
            "Name: Salary, dtype: float64\n",
            "Next\n",
            "Department\n",
            "Finance    12700\n",
            "HR         10200\n",
            "IT         13000\n",
            "Name: Bonus, dtype: int64\n",
            "next\n",
            "Department\n",
            "Finance    2\n",
            "HR         2\n",
            "IT         2\n",
            "Name: Employee, dtype: int64\n"
          ]
        }
      ]
    },
    {
      "cell_type": "code",
      "source": [
        "# .agg() for Multiple Aggregations\n",
        "\n",
        "# Multiple aggregations on one column\n",
        "aggonecol=df.groupby('Department')['Salary'].agg(['mean', 'max', 'min'])\n",
        "print(aggonecol)\n",
        "print(\" ------- -------------------\")\n",
        "\n",
        "# Different aggregations for different columns\n",
        "aggfordff=df.groupby('Department').agg({\n",
        "    'Salary': ['mean', 'max'],\n",
        "    'Bonus': ['sum', 'min']\n",
        "})\n",
        "print(aggfordff)"
      ],
      "metadata": {
        "colab": {
          "base_uri": "https://localhost:8080/"
        },
        "id": "UYTmSxRdddLf",
        "outputId": "e7a83c17-621d-4481-a133-863822a18166"
      },
      "execution_count": null,
      "outputs": [
        {
          "output_type": "stream",
          "name": "stdout",
          "text": [
            "               mean    max    min\n",
            "Department                       \n",
            "Finance     63500.0  65000  62000\n",
            "HR          51000.0  52000  50000\n",
            "IT          65000.0  70000  60000\n",
            " ------- -------------------\n",
            "             Salary         Bonus      \n",
            "               mean    max    sum   min\n",
            "Department                             \n",
            "Finance     63500.0  65000  12700  6200\n",
            "HR          51000.0  52000  10200  5000\n",
            "IT          65000.0  70000  13000  6000\n"
          ]
        }
      ]
    },
    {
      "cell_type": "code",
      "source": [
        "# Grouping by Multiple Columns\n",
        "# Group by Department and Bonus value\n",
        "df.groupby(['Department', 'Bonus']).sum()"
      ],
      "metadata": {
        "colab": {
          "base_uri": "https://localhost:8080/",
          "height": 269
        },
        "id": "tp1Au5o7ddOR",
        "outputId": "1b7260a0-43e3-401f-bc8e-c3b28a52e5b1"
      },
      "execution_count": null,
      "outputs": [
        {
          "output_type": "execute_result",
          "data": {
            "text/plain": [
              "                 Employee  Salary\n",
              "Department Bonus                 \n",
              "Finance    6200     Frank   62000\n",
              "           6500       Eve   65000\n",
              "HR         5000     Alice   50000\n",
              "           5200     David   52000\n",
              "IT         6000   Charlie   60000\n",
              "           7000       Bob   70000"
            ],
            "text/html": [
              "\n",
              "  <div id=\"df-9f89dd10-5e27-450d-a2d2-306ced6ebb3b\" class=\"colab-df-container\">\n",
              "    <div>\n",
              "<style scoped>\n",
              "    .dataframe tbody tr th:only-of-type {\n",
              "        vertical-align: middle;\n",
              "    }\n",
              "\n",
              "    .dataframe tbody tr th {\n",
              "        vertical-align: top;\n",
              "    }\n",
              "\n",
              "    .dataframe thead th {\n",
              "        text-align: right;\n",
              "    }\n",
              "</style>\n",
              "<table border=\"1\" class=\"dataframe\">\n",
              "  <thead>\n",
              "    <tr style=\"text-align: right;\">\n",
              "      <th></th>\n",
              "      <th></th>\n",
              "      <th>Employee</th>\n",
              "      <th>Salary</th>\n",
              "    </tr>\n",
              "    <tr>\n",
              "      <th>Department</th>\n",
              "      <th>Bonus</th>\n",
              "      <th></th>\n",
              "      <th></th>\n",
              "    </tr>\n",
              "  </thead>\n",
              "  <tbody>\n",
              "    <tr>\n",
              "      <th rowspan=\"2\" valign=\"top\">Finance</th>\n",
              "      <th>6200</th>\n",
              "      <td>Frank</td>\n",
              "      <td>62000</td>\n",
              "    </tr>\n",
              "    <tr>\n",
              "      <th>6500</th>\n",
              "      <td>Eve</td>\n",
              "      <td>65000</td>\n",
              "    </tr>\n",
              "    <tr>\n",
              "      <th rowspan=\"2\" valign=\"top\">HR</th>\n",
              "      <th>5000</th>\n",
              "      <td>Alice</td>\n",
              "      <td>50000</td>\n",
              "    </tr>\n",
              "    <tr>\n",
              "      <th>5200</th>\n",
              "      <td>David</td>\n",
              "      <td>52000</td>\n",
              "    </tr>\n",
              "    <tr>\n",
              "      <th rowspan=\"2\" valign=\"top\">IT</th>\n",
              "      <th>6000</th>\n",
              "      <td>Charlie</td>\n",
              "      <td>60000</td>\n",
              "    </tr>\n",
              "    <tr>\n",
              "      <th>7000</th>\n",
              "      <td>Bob</td>\n",
              "      <td>70000</td>\n",
              "    </tr>\n",
              "  </tbody>\n",
              "</table>\n",
              "</div>\n",
              "    <div class=\"colab-df-buttons\">\n",
              "\n",
              "  <div class=\"colab-df-container\">\n",
              "    <button class=\"colab-df-convert\" onclick=\"convertToInteractive('df-9f89dd10-5e27-450d-a2d2-306ced6ebb3b')\"\n",
              "            title=\"Convert this dataframe to an interactive table.\"\n",
              "            style=\"display:none;\">\n",
              "\n",
              "  <svg xmlns=\"http://www.w3.org/2000/svg\" height=\"24px\" viewBox=\"0 -960 960 960\">\n",
              "    <path d=\"M120-120v-720h720v720H120Zm60-500h600v-160H180v160Zm220 220h160v-160H400v160Zm0 220h160v-160H400v160ZM180-400h160v-160H180v160Zm440 0h160v-160H620v160ZM180-180h160v-160H180v160Zm440 0h160v-160H620v160Z\"/>\n",
              "  </svg>\n",
              "    </button>\n",
              "\n",
              "  <style>\n",
              "    .colab-df-container {\n",
              "      display:flex;\n",
              "      gap: 12px;\n",
              "    }\n",
              "\n",
              "    .colab-df-convert {\n",
              "      background-color: #E8F0FE;\n",
              "      border: none;\n",
              "      border-radius: 50%;\n",
              "      cursor: pointer;\n",
              "      display: none;\n",
              "      fill: #1967D2;\n",
              "      height: 32px;\n",
              "      padding: 0 0 0 0;\n",
              "      width: 32px;\n",
              "    }\n",
              "\n",
              "    .colab-df-convert:hover {\n",
              "      background-color: #E2EBFA;\n",
              "      box-shadow: 0px 1px 2px rgba(60, 64, 67, 0.3), 0px 1px 3px 1px rgba(60, 64, 67, 0.15);\n",
              "      fill: #174EA6;\n",
              "    }\n",
              "\n",
              "    .colab-df-buttons div {\n",
              "      margin-bottom: 4px;\n",
              "    }\n",
              "\n",
              "    [theme=dark] .colab-df-convert {\n",
              "      background-color: #3B4455;\n",
              "      fill: #D2E3FC;\n",
              "    }\n",
              "\n",
              "    [theme=dark] .colab-df-convert:hover {\n",
              "      background-color: #434B5C;\n",
              "      box-shadow: 0px 1px 3px 1px rgba(0, 0, 0, 0.15);\n",
              "      filter: drop-shadow(0px 1px 2px rgba(0, 0, 0, 0.3));\n",
              "      fill: #FFFFFF;\n",
              "    }\n",
              "  </style>\n",
              "\n",
              "    <script>\n",
              "      const buttonEl =\n",
              "        document.querySelector('#df-9f89dd10-5e27-450d-a2d2-306ced6ebb3b button.colab-df-convert');\n",
              "      buttonEl.style.display =\n",
              "        google.colab.kernel.accessAllowed ? 'block' : 'none';\n",
              "\n",
              "      async function convertToInteractive(key) {\n",
              "        const element = document.querySelector('#df-9f89dd10-5e27-450d-a2d2-306ced6ebb3b');\n",
              "        const dataTable =\n",
              "          await google.colab.kernel.invokeFunction('convertToInteractive',\n",
              "                                                    [key], {});\n",
              "        if (!dataTable) return;\n",
              "\n",
              "        const docLinkHtml = 'Like what you see? Visit the ' +\n",
              "          '<a target=\"_blank\" href=https://colab.research.google.com/notebooks/data_table.ipynb>data table notebook</a>'\n",
              "          + ' to learn more about interactive tables.';\n",
              "        element.innerHTML = '';\n",
              "        dataTable['output_type'] = 'display_data';\n",
              "        await google.colab.output.renderOutput(dataTable, element);\n",
              "        const docLink = document.createElement('div');\n",
              "        docLink.innerHTML = docLinkHtml;\n",
              "        element.appendChild(docLink);\n",
              "      }\n",
              "    </script>\n",
              "  </div>\n",
              "\n",
              "\n",
              "    <div id=\"df-d595a900-2a90-48d6-8a9d-e2daa4ded7e1\">\n",
              "      <button class=\"colab-df-quickchart\" onclick=\"quickchart('df-d595a900-2a90-48d6-8a9d-e2daa4ded7e1')\"\n",
              "                title=\"Suggest charts\"\n",
              "                style=\"display:none;\">\n",
              "\n",
              "<svg xmlns=\"http://www.w3.org/2000/svg\" height=\"24px\"viewBox=\"0 0 24 24\"\n",
              "     width=\"24px\">\n",
              "    <g>\n",
              "        <path d=\"M19 3H5c-1.1 0-2 .9-2 2v14c0 1.1.9 2 2 2h14c1.1 0 2-.9 2-2V5c0-1.1-.9-2-2-2zM9 17H7v-7h2v7zm4 0h-2V7h2v10zm4 0h-2v-4h2v4z\"/>\n",
              "    </g>\n",
              "</svg>\n",
              "      </button>\n",
              "\n",
              "<style>\n",
              "  .colab-df-quickchart {\n",
              "      --bg-color: #E8F0FE;\n",
              "      --fill-color: #1967D2;\n",
              "      --hover-bg-color: #E2EBFA;\n",
              "      --hover-fill-color: #174EA6;\n",
              "      --disabled-fill-color: #AAA;\n",
              "      --disabled-bg-color: #DDD;\n",
              "  }\n",
              "\n",
              "  [theme=dark] .colab-df-quickchart {\n",
              "      --bg-color: #3B4455;\n",
              "      --fill-color: #D2E3FC;\n",
              "      --hover-bg-color: #434B5C;\n",
              "      --hover-fill-color: #FFFFFF;\n",
              "      --disabled-bg-color: #3B4455;\n",
              "      --disabled-fill-color: #666;\n",
              "  }\n",
              "\n",
              "  .colab-df-quickchart {\n",
              "    background-color: var(--bg-color);\n",
              "    border: none;\n",
              "    border-radius: 50%;\n",
              "    cursor: pointer;\n",
              "    display: none;\n",
              "    fill: var(--fill-color);\n",
              "    height: 32px;\n",
              "    padding: 0;\n",
              "    width: 32px;\n",
              "  }\n",
              "\n",
              "  .colab-df-quickchart:hover {\n",
              "    background-color: var(--hover-bg-color);\n",
              "    box-shadow: 0 1px 2px rgba(60, 64, 67, 0.3), 0 1px 3px 1px rgba(60, 64, 67, 0.15);\n",
              "    fill: var(--button-hover-fill-color);\n",
              "  }\n",
              "\n",
              "  .colab-df-quickchart-complete:disabled,\n",
              "  .colab-df-quickchart-complete:disabled:hover {\n",
              "    background-color: var(--disabled-bg-color);\n",
              "    fill: var(--disabled-fill-color);\n",
              "    box-shadow: none;\n",
              "  }\n",
              "\n",
              "  .colab-df-spinner {\n",
              "    border: 2px solid var(--fill-color);\n",
              "    border-color: transparent;\n",
              "    border-bottom-color: var(--fill-color);\n",
              "    animation:\n",
              "      spin 1s steps(1) infinite;\n",
              "  }\n",
              "\n",
              "  @keyframes spin {\n",
              "    0% {\n",
              "      border-color: transparent;\n",
              "      border-bottom-color: var(--fill-color);\n",
              "      border-left-color: var(--fill-color);\n",
              "    }\n",
              "    20% {\n",
              "      border-color: transparent;\n",
              "      border-left-color: var(--fill-color);\n",
              "      border-top-color: var(--fill-color);\n",
              "    }\n",
              "    30% {\n",
              "      border-color: transparent;\n",
              "      border-left-color: var(--fill-color);\n",
              "      border-top-color: var(--fill-color);\n",
              "      border-right-color: var(--fill-color);\n",
              "    }\n",
              "    40% {\n",
              "      border-color: transparent;\n",
              "      border-right-color: var(--fill-color);\n",
              "      border-top-color: var(--fill-color);\n",
              "    }\n",
              "    60% {\n",
              "      border-color: transparent;\n",
              "      border-right-color: var(--fill-color);\n",
              "    }\n",
              "    80% {\n",
              "      border-color: transparent;\n",
              "      border-right-color: var(--fill-color);\n",
              "      border-bottom-color: var(--fill-color);\n",
              "    }\n",
              "    90% {\n",
              "      border-color: transparent;\n",
              "      border-bottom-color: var(--fill-color);\n",
              "    }\n",
              "  }\n",
              "</style>\n",
              "\n",
              "      <script>\n",
              "        async function quickchart(key) {\n",
              "          const quickchartButtonEl =\n",
              "            document.querySelector('#' + key + ' button');\n",
              "          quickchartButtonEl.disabled = true;  // To prevent multiple clicks.\n",
              "          quickchartButtonEl.classList.add('colab-df-spinner');\n",
              "          try {\n",
              "            const charts = await google.colab.kernel.invokeFunction(\n",
              "                'suggestCharts', [key], {});\n",
              "          } catch (error) {\n",
              "            console.error('Error during call to suggestCharts:', error);\n",
              "          }\n",
              "          quickchartButtonEl.classList.remove('colab-df-spinner');\n",
              "          quickchartButtonEl.classList.add('colab-df-quickchart-complete');\n",
              "        }\n",
              "        (() => {\n",
              "          let quickchartButtonEl =\n",
              "            document.querySelector('#df-d595a900-2a90-48d6-8a9d-e2daa4ded7e1 button');\n",
              "          quickchartButtonEl.style.display =\n",
              "            google.colab.kernel.accessAllowed ? 'block' : 'none';\n",
              "        })();\n",
              "      </script>\n",
              "    </div>\n",
              "\n",
              "    </div>\n",
              "  </div>\n"
            ],
            "application/vnd.google.colaboratory.intrinsic+json": {
              "type": "dataframe",
              "summary": "{\n  \"name\": \"df\",\n  \"rows\": 6,\n  \"fields\": [\n    {\n      \"column\": \"Employee\",\n      \"properties\": {\n        \"dtype\": \"string\",\n        \"num_unique_values\": 6,\n        \"samples\": [\n          \"Frank\",\n          \"Eve\",\n          \"Bob\"\n        ],\n        \"semantic_type\": \"\",\n        \"description\": \"\"\n      }\n    },\n    {\n      \"column\": \"Salary\",\n      \"properties\": {\n        \"dtype\": \"number\",\n        \"std\": 7652,\n        \"min\": 50000,\n        \"max\": 70000,\n        \"num_unique_values\": 6,\n        \"samples\": [\n          62000,\n          65000,\n          70000\n        ],\n        \"semantic_type\": \"\",\n        \"description\": \"\"\n      }\n    }\n  ]\n}"
            }
          },
          "metadata": {},
          "execution_count": 123
        }
      ]
    },
    {
      "cell_type": "markdown",
      "source": [
        "**Merging, Joining & Concatenation**"
      ],
      "metadata": {
        "id": "djrpjlmrfdgt"
      }
    },
    {
      "cell_type": "code",
      "source": [
        "# pd.merge() — SQL-Style Joins\n",
        "# pd.merge() combines DataFrames based on one or more common columns.\n",
        "\n",
        "df1=pd.DataFrame({\n",
        "    'ID':[1,2,3],\n",
        "    'Name':['Alice','Bob','Charlie']\n",
        "})\n",
        "df2=pd.DataFrame({\n",
        "    'ID':[2,3,4],\n",
        "    'Salary':[7000,3000,2000]\n",
        "})\n",
        "\n",
        "# inner join\n",
        "print(\"INNER JOIN\")\n",
        "innerjoin=pd.merge(df1,df2,on=\"ID\", how='inner')\n",
        "print(innerjoin)\n",
        "\n",
        "# left join\n",
        "print(\"LEFT JOIN\")\n",
        "leftjoin=pd.merge(df1,df2,on=\"ID\",how=\"left\")\n",
        "print(leftjoin)\n",
        "\n",
        "# outer join\n",
        "print(\"OUTER JOIN\")\n",
        "outerjoin=pd.merge(df1, df2, on='ID', how='outer')\n",
        "print(outerjoin)"
      ],
      "metadata": {
        "id": "vT5MDQS7ddRi",
        "colab": {
          "base_uri": "https://localhost:8080/"
        },
        "outputId": "a1261f29-3cb4-4a0a-a1a7-91ff3d1136ec"
      },
      "execution_count": null,
      "outputs": [
        {
          "output_type": "stream",
          "name": "stdout",
          "text": [
            "INNER JOIN\n",
            "   ID     Name  Salary\n",
            "0   2      Bob    7000\n",
            "1   3  Charlie    3000\n",
            "LEFT JOIN\n",
            "   ID     Name  Salary\n",
            "0   1    Alice     NaN\n",
            "1   2      Bob  7000.0\n",
            "2   3  Charlie  3000.0\n",
            "OUTER JOIN\n",
            "   ID     Name  Salary\n",
            "0   1    Alice     NaN\n",
            "1   2      Bob  7000.0\n",
            "2   3  Charlie  3000.0\n",
            "3   4      NaN  2000.0\n"
          ]
        }
      ]
    },
    {
      "cell_type": "code",
      "source": [
        "# pd.concat() — Stacking DataFrames\n",
        "# Used for combining DataFrames along rows or columns.\n",
        "\n",
        "df_a = pd.DataFrame({'A': [1, 2], 'B': [3, 4]})\n",
        "df_b = pd.DataFrame({'A': [5, 6], 'B': [7, 8]})\n",
        "\n",
        "# Stack rows (axis=0)\n",
        "p1=pd.concat([df_a, df_b], axis=0)\n",
        "print(p1)\n",
        "\n",
        "# Stack columns (axis=1)\n",
        "p2=pd.concat([df_a, df_b], axis=1)\n",
        "print(p2)"
      ],
      "metadata": {
        "id": "o5iZpmYGddUG",
        "colab": {
          "base_uri": "https://localhost:8080/"
        },
        "outputId": "fb232d87-d27c-4fff-ce7c-c769c425dc13"
      },
      "execution_count": null,
      "outputs": [
        {
          "output_type": "stream",
          "name": "stdout",
          "text": [
            "   A  B\n",
            "0  1  3\n",
            "1  2  4\n",
            "0  5  7\n",
            "1  6  8\n",
            "   A  B  A  B\n",
            "0  1  3  5  7\n",
            "1  2  4  6  8\n"
          ]
        }
      ]
    },
    {
      "cell_type": "markdown",
      "source": [
        "**Reshaping & Pivoting**"
      ],
      "metadata": {
        "id": "lC_pSfjoyUGI"
      }
    },
    {
      "cell_type": "markdown",
      "source": [
        ".pivot() — Reshape by Setting New Index/Columns\n",
        "\n",
        "Creates a new table from unique combinations of index/columns.\n",
        "\n",
        "Only works if the index-column combinations are unique (otherwise → error)."
      ],
      "metadata": {
        "id": "J6bdiqpxyYYo"
      }
    },
    {
      "cell_type": "code",
      "source": [
        "df = pd.DataFrame({\n",
        "    'Name': ['Alice', 'Alice', 'Bob', 'Bob'],\n",
        "    'Subject': ['Math', 'Science', 'Math', 'Science'],\n",
        "    'Score': [85, 90, 78, 88]\n",
        "})\n",
        "print(df)\n",
        "df1=df.pivot(index='Name', columns='Subject', values='Score')\n",
        "print(df1)\n"
      ],
      "metadata": {
        "id": "nwLxDjvGddW9",
        "colab": {
          "base_uri": "https://localhost:8080/"
        },
        "outputId": "e41dec47-6bba-49ba-d40b-30de26fc54c1"
      },
      "execution_count": 9,
      "outputs": [
        {
          "output_type": "stream",
          "name": "stdout",
          "text": [
            "    Name  Subject  Score\n",
            "0  Alice     Math     85\n",
            "1  Alice  Science     90\n",
            "2    Bob     Math     78\n",
            "3    Bob  Science     88\n",
            "Subject  Math  Science\n",
            "Name                  \n",
            "Alice      85       90\n",
            "Bob        78       88\n"
          ]
        }
      ]
    },
    {
      "cell_type": "markdown",
      "source": [
        ".pivot_table() — Pivot + Aggregation\n",
        "\n",
        "Works like Excel PivotTable.\n",
        "\n",
        "Handles duplicates by aggregating values.\n",
        "\n",
        "You can specify aggfunc (mean, sum, count, etc.)."
      ],
      "metadata": {
        "id": "u0ZLfiJSygxf"
      }
    },
    {
      "cell_type": "code",
      "source": [
        "df2=df.pivot_table(index='Name', columns='Subject', values='Score', aggfunc='mean')\n",
        "print(df2)\n"
      ],
      "metadata": {
        "id": "lN1Qsz8hddZ1",
        "colab": {
          "base_uri": "https://localhost:8080/"
        },
        "outputId": "c925cca9-62d0-4646-b431-ef1f86a20814"
      },
      "execution_count": 10,
      "outputs": [
        {
          "output_type": "stream",
          "name": "stdout",
          "text": [
            "Subject  Math  Science\n",
            "Name                  \n",
            "Alice    85.0     90.0\n",
            "Bob      78.0     88.0\n"
          ]
        }
      ]
    },
    {
      "cell_type": "code",
      "source": [
        "# .melt() — Unpivoting (Wide → Long Format) ---- Opposite of pivot — turns columns into rows.\n",
        "df_wide = pd.DataFrame({\n",
        "    'Name': ['Alice', 'Bob'],\n",
        "    'Math': [85, 78],\n",
        "    'Science': [90, 88]\n",
        "})\n",
        "\n",
        "pd.melt(df_wide, id_vars=['Name'], var_name='Subject', value_name='Score')\n"
      ],
      "metadata": {
        "id": "NsWdC9Ohddcv",
        "colab": {
          "base_uri": "https://localhost:8080/",
          "height": 175
        },
        "outputId": "c01d0524-6a2d-4c77-cbda-8835f614b79e"
      },
      "execution_count": 11,
      "outputs": [
        {
          "output_type": "execute_result",
          "data": {
            "text/plain": [
              "    Name  Subject  Score\n",
              "0  Alice     Math     85\n",
              "1    Bob     Math     78\n",
              "2  Alice  Science     90\n",
              "3    Bob  Science     88"
            ],
            "text/html": [
              "\n",
              "  <div id=\"df-877d6471-73c1-42e2-a64b-6ae67cd42a34\" class=\"colab-df-container\">\n",
              "    <div>\n",
              "<style scoped>\n",
              "    .dataframe tbody tr th:only-of-type {\n",
              "        vertical-align: middle;\n",
              "    }\n",
              "\n",
              "    .dataframe tbody tr th {\n",
              "        vertical-align: top;\n",
              "    }\n",
              "\n",
              "    .dataframe thead th {\n",
              "        text-align: right;\n",
              "    }\n",
              "</style>\n",
              "<table border=\"1\" class=\"dataframe\">\n",
              "  <thead>\n",
              "    <tr style=\"text-align: right;\">\n",
              "      <th></th>\n",
              "      <th>Name</th>\n",
              "      <th>Subject</th>\n",
              "      <th>Score</th>\n",
              "    </tr>\n",
              "  </thead>\n",
              "  <tbody>\n",
              "    <tr>\n",
              "      <th>0</th>\n",
              "      <td>Alice</td>\n",
              "      <td>Math</td>\n",
              "      <td>85</td>\n",
              "    </tr>\n",
              "    <tr>\n",
              "      <th>1</th>\n",
              "      <td>Bob</td>\n",
              "      <td>Math</td>\n",
              "      <td>78</td>\n",
              "    </tr>\n",
              "    <tr>\n",
              "      <th>2</th>\n",
              "      <td>Alice</td>\n",
              "      <td>Science</td>\n",
              "      <td>90</td>\n",
              "    </tr>\n",
              "    <tr>\n",
              "      <th>3</th>\n",
              "      <td>Bob</td>\n",
              "      <td>Science</td>\n",
              "      <td>88</td>\n",
              "    </tr>\n",
              "  </tbody>\n",
              "</table>\n",
              "</div>\n",
              "    <div class=\"colab-df-buttons\">\n",
              "\n",
              "  <div class=\"colab-df-container\">\n",
              "    <button class=\"colab-df-convert\" onclick=\"convertToInteractive('df-877d6471-73c1-42e2-a64b-6ae67cd42a34')\"\n",
              "            title=\"Convert this dataframe to an interactive table.\"\n",
              "            style=\"display:none;\">\n",
              "\n",
              "  <svg xmlns=\"http://www.w3.org/2000/svg\" height=\"24px\" viewBox=\"0 -960 960 960\">\n",
              "    <path d=\"M120-120v-720h720v720H120Zm60-500h600v-160H180v160Zm220 220h160v-160H400v160Zm0 220h160v-160H400v160ZM180-400h160v-160H180v160Zm440 0h160v-160H620v160ZM180-180h160v-160H180v160Zm440 0h160v-160H620v160Z\"/>\n",
              "  </svg>\n",
              "    </button>\n",
              "\n",
              "  <style>\n",
              "    .colab-df-container {\n",
              "      display:flex;\n",
              "      gap: 12px;\n",
              "    }\n",
              "\n",
              "    .colab-df-convert {\n",
              "      background-color: #E8F0FE;\n",
              "      border: none;\n",
              "      border-radius: 50%;\n",
              "      cursor: pointer;\n",
              "      display: none;\n",
              "      fill: #1967D2;\n",
              "      height: 32px;\n",
              "      padding: 0 0 0 0;\n",
              "      width: 32px;\n",
              "    }\n",
              "\n",
              "    .colab-df-convert:hover {\n",
              "      background-color: #E2EBFA;\n",
              "      box-shadow: 0px 1px 2px rgba(60, 64, 67, 0.3), 0px 1px 3px 1px rgba(60, 64, 67, 0.15);\n",
              "      fill: #174EA6;\n",
              "    }\n",
              "\n",
              "    .colab-df-buttons div {\n",
              "      margin-bottom: 4px;\n",
              "    }\n",
              "\n",
              "    [theme=dark] .colab-df-convert {\n",
              "      background-color: #3B4455;\n",
              "      fill: #D2E3FC;\n",
              "    }\n",
              "\n",
              "    [theme=dark] .colab-df-convert:hover {\n",
              "      background-color: #434B5C;\n",
              "      box-shadow: 0px 1px 3px 1px rgba(0, 0, 0, 0.15);\n",
              "      filter: drop-shadow(0px 1px 2px rgba(0, 0, 0, 0.3));\n",
              "      fill: #FFFFFF;\n",
              "    }\n",
              "  </style>\n",
              "\n",
              "    <script>\n",
              "      const buttonEl =\n",
              "        document.querySelector('#df-877d6471-73c1-42e2-a64b-6ae67cd42a34 button.colab-df-convert');\n",
              "      buttonEl.style.display =\n",
              "        google.colab.kernel.accessAllowed ? 'block' : 'none';\n",
              "\n",
              "      async function convertToInteractive(key) {\n",
              "        const element = document.querySelector('#df-877d6471-73c1-42e2-a64b-6ae67cd42a34');\n",
              "        const dataTable =\n",
              "          await google.colab.kernel.invokeFunction('convertToInteractive',\n",
              "                                                    [key], {});\n",
              "        if (!dataTable) return;\n",
              "\n",
              "        const docLinkHtml = 'Like what you see? Visit the ' +\n",
              "          '<a target=\"_blank\" href=https://colab.research.google.com/notebooks/data_table.ipynb>data table notebook</a>'\n",
              "          + ' to learn more about interactive tables.';\n",
              "        element.innerHTML = '';\n",
              "        dataTable['output_type'] = 'display_data';\n",
              "        await google.colab.output.renderOutput(dataTable, element);\n",
              "        const docLink = document.createElement('div');\n",
              "        docLink.innerHTML = docLinkHtml;\n",
              "        element.appendChild(docLink);\n",
              "      }\n",
              "    </script>\n",
              "  </div>\n",
              "\n",
              "\n",
              "    <div id=\"df-28d60ff8-a470-4970-8a3b-6974f78d857b\">\n",
              "      <button class=\"colab-df-quickchart\" onclick=\"quickchart('df-28d60ff8-a470-4970-8a3b-6974f78d857b')\"\n",
              "                title=\"Suggest charts\"\n",
              "                style=\"display:none;\">\n",
              "\n",
              "<svg xmlns=\"http://www.w3.org/2000/svg\" height=\"24px\"viewBox=\"0 0 24 24\"\n",
              "     width=\"24px\">\n",
              "    <g>\n",
              "        <path d=\"M19 3H5c-1.1 0-2 .9-2 2v14c0 1.1.9 2 2 2h14c1.1 0 2-.9 2-2V5c0-1.1-.9-2-2-2zM9 17H7v-7h2v7zm4 0h-2V7h2v10zm4 0h-2v-4h2v4z\"/>\n",
              "    </g>\n",
              "</svg>\n",
              "      </button>\n",
              "\n",
              "<style>\n",
              "  .colab-df-quickchart {\n",
              "      --bg-color: #E8F0FE;\n",
              "      --fill-color: #1967D2;\n",
              "      --hover-bg-color: #E2EBFA;\n",
              "      --hover-fill-color: #174EA6;\n",
              "      --disabled-fill-color: #AAA;\n",
              "      --disabled-bg-color: #DDD;\n",
              "  }\n",
              "\n",
              "  [theme=dark] .colab-df-quickchart {\n",
              "      --bg-color: #3B4455;\n",
              "      --fill-color: #D2E3FC;\n",
              "      --hover-bg-color: #434B5C;\n",
              "      --hover-fill-color: #FFFFFF;\n",
              "      --disabled-bg-color: #3B4455;\n",
              "      --disabled-fill-color: #666;\n",
              "  }\n",
              "\n",
              "  .colab-df-quickchart {\n",
              "    background-color: var(--bg-color);\n",
              "    border: none;\n",
              "    border-radius: 50%;\n",
              "    cursor: pointer;\n",
              "    display: none;\n",
              "    fill: var(--fill-color);\n",
              "    height: 32px;\n",
              "    padding: 0;\n",
              "    width: 32px;\n",
              "  }\n",
              "\n",
              "  .colab-df-quickchart:hover {\n",
              "    background-color: var(--hover-bg-color);\n",
              "    box-shadow: 0 1px 2px rgba(60, 64, 67, 0.3), 0 1px 3px 1px rgba(60, 64, 67, 0.15);\n",
              "    fill: var(--button-hover-fill-color);\n",
              "  }\n",
              "\n",
              "  .colab-df-quickchart-complete:disabled,\n",
              "  .colab-df-quickchart-complete:disabled:hover {\n",
              "    background-color: var(--disabled-bg-color);\n",
              "    fill: var(--disabled-fill-color);\n",
              "    box-shadow: none;\n",
              "  }\n",
              "\n",
              "  .colab-df-spinner {\n",
              "    border: 2px solid var(--fill-color);\n",
              "    border-color: transparent;\n",
              "    border-bottom-color: var(--fill-color);\n",
              "    animation:\n",
              "      spin 1s steps(1) infinite;\n",
              "  }\n",
              "\n",
              "  @keyframes spin {\n",
              "    0% {\n",
              "      border-color: transparent;\n",
              "      border-bottom-color: var(--fill-color);\n",
              "      border-left-color: var(--fill-color);\n",
              "    }\n",
              "    20% {\n",
              "      border-color: transparent;\n",
              "      border-left-color: var(--fill-color);\n",
              "      border-top-color: var(--fill-color);\n",
              "    }\n",
              "    30% {\n",
              "      border-color: transparent;\n",
              "      border-left-color: var(--fill-color);\n",
              "      border-top-color: var(--fill-color);\n",
              "      border-right-color: var(--fill-color);\n",
              "    }\n",
              "    40% {\n",
              "      border-color: transparent;\n",
              "      border-right-color: var(--fill-color);\n",
              "      border-top-color: var(--fill-color);\n",
              "    }\n",
              "    60% {\n",
              "      border-color: transparent;\n",
              "      border-right-color: var(--fill-color);\n",
              "    }\n",
              "    80% {\n",
              "      border-color: transparent;\n",
              "      border-right-color: var(--fill-color);\n",
              "      border-bottom-color: var(--fill-color);\n",
              "    }\n",
              "    90% {\n",
              "      border-color: transparent;\n",
              "      border-bottom-color: var(--fill-color);\n",
              "    }\n",
              "  }\n",
              "</style>\n",
              "\n",
              "      <script>\n",
              "        async function quickchart(key) {\n",
              "          const quickchartButtonEl =\n",
              "            document.querySelector('#' + key + ' button');\n",
              "          quickchartButtonEl.disabled = true;  // To prevent multiple clicks.\n",
              "          quickchartButtonEl.classList.add('colab-df-spinner');\n",
              "          try {\n",
              "            const charts = await google.colab.kernel.invokeFunction(\n",
              "                'suggestCharts', [key], {});\n",
              "          } catch (error) {\n",
              "            console.error('Error during call to suggestCharts:', error);\n",
              "          }\n",
              "          quickchartButtonEl.classList.remove('colab-df-spinner');\n",
              "          quickchartButtonEl.classList.add('colab-df-quickchart-complete');\n",
              "        }\n",
              "        (() => {\n",
              "          let quickchartButtonEl =\n",
              "            document.querySelector('#df-28d60ff8-a470-4970-8a3b-6974f78d857b button');\n",
              "          quickchartButtonEl.style.display =\n",
              "            google.colab.kernel.accessAllowed ? 'block' : 'none';\n",
              "        })();\n",
              "      </script>\n",
              "    </div>\n",
              "\n",
              "    </div>\n",
              "  </div>\n"
            ],
            "application/vnd.google.colaboratory.intrinsic+json": {
              "type": "dataframe",
              "summary": "{\n  \"name\": \"pd\",\n  \"rows\": 4,\n  \"fields\": [\n    {\n      \"column\": \"Name\",\n      \"properties\": {\n        \"dtype\": \"string\",\n        \"num_unique_values\": 2,\n        \"samples\": [\n          \"Bob\",\n          \"Alice\"\n        ],\n        \"semantic_type\": \"\",\n        \"description\": \"\"\n      }\n    },\n    {\n      \"column\": \"Subject\",\n      \"properties\": {\n        \"dtype\": \"string\",\n        \"num_unique_values\": 2,\n        \"samples\": [\n          \"Science\",\n          \"Math\"\n        ],\n        \"semantic_type\": \"\",\n        \"description\": \"\"\n      }\n    },\n    {\n      \"column\": \"Score\",\n      \"properties\": {\n        \"dtype\": \"number\",\n        \"std\": 5,\n        \"min\": 78,\n        \"max\": 90,\n        \"num_unique_values\": 4,\n        \"samples\": [\n          78,\n          88\n        ],\n        \"semantic_type\": \"\",\n        \"description\": \"\"\n      }\n    }\n  ]\n}"
            }
          },
          "metadata": {},
          "execution_count": 11
        }
      ]
    },
    {
      "cell_type": "markdown",
      "source": [
        "**Time Series & Date Handling**"
      ],
      "metadata": {
        "id": "MOPQJ_cQzV54"
      }
    },
    {
      "cell_type": "code",
      "source": [
        "# Converting to Datetime — pd.to_datetime()\n",
        "# Ensures a column is stored as a datetime64 type.\n",
        "# Handles multiple date formats automatically.\n",
        "# Why? Datetime type allows you to extract parts like year/month/day, perform comparisons, and resample easily.\n",
        "\n",
        "df = pd.DataFrame({\n",
        "    'Date': ['2025-01-01', '2015/01/02', 'Jan 3, 2027']\n",
        "})\n",
        "df['Date'] = pd.to_datetime(df['Date'], format='mixed')"
      ],
      "metadata": {
        "id": "1l17-Tuyddft"
      },
      "execution_count": 20,
      "outputs": []
    },
    {
      "cell_type": "code",
      "source": [
        "# Extracting Date Parts — .dt Accessor ---- Once a column is datetime, use .dt to get components:\n",
        "df['Year']=df['Date'].dt.year\n",
        "df['Month']=df['Date'].dt.month\n",
        "df['Day']=df['Date'].dt.day\n",
        "df['Weekday']=df['Date'].dt.day_name();\n",
        "\n"
      ],
      "metadata": {
        "id": "aHCkCR3DddiW"
      },
      "execution_count": 23,
      "outputs": []
    },
    {
      "cell_type": "markdown",
      "source": [
        "Common frequency strings:\n",
        "\n",
        "'D' → Daily\n",
        "\n",
        "'W' → Weekly\n",
        "\n",
        "'ME' → Month-end\n",
        "\n",
        "'Q' → Quarter-end\n",
        "\n",
        "'Y' → Year-end"
      ],
      "metadata": {
        "id": "VRVu2E0L3K_p"
      }
    },
    {
      "cell_type": "code",
      "source": [
        "# Resampling Time Series — .resample()\n",
        "# Groups time series data into a new frequency (daily, monthly, yearly, etc.).\n",
        "# Requires a datetime index.\n",
        "\n",
        "df=pd.DataFrame({\n",
        "    'Date': pd.date_range(start='2025-01-01',periods=10,freq='D'),\n",
        "    'Sales': [100, 120, 90, 110, 150, 130, 170, 160, 180, 200]\n",
        "})\n",
        "print(df)\n",
        "df.set_index('Date',inplace=True)\n",
        "\n",
        "df1=df.resample('ME').mean()\n",
        "df2=df.resample('W').sum()\n",
        "print(\"monthly avg\",df1)\n",
        "print(\"monthly sum\",df2)"
      ],
      "metadata": {
        "id": "qKQpRVPlddlU",
        "colab": {
          "base_uri": "https://localhost:8080/"
        },
        "outputId": "50b141c8-3fcc-438e-fdca-1950ac15c066"
      },
      "execution_count": 29,
      "outputs": [
        {
          "output_type": "stream",
          "name": "stdout",
          "text": [
            "        Date  Sales\n",
            "0 2025-01-01    100\n",
            "1 2025-01-02    120\n",
            "2 2025-01-03     90\n",
            "3 2025-01-04    110\n",
            "4 2025-01-05    150\n",
            "5 2025-01-06    130\n",
            "6 2025-01-07    170\n",
            "7 2025-01-08    160\n",
            "8 2025-01-09    180\n",
            "9 2025-01-10    200\n",
            "monthly avg             Sales\n",
            "Date             \n",
            "2025-01-31  141.0\n",
            "monthly sum             Sales\n",
            "Date             \n",
            "2025-01-05    570\n",
            "2025-01-12    840\n"
          ]
        }
      ]
    },
    {
      "cell_type": "code",
      "source": [],
      "metadata": {
        "id": "u8jGgJhIddoD"
      },
      "execution_count": null,
      "outputs": []
    },
    {
      "cell_type": "code",
      "source": [],
      "metadata": {
        "id": "bx4o1PoAddq6"
      },
      "execution_count": null,
      "outputs": []
    }
  ]
}